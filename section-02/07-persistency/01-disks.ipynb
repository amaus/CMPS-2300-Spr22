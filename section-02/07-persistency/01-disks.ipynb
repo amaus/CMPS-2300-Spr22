{
 "cells": [
  {
   "cell_type": "markdown",
   "metadata": {},
   "source": [
    "# Persistence\n",
    "\n",
    "We're going to discuss general IO, how hard disks work, and finally how to design a robust file system.\n",
    "\n",
    "# Intro to I/O Devices\n",
    "\n",
    "Computers are designed as a hierarchy of devices which will have different speeds.\n",
    "\n",
    "CPU/Mem Bus is the fastest.\n",
    "\n",
    "Below this are busses that connect to other devices:\n",
    "\n",
    "- Graphics card\n",
    "- Hard Disk\n",
    "- Output device (monitors)\n",
    "- Bluetooth card\n",
    "- keyboard mouse, USB I/O\n",
    "- RGB lights\n",
    "- fans\n",
    "\n",
    "Accessing any IO device (except maybe the graphics card) is atleast an order of magnitude slower than executing instructions on the CPU.\n",
    "\n",
    "Many I/O devices have their own microprocessor of dedicated mini CPU so that they can execute independently from the main CPU.\n",
    "\n",
    "This allows the OS to delegate the work of performing the actual IO to devices.\n",
    "\n",
    "The OS makes requests of the hard disk.\n",
    "\n",
    "These requests are made through outward facing registers and a memory buffer:\n",
    "- COMMAND\n",
    "- STATUS\n",
    "- DATA\n",
    "\n",
    "The OS likes to write the disk is 4KB chunks.\n",
    "\n",
    "To write to some file, the OS will write the \"write\" command to COMMAND, then it will copy the 4KB to be written from memory to DATA.\n",
    "\n",
    "Then the hard disk will write the data to the disk.\n",
    "\n",
    "STATUS is used by the hard disk to post its status (busy, error statuses, etc).\n",
    "\n"
   ]
  }
 ],
 "metadata": {
  "language_info": {
   "name": "python"
  },
  "orig_nbformat": 4
 },
 "nbformat": 4,
 "nbformat_minor": 2
}
