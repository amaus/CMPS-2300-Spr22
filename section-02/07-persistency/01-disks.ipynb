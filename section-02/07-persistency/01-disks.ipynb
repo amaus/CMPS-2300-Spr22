{
 "cells": [
  {
   "cell_type": "markdown",
   "metadata": {},
   "source": [
    "# Persistence\n",
    "\n",
    "We're going to discuss general IO, how hard disks work, and finally how to design a robust file system.\n",
    "\n",
    "# Intro to I/O Devices\n",
    "\n",
    "Computers are designed as a hierarchy of devices which will have different speeds.\n",
    "\n",
    "CPU/Mem Bus is the fastest.\n",
    "\n",
    "Below this are busses that connect to other devices:\n",
    "\n",
    "- Graphics card\n",
    "- Hard Disk\n",
    "- Output device (monitors)\n",
    "- Bluetooth card\n",
    "- keyboard mouse, USB I/O\n",
    "- RGB lights\n",
    "- fans\n",
    "\n",
    "Accessing any IO device (except maybe the graphics card) is atleast an order of magnitude slower than executing instructions on the CPU.\n",
    "\n",
    "Many I/O devices have their own microprocessor of dedicated mini CPU so that they can execute independently from the main CPU.\n",
    "\n",
    "This allows the OS to delegate the work of performing the actual IO to devices.\n",
    "\n",
    "The OS makes requests of the hard disk.\n",
    "\n",
    "These requests are made through outward facing registers and a memory buffer:\n",
    "- COMMAND\n",
    "- STATUS\n",
    "- DATA\n",
    "\n",
    "The OS likes to write the disk is 4KB chunks.\n",
    "\n",
    "To write to some file, the OS will write the \"write\" command to COMMAND, then it will copy the 4KB to be written from memory to DATA.\n",
    "\n",
    "Then the hard disk will write the data to the disk.\n",
    "\n",
    "STATUS is used by the hard disk to post its status (busy, error statuses, etc).\n",
    "\n"
   ]
  },
  {
   "cell_type": "markdown",
   "metadata": {},
   "source": [
    "**A generic Hard Disk Protocol**\n",
    "\n",
    "```\n",
    "while(STATUS == busy):\n",
    "    spin;\n",
    "write data -> DATA\n",
    "write command -> COMMAND\n",
    "while(STATUS == busy):\n",
    "    spin;\n",
    "```\n",
    "\n",
    "This is horribly innefficient.\n",
    "\n",
    "## Hard Disk Interrupts\n",
    "\n",
    "To avoid the waiting and spinning, I/O devices use interrupts.\n",
    "\n",
    "When a process makes an IO request, the OS will issue the command to the hard disk, then put the process to sleep in the BLOCKED state.\n",
    "\n",
    "When the IO completes, the disk issues an interrupt, triggering the OS to run and change the state of the process from BLOCKED to READY.\n",
    "\n"
   ]
  },
  {
   "cell_type": "markdown",
   "metadata": {},
   "source": [
    "## Optimizing writing the data\n",
    "\n",
    "The OS likes to write in increments of 4KB.\n",
    "\n",
    "When a process want to write 4KB to disk, the OS must must copy every byte (all 4096 of them) from memory to DATA.\n",
    "\n",
    "During this time, the OS isn't running other processes, it is handling this request.\n",
    "\n",
    "For efficiencies sake, this job is dedicated to a piece of dedicated hardware: the **DMA** which stands for Direct Memory Access.\n",
    "\n",
    "When an IO request comes through, the OS tells the DMA what range of memory to write and the DMA copies that memory to DATA and issues the IO request to the hard disk."
   ]
  },
  {
   "cell_type": "markdown",
   "metadata": {},
   "source": [
    "# An intro to Hard Disks\n",
    "\n",
    "A hard disk has a physical spinning disk with multiple platters to which data is written.\n",
    "\n",
    "The platters are aluminum with magnetized top and bottom layers.\n",
    "\n",
    "Magnetic patterns are recorded to store 1's and 0's.\n",
    "\n",
    "Disks are organized into a set of sectors (512 bytes).\n",
    "\n",
    "Disks have concentric tracks which contain these sectors.\n",
    "\n",
    "Every magnetized layer has an arm and head which read/write data from/to the disk.\n",
    "\n",
    "## Key Constraints\n",
    "\n",
    "To read some sector from the disk, the arm first has to move to the correct track. This is called **seeking**. Then the sector must rotate to the head. Then finally it is read as it rotates under the head.\n",
    "\n",
    "`T_io = seek_time + rotation_time + transfer_time`"
   ]
  },
  {
   "cell_type": "markdown",
   "metadata": {},
   "source": [
    "<br>\n",
    "<img src=\"images/01-disk.png\" width=\"500\">\n",
    "<br>"
   ]
  }
 ],
 "metadata": {
  "language_info": {
   "name": "python"
  },
  "orig_nbformat": 4
 },
 "nbformat": 4,
 "nbformat_minor": 2
}
