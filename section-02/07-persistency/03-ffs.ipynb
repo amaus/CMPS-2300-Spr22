{
 "cells": [
  {
   "cell_type": "markdown",
   "metadata": {},
   "source": [
    "# The Fast File System"
   ]
  },
  {
   "cell_type": "markdown",
   "metadata": {},
   "source": [
    "VSFS is very slow. Data blocks and inodes can be very far away on disk, perhaps on the innermost and outermost tracks respectively.\n",
    "\n",
    "In practive, VSFS has very long seek times.\n",
    "\n",
    "Its terribly slow. VSFS was the original file system for UNIX. VSFS only achieves 2% of the bandwidth of the disk."
   ]
  },
  {
   "cell_type": "markdown",
   "metadata": {},
   "source": [
    "# Designing a Fast File System\n",
    "\n",
    "We need to account for the fact that system runs on a hard disk.\n",
    "\n",
    "It is much faster to access blocks that are close together rather than farther away.\n",
    "\n",
    "We want to avoid seek time.\n",
    "\n",
    "We want to store files and all of their meta data (inodes, bitmaps) close together on disk for efficiency.\n",
    "\n",
    "Theoretically, we can think of tracks that are close together as cylinder groups. E.g, tracks 0-20 across all platters look like a cylinder."
   ]
  },
  {
   "cell_type": "markdown",
   "metadata": {},
   "source": [
    "<br>\n",
    "<img src=\"images/11-cylinder.png\" width=\"500\">\n",
    "<br>"
   ]
  },
  {
   "cell_type": "markdown",
   "metadata": {},
   "source": [
    "Hard disks do not export geometric information so the OS doesn't know which blocks could belong to a cylinder group.\n",
    "\n",
    "In practice, file systems break up disk space into **block groups**. A **block group** is a consecutive set of blocks which will be close together on the disk."
   ]
  },
  {
   "cell_type": "markdown",
   "metadata": {},
   "source": [
    "<br>\n",
    "<img src=\"images/12-block-groups.png\" width=\"500\">\n",
    "<br>"
   ]
  },
  {
   "cell_type": "markdown",
   "metadata": {},
   "source": [
    "The idea of FFS is to strive to store a file and all of its metadata within the same block group.\n",
    "\n",
    "Every block group will have inodes, data blocks, bitmaps, and a super block.\n",
    "\n",
    "The super block isn't necessary, it's there for redudancy.\n",
    "\n",
    "**A Block Group**"
   ]
  },
  {
   "cell_type": "markdown",
   "metadata": {},
   "source": [
    "<br>\n",
    "<img src=\"images/13-block-group.png\" width=\"500\">\n",
    "<br>"
   ]
  },
  {
   "cell_type": "markdown",
   "metadata": {},
   "source": [
    "# Policy Considerations\n",
    "\n",
    "How do we decide which block groups to put files and directories? How do we handle large files?\n",
    "\n",
    "We want to store files that tend to be accessed together within the same block group.\n",
    "\n",
    "**Policies**\n",
    "- Creating a File\n",
    "    - Put it in the same block group as its parent directory. This way all files in a directory get put in the same block group. We keep inodes and data blocks for the file in that same block group.\n",
    "- Creating a Directories\n",
    "    - Put a new directory in a block group with plenty of free inodes, the more the better\n",
    "\n",
    "**Large Files**\n",
    "\n",
    "It is possible to have a file that is larger than a block group.\n",
    "\n",
    "We spread that file over multiple block groups.\n",
    "\n",
    "For overall system efficiency, after a file takes up some fraction of its block group, new data blocks will be put in a new block group.\n",
    "\n",
    "This is a tradeoff between the efficiency for accessing this file and the efficiency for the system overall.\n",
    "\n",
    "### Wrap-up\n",
    "\n",
    "Modern file systems (ext2, ext3, ext4) are all based on the Fast File System."
   ]
  }
 ],
 "metadata": {
  "language_info": {
   "name": "python"
  },
  "orig_nbformat": 4
 },
 "nbformat": 4,
 "nbformat_minor": 2
}
