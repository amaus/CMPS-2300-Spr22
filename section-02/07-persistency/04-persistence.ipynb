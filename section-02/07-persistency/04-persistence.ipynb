{
 "cells": [
  {
   "cell_type": "markdown",
   "metadata": {},
   "source": [
    "# Persistence and Consistency"
   ]
  },
  {
   "cell_type": "markdown",
   "metadata": {},
   "source": [
    "## Crash Consistency\n",
    "\n",
    "Since updates to the file system require multiple updates to the data structures of the file system, a crash in the middle of this process could lead to the file system ending up in some inconsistent state."
   ]
  },
  {
   "cell_type": "markdown",
   "metadata": {},
   "source": [
    "## Example\n",
    "\n",
    "To write to a new block in a file (whose inode has room to point to this data block), we need to update:\n",
    "\n",
    "- INODE\n",
    "- DATA BLOCK\n",
    "- data BITMAP\n",
    "\n",
    "### Crash Cases\n",
    "\n",
    "1) The DATA BLOCK is written, but nothing else.\n",
    "    - The user's data has been written, but neither the BITMAP nor INODE have.\n",
    "    - This is as if the data wasn't written since the inode doesn't refer to that data block. From the user's perspective, they lost data.\n",
    "    - From, the system's perspective, everything is still consistent. \n",
    "2) The BITMAP is written, but nothing else.\n",
    "    - The bitmap will day that the block is claimed, but the inode won't refer to it.Since no file refers to it, it can NEVER be freed.\n",
    "    - This is space leak. The file system is permanently 4KB smaller.\n",
    "    - The inodes and bitmaps disagree. The system is in an INCONSISTENT state.\n",
    "3) The INODE is written, but nothing else.\n",
    "    - The inode points to the data block, but the data block contains garbage. The file will likely get corrupted.\n",
    "    - The bitmap says its free so this data block might be allocated to a second file. If we have two files pointing to the same data block, they cna both corrupt each other at some distant point in the future.\n",
    "    - The user will lose data AND the sytem is in an INCONSISTENT state.\n",
    "4) The DATA BLOCK and BITMAP are written, but not the INODE.\n",
    "    - The system will be INCONSISTENT since the metadata disagrees.\n",
    "    - This is a space and the user loses data.\n",
    "5) The DATA BLOCK and INODE are written, but not the BITMAP.\n",
    "    - The system will be INCONSISTENT since the metadata disagrees.\n",
    "    - The data block can be allocated to a second file, leading to the same outcome\n",
    "    as case three.\n",
    "6) The BITMAP and INODE are written, but not the DATA BLOCK.\n",
    "    - The system will be consistent since the meta data agrees.\n",
    "    - The user loses data and the file is likely corrupted.\n"
   ]
  },
  {
   "cell_type": "markdown",
   "metadata": {},
   "source": [
    "# How to maintain consistency despite unexpected crashes\n",
    "\n",
    "One way is to fix inconsistencies on reboot. Scan all inodes and bitmaps and updating them if they don't agree.\n",
    "\n",
    "Of course, this is an expensive price to pay to fix a single inconsistency.\n",
    "\n",
    "The linux utility `fsck` does exactly this. On small systems, it could add seconds to minutes to boot time. On large systems, hours to days.\n",
    "\n",
    "Not ideal. A better way:"
   ]
  },
  {
   "cell_type": "markdown",
   "metadata": {},
   "source": [
    "# A Journaling File System\n",
    "\n",
    "To prevent inconsistencies, the file system maintains a journal.\n",
    "\n",
    "When a request comes along, the file system first records what it is about to do in the journal, then it actually does it.\n",
    "\n",
    "After a poweroff, the system checks the journal and completes any pending requests.\n",
    "\n",
    "If a crash occurs in the middle of writing to the journal, the write is lost, but the system is consistent.\n",
    "\n",
    "If a crash happens in the middle of writing to the disk, on reboot, the journal is replayed and the write is completed.\n",
    "\n",
    "The OS writes **transactions** to the journal. A **transaction** has a header and tail. If the tail is missing, then the system crashed in the middle of writing to the journal.\n",
    "\n",
    "Between the header and tail, the OS writes the inodes, bitmaps, and data blocks to be written to disk.\n",
    "\n",
    "This is not efficient. It effectively halves the speed of the disk by requiring everything to be written out twice."
   ]
  },
  {
   "cell_type": "markdown",
   "metadata": {},
   "source": [
    "The journal is stored after the super block. \n",
    "\n",
    "<br>\n",
    "<img src=\"images/14-fs-with-journal.png\" width=\"500\">\n",
    "<br>"
   ]
  },
  {
   "cell_type": "markdown",
   "metadata": {},
   "source": [
    "**A transaction**\n",
    "<br>\n",
    "<img src=\"images/15-journal.png\" width=\"500\">\n",
    "<br>"
   ]
  },
  {
   "cell_type": "markdown",
   "metadata": {},
   "source": [
    "Rather than write everything to the journal, just write the bitmaps and inodes.\n",
    "\n",
    "DON'T write the data blocks.\n",
    "\n",
    "Question: Should we write the data block before the journal transaction or after?\n",
    "\n",
    "**Case 1**: Write to the journal, then write data block to disk. \n",
    "\n",
    "What if the system crashes before writing the data block, what is the state of the file upon reboot?\n",
    "\n",
    "The file will be corrupted. The inode points to a garbage data block.\n",
    "\n",
    "**Case 2**: Write data block to disk, then transaction to journal.\n",
    "\n",
    "What if a crash happens between these two steps?\n",
    "\n",
    "The last write will be lost, but the file will NOT be corrupted.\n",
    "\n",
    "Our journaled file system goes with the second option, first write data block to disk, then transaction to journal."
   ]
  }
 ],
 "metadata": {
  "language_info": {
   "name": "python"
  },
  "orig_nbformat": 4
 },
 "nbformat": 4,
 "nbformat_minor": 2
}
