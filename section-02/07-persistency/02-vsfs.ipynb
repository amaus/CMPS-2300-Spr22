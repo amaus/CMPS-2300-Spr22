{
 "cells": [
  {
   "cell_type": "markdown",
   "metadata": {},
   "source": [
    "# Implementing a File System\n",
    "\n",
    "We will explore how to build a Very Simple File System (VSFS). The original file system for UNIX was very similar to VSFS.\n",
    "\n",
    "The OS views the hard disk as a set of N 4KB blocks that it read and write from/to.\n",
    "\n",
    "## How do we build a file system?\n",
    "\n",
    "What do we need to store?\n",
    "\n",
    "1) All of the users data, stored in files\n",
    "2) Per-file meta data: creation/modification time, permissions, size in bytes, # blocks required per file, ptrs to the blocks. \n",
    "3) Directories! Directories are just files. They contain a list of all files and directories within them."
   ]
  }
 ],
 "metadata": {
  "language_info": {
   "name": "python"
  },
  "orig_nbformat": 4
 },
 "nbformat": 4,
 "nbformat_minor": 2
}
