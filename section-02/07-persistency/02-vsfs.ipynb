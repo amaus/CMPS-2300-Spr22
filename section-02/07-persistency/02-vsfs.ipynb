{
 "cells": [
  {
   "cell_type": "markdown",
   "metadata": {},
   "source": [
    "# Implementing a File System\n",
    "\n",
    "We will explore how to build a Very Simple File System (VSFS). The original file system for UNIX was very similar to VSFS.\n",
    "\n",
    "The OS views the hard disk as a set of N 4KB blocks that it read and write from/to.\n",
    "\n",
    "<br>\n",
    "<img src=\"images/02-blocks.png\" width=\"500\">\n",
    "<br>\n",
    "\n",
    "## How do we build a file system?\n",
    "\n",
    "What do we need to store?\n",
    "\n",
    "1) All of the user's data, stored in files\n",
    "    - stored in **data blocks**\n",
    "2) Per-file meta data: creation/modification time, permissions, size in bytes, # blocks required per file, ptrs to the blocks. \n",
    "    - Metadata is stored in **inodes**. inodes are stored in **inodes blocks**.\n",
    "3) Directories! Directories are just files. They contain a list of all files and directories within them.\n",
    "4) A way to track which inode and data blocks are free.\n",
    "    - This is done using two bitmaps, the **inode blocks bitmap** and the **data blocks bitmap**\n",
    "5) Meta data for the entire file system: start/size of the data region, inodes region, bitmap locations, file system type, etc.\n",
    "    - Stored in the **super block**"
   ]
  },
  {
   "cell_type": "markdown",
   "metadata": {},
   "source": [
    "<br>\n",
    "<img src=\"images/04-blocks.png\" width=\"500\">\n",
    "<br>"
   ]
  },
  {
   "cell_type": "markdown",
   "metadata": {},
   "source": [
    "Whenever we want to create, read, or write to/from files, we will need to access and potentially update inodes, data blocks, and (sometime) bitmaps."
   ]
  },
  {
   "cell_type": "markdown",
   "metadata": {},
   "source": [
    "# Example Operations\n",
    "\n",
    "## Creating some file: /foo\n",
    "\n",
    "In order to create `/foo`, we need to update the ROOT so that it lists `foo` and we need to allocate an inode for this new file.\n",
    "\n",
    "Steps:\n",
    "1) read in the ROOT directory\n",
    "    - READ in the inode\n",
    "    - READ in its data block\n",
    "    - WRITE out the inode (update access time)\n",
    "2) create `/foo`\n",
    "    - READ in the inode bitmaps, find a free spot\n",
    "    - WRITE out the updated bitmap\n",
    "    - WRITE out the inode for `/foo`\n",
    "3) update the ROOT directory\n",
    "    - WRITE out ROOT's data block to include `foo`\n",
    "    - WRITE out the updated inode: modification time, size, etc."
   ]
  },
  {
   "cell_type": "markdown",
   "metadata": {},
   "source": [
    "## Read a file: /foo/bar\n",
    "\n",
    "1) read in the ROOT directory\n",
    "    - READ in the inode\n",
    "    - READ in its data block to find out `foo`'s inode number\n",
    "    - WRITE out the inode (update access time)\n",
    "2) read in `foo`\n",
    "    - READ in its inode\n",
    "    - READ in its data block to find out `bar`'sw inode number\n",
    "    - WRITE out the inode (update access time)\n",
    "3) read in `bar`\n",
    "    - READ in its inode\n",
    "    - READ in its data block(s)\n",
    "    - WRITE out the inode (update access time)\n",
    "\n"
   ]
  },
  {
   "cell_type": "markdown",
   "metadata": {},
   "source": [
    "<br>\n",
    "<img src=\"images/05-read-foo-bar.png\" width=\"500\">\n",
    "<br>"
   ]
  },
  {
   "cell_type": "markdown",
   "metadata": {},
   "source": [
    "## Write to file: /foo/bar\n",
    "\n",
    "<br>\n",
    "<img src=\"images/06-write-foo-bar.png\" width=\"500\">\n",
    "<br>"
   ]
  }
 ],
 "metadata": {
  "language_info": {
   "name": "python"
  },
  "orig_nbformat": 4
 },
 "nbformat": 4,
 "nbformat_minor": 2
}
