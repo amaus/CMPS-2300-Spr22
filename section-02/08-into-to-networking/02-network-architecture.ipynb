{
 "cells": [
  {
   "cell_type": "markdown",
   "metadata": {},
   "source": [
    "# Network Architecture"
   ]
  },
  {
   "cell_type": "markdown",
   "metadata": {},
   "source": [
    "The architecture of the Internet has allowed it to be scalable.\n",
    "\n",
    "## Lowest Level: Individual computers linked together\n",
    "\n",
    "Can be a single direct link, or a shared link supporting multiple devices.\n",
    "\n",
    "Single Line: a cable\n",
    "\n",
    "Multiple Device Link: Wifi, Bluetooth, etc."
   ]
  },
  {
   "cell_type": "markdown",
   "metadata": {},
   "source": [
    "<br>\n",
    "<img src=\"images/01-links.png\" width=\"400\">\n",
    "<br>"
   ]
  },
  {
   "cell_type": "markdown",
   "metadata": {},
   "source": [
    "## Level Two: Networks built of our groups of devices.\n",
    "\n",
    "In larger local networks, we might need multiple switches to connect more devices and route traffic between them.\n",
    "\n",
    "Examples of **switches**: ethernet switch, wifi router"
   ]
  },
  {
   "cell_type": "markdown",
   "metadata": {},
   "source": [
    "<br>\n",
    "<img src=\"images/02-switched-network.png\" width=\"400\">\n",
    "<br>"
   ]
  },
  {
   "cell_type": "markdown",
   "metadata": {},
   "source": [
    "Examples: Universies, Businesses, etc."
   ]
  },
  {
   "cell_type": "markdown",
   "metadata": {},
   "source": [
    "## Level 3: Inteconnected Networks\n",
    "\n",
    "Local networks are connected together through **gateways**\n",
    "\n",
    "A home network's router is its gateway to the wider internet through its Internet Service Provider (ISP).\n",
    "\n",
    "ISPs route traffic within their network, but they also have gateways to route traffic to neighboring ISPs as well."
   ]
  },
  {
   "cell_type": "markdown",
   "metadata": {},
   "source": [
    "<br>\n",
    "<img src=\"images/03-internetwork.png\" width=\"400\">\n",
    "<br>"
   ]
  },
  {
   "cell_type": "markdown",
   "metadata": {},
   "source": [
    "This is an interconnected network of networks, AKA an \"internet\".\n",
    "\n",
    "\"Internet\" with a \"I\" is the global internet we commonly refer to.\n",
    "\n",
    "\"internet\" is the general idea of an interconnected network."
   ]
  },
  {
   "cell_type": "markdown",
   "metadata": {},
   "source": [
    "## Communicating Acroos Switches: Packets\n",
    "\n",
    "Communicating across switches is done by sending packets.\n",
    "\n",
    "A **packet** is a single message of limited size that can be sent through a network.\n",
    "\n",
    "Packets contain the user's message, but also have a sectionfor meta data (destination, source, size of message, etc.)\n",
    "\n",
    "Switches accept and forward packets across a network. They can accept packets from many devices at once.\n",
    "\n",
    "For fairness, when forwarding devices they interleave the packets so that one device doesn't dominate the switches link."
   ]
  },
  {
   "cell_type": "markdown",
   "metadata": {},
   "source": [
    "<br>\n",
    "<img src=\"images/05-packet-switched-link.png\" width=\"400\">\n",
    "<br>"
   ]
  },
  {
   "cell_type": "markdown",
   "metadata": {},
   "source": [
    "If a switch receives packets faster than it can send them, packets will be dropped.\n",
    "\n",
    "Switches store incoming packets in a queue, and if that queue gets full, future incoming packets will be dropped until there is room in the queue."
   ]
  },
  {
   "cell_type": "markdown",
   "metadata": {},
   "source": [
    "## Abstraction an Networking\n",
    "\n",
    "Since networks are highly complex and there is alot of detail to how everything works together, it is useful to ignore lower level details when thinking about one aspect of networking.\n",
    "\n",
    "A chief abstraction is that of a communications channel.\n",
    "\n",
    "Channels are direct connections between programs running on the internet. "
   ]
  }
 ],
 "metadata": {
  "language_info": {
   "name": "python"
  },
  "orig_nbformat": 4
 },
 "nbformat": 4,
 "nbformat_minor": 2
}
