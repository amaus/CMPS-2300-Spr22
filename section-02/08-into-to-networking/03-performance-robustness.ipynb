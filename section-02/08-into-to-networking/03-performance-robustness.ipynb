{
 "cells": [
  {
   "cell_type": "markdown",
   "metadata": {},
   "source": [
    "# Performance\n",
    "\n",
    "The amount of time it takes to tranfer data over a network is a function of the network's **latency** and **bandwidth**.\n",
    "\n",
    "**Latency** is how long it takes from when the first bit is sent to when it arrives at its destination.\n",
    "\n",
    "**Bandwidth** is the amount of BITs that can be transmitted over a network in a given amount of time: one second.\n",
    "\n",
    "E.g., 10 Mbps (mega-bits per second) 10 million bits per second. The mega refers to 10^6. It not to be confused with MB (mega bytes).\n",
    "\n",
    "Why the discrepency? Network bandwidth is governed by the clock that paces how fast bits can be sent. 10MHz clock can transmit 10Mbps.\n",
    "\n",
    "\n"
   ]
  },
  {
   "cell_type": "markdown",
   "metadata": {},
   "source": [
    "Example: Sending a 25MB image at 10Mbps:\n",
    "\n",
    "\n",
    "$25MB = 8 * 1024 * 1024 * 25 =$ 209,715,200 bits\n",
    "\n",
    "$10Mbps = 10*10^6$ bits/second\n",
    "\n",
    "$209,715,200/(10*10^6) = 20.97$ seconds\n",
    "\n",
    "\n"
   ]
  }
 ],
 "metadata": {
  "language_info": {
   "name": "python"
  },
  "orig_nbformat": 4
 },
 "nbformat": 4,
 "nbformat_minor": 2
}
