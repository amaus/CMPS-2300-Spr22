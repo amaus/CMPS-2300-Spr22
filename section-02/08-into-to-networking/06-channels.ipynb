{
 "cells": [
  {
   "cell_type": "markdown",
   "metadata": {},
   "source": [
    "# End-to-End Channels\n",
    "\n",
    "A channel is an open connection between two programs running over a network.\n",
    "\n",
    "Our channels run over the IP protocol which specifies IP addresses for hosts on the network.\n",
    "\n",
    "Our channels add extra information on top of this."
   ]
  },
  {
   "cell_type": "markdown",
   "metadata": {},
   "source": [
    "<br>\n",
    "<img src=\"images/06-channel.png\" width=\"400\">\n",
    "<br>"
   ]
  },
  {
   "cell_type": "markdown",
   "metadata": {},
   "source": [
    "UDP (User Datagram Protocol) is out unreliable channel.\n",
    "\n",
    "TCP (Transmission Control Protocol) is our reliable channel."
   ]
  },
  {
   "cell_type": "markdown",
   "metadata": {},
   "source": [
    "# User Datagram Protocol\n",
    "\n",
    "When using UDP, packets are simply sent towards their destination.\n",
    "\n",
    "If they don't arrive, no corrective action is taken.\n",
    "\n",
    "UDP adds on top of IP, the ability to specify which application packets should be forwarded to on the destination.\n",
    "\n",
    "**UDP Header**\n",
    "\n",
    "A UDP header is prepended to the data to be sent."
   ]
  },
  {
   "cell_type": "markdown",
   "metadata": {},
   "source": [
    "<br>\n",
    "<img src=\"images/21-udp.png\" width=\"400\">\n",
    "<br>"
   ]
  },
  {
   "cell_type": "markdown",
   "metadata": {},
   "source": [
    "From here, an IP header will be prepended as well and the whole packet sent to its destination."
   ]
  },
  {
   "cell_type": "markdown",
   "metadata": {},
   "source": [
    "# Transmission Control Protocol\n",
    "\n",
    "TCP opens a two-way byte stream between processes.\n",
    "\n",
    "TCP buffers the data to be sent, breaks it into segments, and sends them as packets over the network."
   ]
  },
  {
   "cell_type": "markdown",
   "metadata": {},
   "source": [
    "<br>\n",
    "<img src=\"images/22-tcp-byte-stream.png\" width=\"400\">\n",
    "<br>"
   ]
  },
  {
   "cell_type": "markdown",
   "metadata": {},
   "source": [
    "TCP guarantees that eventually all data will arrive.\n",
    "\n",
    "It does this via the **sliding window algorithm**"
   ]
  },
  {
   "cell_type": "markdown",
   "metadata": {},
   "source": [
    "## Ensuring Packets Arrive\n",
    "\n",
    "TCP acheives reliability using special ACKnowledgement packets (ACKs) and timeouts.\n",
    "\n",
    "### Stop and Wait\n",
    "\n",
    "The simplest way is to wait for every packet to be ACK'd before sending the next packet.\n",
    "\n"
   ]
  },
  {
   "cell_type": "markdown",
   "metadata": {},
   "source": [
    "<br>\n",
    "<img src=\"images/23-stop-wait.png\" width=\"300\">\n",
    "<br>"
   ]
  },
  {
   "cell_type": "markdown",
   "metadata": {},
   "source": [
    "There are four scenarios for transmitting a single packet:\n",
    "\n",
    "<br>\n",
    "<img src=\"images/24-stop-wait-cases.png\" width=\"400\">\n",
    "<br>"
   ]
  },
  {
   "cell_type": "markdown",
   "metadata": {},
   "source": [
    "Stop and wait is not efficient since a whole round trip time has to elapse for every single packet. "
   ]
  },
  {
   "cell_type": "markdown",
   "metadata": {},
   "source": [
    "A crucial property of networks is the amount of data that can be in transit as any given time.\n",
    "\n",
    "If we have a nework with a bandwidth of 1Mbps and a latency of 10 seconds, there are 10 Mbits \"on the wire\" at any given time.\n",
    "\n",
    "This is our bandwidth x latency product and gives a measure of how many packets a sender can transmit before the first arrives.\n",
    "\n",
    "We can send many packets while waiting for ACKs for those packets."
   ]
  },
  {
   "cell_type": "markdown",
   "metadata": {},
   "source": [
    "## The Sliding Window Algorithm\n",
    "\n",
    "We send multiple packets at a time in order to better utilize the network capacity.\n",
    "\n",
    "If we don't get an ACK before the timeout for some individual packet, it will be resent.\n",
    "\n",
    "If the entire message if a contiguous set of packets to be sent, then there will be some window of those packets which we have sent and are awaiting ACK's for.\n",
    "\n",
    "As ACK's arrive, the window moves forward:"
   ]
  },
  {
   "cell_type": "markdown",
   "metadata": {},
   "source": [
    "<br>\n",
    "<img src=\"images/25-sliding-window.png\" width=\"400\">\n",
    "<br>"
   ]
  },
  {
   "cell_type": "markdown",
   "metadata": {},
   "source": [
    "SWS: \"Sending Window Size\"\n",
    "\n",
    "LFS: \"Last Frame Sent\"\n",
    "\n",
    "LAR: \"Latest ACK Received\"\n",
    "\n",
    "The next packet is not sent until the packet immediately to the right of LAR is ACK'd.\n",
    "\n",
    "The window moves forward as packets sent furthest in the past are ACK'd"
   ]
  },
  {
   "cell_type": "markdown",
   "metadata": {},
   "source": [
    "<br>\n",
    "<img src=\"images/26-sw-timeline.png\" width=\"300\">\n",
    "<br>"
   ]
  },
  {
   "cell_type": "markdown",
   "metadata": {},
   "source": [
    "<br>\n",
    "<img src=\"images/27-tcp.png\" width=\"300\">\n",
    "<br>"
   ]
  },
  {
   "cell_type": "markdown",
   "metadata": {},
   "source": [
    "SeqeunceNum and AdvertisedWindow are used by Sliding Window.\n",
    "\n",
    "AdvertisedWindow is set by the receiver based on the size of its buffer for incoming data.\n",
    "\n",
    "Acknowledgement is a field that allows for information to be passed back and forth by the TCP protocol.\n",
    "\n",
    "Flags is a field that allows for the type of this TCP packet to be specified:\n",
    "- ACK\n",
    "- SYN: is a special packet that is sent to start to establish a TCP Channel\n",
    "- FIN: used to tear down a TCP channel\n",
    "- PUSH: indicates that the receiving process should be notified when this packet arrives\n",
    "- URG: indicates that this packet contains urgent data"
   ]
  },
  {
   "cell_type": "markdown",
   "metadata": {},
   "source": [
    "# Setting up a TCP Channel\n",
    "\n",
    "To set up a TCP channel, the sender and receiver need to agree on their respective SequenceNumbers.\n",
    "\n",
    "SequenceNumbers refer to byte numbers and the SequenceNumber of a packet indicates the byte number of the first byte in that packet.\n",
    "\n",
    "TCP channels are established using a three-way handshake.\n",
    "\n"
   ]
  },
  {
   "cell_type": "markdown",
   "metadata": {},
   "source": [
    "<br>\n",
    "<img src=\"images/28-three-way-handshake.png\" width=\"300\">\n",
    "<br>"
   ]
  },
  {
   "cell_type": "markdown",
   "metadata": {},
   "source": [
    "The purpose is to agree on sequence numbers.\n",
    "\n",
    "The client and server randomly pick their own starting sequence numbers indepedently.\n",
    "\n",
    "The client starts by sending a SYN packet listing its SequenceNumber.\n",
    "\n",
    "The server responds with a SYN-ACK, listing its SequenceNumber and acknowledging the client's.\n",
    "\n",
    "The client responds with an ACK, acknowledging the server's sequence number.\n",
    "\n",
    "Why choose sequence numbers randomly?\n",
    "\n",
    "It is possible for many incarnations of the same TCP channel to be created one after another.\n",
    "\n",
    "If a packet from a previous incarnation arrives VERY LATE, but has a valid sequence number for the current incarnation, it will be incorrectly accepted.\n",
    "\n",
    "By choosing sequence numbers randomly, the chance of this happening is negligible."
   ]
  }
 ],
 "metadata": {
  "language_info": {
   "name": "python"
  },
  "orig_nbformat": 4
 },
 "nbformat": 4,
 "nbformat_minor": 2
}
