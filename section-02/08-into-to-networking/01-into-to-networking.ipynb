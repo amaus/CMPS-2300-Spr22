{
 "cells": [
  {
   "cell_type": "markdown",
   "metadata": {},
   "source": [
    "# Introduction to Networking\n",
    "\n",
    "Goals for designing computer networks:\n",
    "\n",
    "1) Must be general purpose (not geared towards any specific purpose like telephone or TV networks)\n",
    "2) Must support a diverse and growing set of applications.\n",
    "3) Must be able to grow to be arbitarily large.\n",
    "4) While still providing high performance and robustness."
   ]
  },
  {
   "cell_type": "markdown",
   "metadata": {},
   "source": [
    "# Different Requirements on the Network\n",
    "\n",
    "## The World Wide Web\n",
    "\n",
    "When we request a web page, we want the whole thing.\n",
    "\n",
    "We want reliability, a guarantee that all of the data will arrive.\n",
    "\n",
    "A little latency isn't a deal breaker.\n",
    "\n",
    "When sending data, it's broken packets and there is NO guarantee that any individual packet will arrive.\n",
    "\n",
    "The \"TCP\" protocol adds in overhead in being able to resend missing packets.\n",
    "\n"
   ]
  },
  {
   "cell_type": "markdown",
   "metadata": {},
   "source": [
    "## Video Calls or Streaming\n",
    "\n",
    "If a single frame is missing from a stream, we will not notice, but if there is lag we will.\n",
    "\n",
    "We need this to stay real-time in order to be useful."
   ]
  }
 ],
 "metadata": {
  "language_info": {
   "name": "python"
  },
  "orig_nbformat": 4
 },
 "nbformat": 4,
 "nbformat_minor": 2
}
