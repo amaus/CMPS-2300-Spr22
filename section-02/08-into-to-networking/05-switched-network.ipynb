{
 "cells": [
  {
   "cell_type": "markdown",
   "metadata": {},
   "source": [
    "# Switched Network\n",
    "\n",
    "## Key Device: a Bridge\n",
    "\n",
    "A bridge is a device that connects two groups of hosts:"
   ]
  },
  {
   "cell_type": "markdown",
   "metadata": {},
   "source": [
    "<br>\n",
    "<img src=\"images/18-simple-bridge.png\" width=\"400\">\n",
    "<br>"
   ]
  },
  {
   "cell_type": "markdown",
   "metadata": {},
   "source": [
    "The links on either side of the bridge are shared.\n",
    "\n",
    "If A broadcasts a message to B, B will receive it since it is on the shared link.\n",
    "\n",
    "The job of the bridge is to decide whether to broadcast a message over to the other side.\n",
    "\n",
    "A simple bridge keeps a table of hosts connected to each of its ports:\n",
    "\n",
    "```\n",
    "Host | Port\n",
    "-----------\n",
    "  A  |  1\n",
    "  B  |  1\n",
    "  C  |  1\n",
    "  X  |  2\n",
    "  Y  |  2\n",
    "  Z  |  2\n",
    "```"
   ]
  },
  {
   "cell_type": "markdown",
   "metadata": {},
   "source": [
    "With this table, the bridge can always decide whether it needs to forward a packet to the another port."
   ]
  },
  {
   "cell_type": "markdown",
   "metadata": {},
   "source": [
    "# Building the Table\n",
    "\n",
    "For small static networks, the table could be hard coded.\n",
    "\n",
    "For dynamic networks, the table is learned as packets are received.\n",
    "\n",
    "The forwarding table starts empty. When the bridge receives a packet on one of its ports, an entry is added listing the host and its port.\n",
    "\n",
    "Every entry has a Time To Live (TTL). If the TTL for an entry expires before another packet arrives from its host, that entry is dropped. "
   ]
  },
  {
   "cell_type": "markdown",
   "metadata": {},
   "source": [
    "# A More Complicated Switched Network\n",
    "\n",
    "Many switched networks consist of switches with hosts connected to them."
   ]
  },
  {
   "cell_type": "markdown",
   "metadata": {},
   "source": [
    "<br>\n",
    "<img src=\"images/19-learning-bridges.png\" width=\"400\">\n",
    "<br>"
   ]
  },
  {
   "cell_type": "markdown",
   "metadata": {},
   "source": [
    "Most network topologies are not acyclic in order to provide redundant paths. \n",
    "\n",
    "We don't want packets to get stuck in loops in the network.\n",
    "\n",
    "We need to configure the forwarding tables of the network so that the network overall looks like an acyclic graph.\n",
    "\n",
    "In other words, we want to use only a set of active links so that the graph looks like a tree."
   ]
  },
  {
   "cell_type": "markdown",
   "metadata": {},
   "source": [
    "<br>\n",
    "<img src=\"images/20-learning-bridges-spanning.png\" width=\"400\">\n",
    "<br>"
   ]
  },
  {
   "cell_type": "markdown",
   "metadata": {},
   "source": [
    "This is exactly the problem of identifying a spanning tree on the graph of this network.\n",
    "\n",
    "Every switch only has a local view of the network. It knows its ports and which packets it received on those ports.\n",
    "\n",
    "Yet they all in concert need to configure their individual forwarding tables to have no cycles.\n",
    "\n",
    "We will discuss a distributed algorithm for determing the minimum spanning tree on network graphs."
   ]
  }
 ],
 "metadata": {
  "language_info": {
   "name": "python"
  },
  "orig_nbformat": 4
 },
 "nbformat": 4,
 "nbformat_minor": 2
}
