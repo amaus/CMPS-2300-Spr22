{
 "cells": [
  {
   "cell_type": "markdown",
   "metadata": {},
   "source": [
    "# Switched Network\n",
    "\n",
    "## Key Device: a Bridge\n",
    "\n",
    "A bridge is a device that connects two groups of hosts:"
   ]
  },
  {
   "cell_type": "markdown",
   "metadata": {},
   "source": [
    "<br>\n",
    "<img src=\"images/18-simple-bridge.png\" width=\"400\">\n",
    "<br>"
   ]
  },
  {
   "cell_type": "markdown",
   "metadata": {},
   "source": [
    "The links on either side of the bridge are shared.\n",
    "\n",
    "If A broadcasts a message to B, B will receive it since it is on the shared link.\n",
    "\n",
    "The job of the bridge is to decide whether to broadcast a message over to the other side.\n",
    "\n",
    "A simple bridge keeps a table of hosts connected to each of its ports:\n",
    "\n",
    "```\n",
    "Host | Port\n",
    "-----------\n",
    "  A  |  1\n",
    "  B  |  1\n",
    "  C  |  1\n",
    "  X  |  2\n",
    "  Y  |  2\n",
    "  Z  |  2\n",
    "```"
   ]
  },
  {
   "cell_type": "markdown",
   "metadata": {},
   "source": [
    "With this table, the bridge can always decide whether it needs to forward a packet to the another port."
   ]
  },
  {
   "cell_type": "markdown",
   "metadata": {},
   "source": [
    "# Building the Table\n",
    "\n",
    "For small static networks, the table could be hard coded.\n",
    "\n",
    "For dynamic networks, the table is learned as packets are received.\n",
    "\n",
    "The forwarding table starts empty. When the bridge receives a packet on one of its ports, an entry is added listing the host and its port.\n",
    "\n",
    "Every entry has a Time To Live (TTL). If the TTL for an entry expires before another packet arrives from its host, that entry is dropped. "
   ]
  },
  {
   "cell_type": "markdown",
   "metadata": {},
   "source": [
    "# A More Complicated Switched Network\n",
    "\n",
    "Many switched networks consist of switches with hosts connected to them."
   ]
  },
  {
   "cell_type": "markdown",
   "metadata": {},
   "source": [
    "<br>\n",
    "<img src=\"images/19-learning-bridges.png\" width=\"400\">\n",
    "<br>"
   ]
  },
  {
   "cell_type": "markdown",
   "metadata": {},
   "source": [
    "Most network topologies are not acyclic in order to provide redundant paths. \n",
    "\n",
    "We don't want packets to get stuck in loops in the network.\n",
    "\n",
    "We need to configure the forwarding tables of the network so that the network overall looks like an acyclic graph.\n",
    "\n",
    "In other words, we want to use only a set of active links so that the graph looks like a tree."
   ]
  },
  {
   "cell_type": "markdown",
   "metadata": {},
   "source": [
    "<br>\n",
    "<img src=\"images/20-learning-bridges-spanning.png\" width=\"400\">\n",
    "<br>"
   ]
  },
  {
   "cell_type": "markdown",
   "metadata": {},
   "source": [
    "This is exactly the problem of identifying a spanning tree on the graph of this network.\n",
    "\n",
    "Every switch only has a local view of the network. It knows its ports and which packets it received on those ports.\n",
    "\n",
    "Yet they all in concert need to configure their individual forwarding tables to have no cycles.\n",
    "\n",
    "We will discuss a distributed algorithm for determing the spanning tree on network graphs."
   ]
  },
  {
   "cell_type": "markdown",
   "metadata": {},
   "source": [
    "## Distributed Algorithm for Determining a Spanning Tree over a Switched Network\n",
    "\n",
    "At system boot, every switch needs to decide which ports to forward packets over.\n",
    "\n",
    "No switch has a global view of the network, but they must still agree together which edges to use.\n",
    "\n",
    "Strategy: All switches must decide \n",
    "- who the root is\n",
    "- which preferred port to use to have the shortest path to root\n",
    "\n",
    "They do this by exchanging configuration messages.\n",
    "\n",
    "Configuration messages contain:\n",
    "- The ID of the sender\n",
    "- The ID of the switch the sender thinks is the root\n",
    "- The distance in hops from the sender to the root\n",
    "\n",
    "At the end of the process, the switch with the smallest ID will be the root of the network.\n",
    "\n",
    "Every switch will track three pieces:\n",
    "- who the root is\n",
    "- how far away the root is\n",
    "- which port to use to communicate towards the root\n",
    "\n",
    "When a configuration message is received, a switch will update its configuration is:\n",
    "- the message identifies a root with a smaller ID\n",
    "    - Update who the root is and distance to the root.\n",
    "- the message identifies the same root, but the sender is closer to the root\n",
    "    - Update the port to use and distance to root\n",
    "- the message identifies the same root and distance, but the sender has a smaller ID than the current preferred port\n",
    "    - Update the preferred port to go through the switch with the smaller ID\n",
    "\n",
    "Once a switch is no longer the root, it does not originate message it only forwards along the roots messaged (with an updated distance) along the preferred ports.\n",
    "\n",
    "At the end of this, only the root is periodically sending messages.\n",
    "\n",
    "If any switch stops receiving messages, it assumes the root is down and starts broadcasting configuration messages again.\n",
    "\n",
    "The process will continue and a new spanning tree will be arrived at.\n",
    "\n"
   ]
  }
 ],
 "metadata": {
  "language_info": {
   "name": "python"
  },
  "orig_nbformat": 4
 },
 "nbformat": 4,
 "nbformat_minor": 2
}
