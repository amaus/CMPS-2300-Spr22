{
 "cells": [
  {
   "cell_type": "markdown",
   "metadata": {},
   "source": [
    "# Communicating over a link\n",
    "\n",
    "At the hardware level, we need to transmit discrete digital data over a medium that accepts signals in come continuous range: eg, voltages over a wire.\n",
    "\n",
    "Network adapters encode and decode the signal they send and receive."
   ]
  },
  {
   "cell_type": "markdown",
   "metadata": {},
   "source": [
    "<br>\n",
    "<img src=\"images/15-network-adapter.png\" width=\"400\">\n",
    "<br>"
   ]
  },
  {
   "cell_type": "markdown",
   "metadata": {},
   "source": [
    "For simplicity, we'll assume that we have a HIGH and LOW signal. HIGH is 1 and LOW is 0.\n",
    "\n",
    "Network adapters have two major challenges:\n",
    "\n",
    "1) They need to keep a threshold to distinguish between HIGH and LOW.\n",
    "2) They need to keep synchronized clocks so that the receiver knows when to read bits.\n",
    "\n",
    "To distinguish between HIGH and LOW, we can keep a running average of the signal received. \n",
    "\n",
    "If we receive long strings of 1's or 0's, the running average might get thrown off.\n",
    "\n",
    "We need an encoding that doesn't allow for long strings of 0's or 1's.\n",
    "\n",
    "The receiver calibrates its clock based on the transitions between signals since it knows that sender only transitions bits on clock ticks.\n",
    "\n",
    "If there aren't transitions, then the receivers clock can drift.\n",
    "\n",
    "Long strings of 0's and 1's can cause the clocks to get out of sync."
   ]
  },
  {
   "cell_type": "markdown",
   "metadata": {},
   "source": [
    "## 4B/5B encoding\n",
    "\n",
    "4B/5B is a simple encoding where every 4 bits to be sent are encoded and sent as a 5 bit sequence.\n",
    "\n",
    "4B/5B can be expressed as a 16 entry table giving the 5 bits to transmit for every 5 bit sequence.\n",
    "\n",
    "<br>\n",
    "<img src=\"images/16-4b5b.png\" width=\"250\">\n",
    "<br>"
   ]
  },
  {
   "cell_type": "markdown",
   "metadata": {},
   "source": [
    "## Dealing with bit errors\n",
    "\n",
    "Even with working adapters, bit errors are still possible: electrical interference, cosmics rays, signal interference. \n",
    "\n",
    "Errors can be detected with **error detecting codes**.\n",
    "\n",
    "A **checksum** is an error detecting code. It is the sum of the bits of the message.\n",
    "\n",
    "With enough extra information, it is possible to detect and correct errors: **error correction codes**.\n",
    "\n"
   ]
  },
  {
   "cell_type": "markdown",
   "metadata": {},
   "source": [
    "## Cyclic Redundancy Check\n",
    "\n",
    "It is an application of a branch of mathematics known as finite. \n",
    "\n",
    "We can think about a bit sequence as representing a polynomial.\n",
    "\n",
    "E.g, 1101\n",
    "\n",
    "would represent $x^3 + x^2 + 1$\n",
    "\n",
    "We can divide polynomials.\n",
    "\n",
    "Given two polynomials `a` and `b`. If `a` is higher order than `b`, `a`/`b` will either be 0 if `b` evenly divides `a` or some remainder.\n",
    "\n",
    "In CRC, the sender and receiver agree on a common divisor polynomial.\n",
    "\n",
    "When the sender wants to send a message, it modifies the message to be evenly divisible by the divisor polynomial.\n",
    "\n",
    "On receiving it, the receiver can check if it is divisible. If so, no bit errors detected. If not, bit errors detected."
   ]
  },
  {
   "cell_type": "markdown",
   "metadata": {},
   "source": [
    "### The algorithm\n",
    "\n",
    "Given a divisor polynomial `D` of degree `k`, to modify a message `M`:\n",
    "\n",
    "1) shift `M` to the left `k` bits, giving us modified message `T`.\n",
    "2) Calculate the remainder `R` of `T`/`D`. \n",
    "3) Subtract the remainder `R` from `T` by XOR'ing `R` and `T`.\n",
    "\n",
    "The final message will be the original message with the remainder of the division appended to it.\n",
    "\n",
    "With a 32 bit CRC error detection message, CRC can detect and correct bit errors in\n",
    "messages up to 1500 bytes (12000 bits) large."
   ]
  },
  {
   "cell_type": "markdown",
   "metadata": {},
   "source": [
    "Example Scratch space\n",
    "\n",
    "```\n",
    "Divisor Polynomial: 1101\n",
    "Message M:            01011101\n",
    "Degree of divisor: 3\n",
    "Shift M to left 3 bits\n",
    "T:                    01011101000\n",
    "Remainder R (made up!):       110\n",
    "XOR T and R\n",
    "Final message:        01011101110\n",
    "```\n",
    "\n"
   ]
  }
 ],
 "metadata": {
  "language_info": {
   "name": "python"
  },
  "orig_nbformat": 4
 },
 "nbformat": 4,
 "nbformat_minor": 2
}
