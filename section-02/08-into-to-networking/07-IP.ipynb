{
 "cells": [
  {
   "cell_type": "markdown",
   "metadata": {},
   "source": [
    "# The Internet Protocol\n",
    "\n",
    "internets are built as interconnected networks. They can be built out of many different types of subnetworks: wifi, ethernet, satellite, etc.\n",
    "\n"
   ]
  },
  {
   "cell_type": "markdown",
   "metadata": {},
   "source": [
    "<br>\n",
    "<img src=\"images/29-internet.png\" width=\"300\">\n",
    "<br>"
   ]
  },
  {
   "cell_type": "markdown",
   "metadata": {},
   "source": [
    "The IP protocol is designed to span these varying technologies, including technologies that haven't been invented. It is also designed to be able to scale indefinitely.\n",
    "\n",
    "To do this, the IP protocol was designed to provide as few guarantees as possible since every guarantee would be a constraint which could rule out some underlying technology from being used.\n",
    "\n",
    "A **service model** is the set of guarantees that some protocol provides.\n",
    "\n",
    "IP's Service Model:\n",
    "- Connectionless: persistent open channels are not provided\n",
    "- Best effort on delivery: no guarantee that any individual packet will arrive\n",
    "\n",
    "This requires the least amount of overhead and is easiest to implement on any underlying hardware.\n",
    "\n",
    "IP runs on top of all underlying hardware."
   ]
  },
  {
   "cell_type": "markdown",
   "metadata": {},
   "source": [
    "<br>\n",
    "<img src=\"images/30-protocol-stack.png\" width=\"400\">\n",
    "<br>"
   ]
  },
  {
   "cell_type": "markdown",
   "metadata": {},
   "source": [
    "## The IP Protocol Definition\n",
    "\n",
    "The IP Protocol defines:\n",
    "- An addressing scheme (IP addresses)\n",
    "- The format for IP packet headers"
   ]
  },
  {
   "cell_type": "markdown",
   "metadata": {},
   "source": [
    "## IP Addresses\n",
    "\n",
    "Every device on the Internet has an IP address.\n",
    "\n",
    "There are two active version of the IP protocol: IPv4 and IPv6\n",
    "\n",
    "IPv4 addresses are 32-bit numbers written as four 8-bit numbers separated by periods.\n",
    "\n",
    "My IP address is: 10.129.15.141\n",
    "\n",
    "Each component's range is 0-255 since they are 8-bit numbers.\n",
    "\n",
    "IP addressing is not flat.\n",
    "\n",
    "IP addresses are organized into different classes: A, B, C, D, E\n",
    "\n",
    "Every IP address has two parts, a network ID and a host ID.\n",
    "\n",
    "All devices on the same network have the same network ID.\n",
    "\n"
   ]
  }
 ],
 "metadata": {
  "language_info": {
   "name": "python"
  },
  "orig_nbformat": 4
 },
 "nbformat": 4,
 "nbformat_minor": 2
}
