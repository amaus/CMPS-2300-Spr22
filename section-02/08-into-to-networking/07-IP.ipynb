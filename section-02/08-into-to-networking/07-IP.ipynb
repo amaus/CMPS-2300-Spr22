{
 "cells": [
  {
   "cell_type": "markdown",
   "metadata": {},
   "source": [
    "# The Internet Protocol\n",
    "\n",
    "internets are built as interconnected networks. They can be built out of many different types of subnetworks: wifi, ethernet, satellite, etc.\n",
    "\n"
   ]
  },
  {
   "cell_type": "markdown",
   "metadata": {},
   "source": [
    "<br>\n",
    "<img src=\"images/29-internet.png\" width=\"300\">\n",
    "<br>"
   ]
  },
  {
   "cell_type": "markdown",
   "metadata": {},
   "source": [
    "The IP protocol is designed to span these varying technologies, including technologies that haven't been invented. It is also designed to be able to scale indefinitely.\n",
    "\n",
    "To do this, the IP protocol was designed to provide as few guarantees as possible since every guarantee would be a constraint which could rule out some underlying technology from being used.\n",
    "\n",
    "A **service model** is the set of guarantees that some protocol provides.\n",
    "\n",
    "IP's Service Model:\n",
    "- Connectionless: persistent open channels are not provided\n",
    "- Best effort on delivery: no guarantee that any individual packet will arrive\n",
    "\n",
    "This requires the least amount of overhead and is easiest to implement on any underlying hardware.\n",
    "\n",
    "IP runs on top of all underlying hardware."
   ]
  },
  {
   "cell_type": "markdown",
   "metadata": {},
   "source": [
    "<br>\n",
    "<img src=\"images/30-protocol-stack.png\" width=\"400\">\n",
    "<br>"
   ]
  },
  {
   "cell_type": "markdown",
   "metadata": {},
   "source": [
    "## The IP Protocol Definition\n",
    "\n",
    "The IP Protocol defines:\n",
    "- An addressing scheme (IP addresses)\n",
    "- The format for IP packet headers"
   ]
  },
  {
   "cell_type": "markdown",
   "metadata": {},
   "source": [
    "## IP Addresses\n",
    "\n",
    "Every device on the Internet has an IP address.\n",
    "\n",
    "There are two active version of the IP protocol: IPv4 and IPv6\n",
    "\n",
    "IPv4 addresses are 32-bit numbers written as four 8-bit numbers separated by periods.\n",
    "\n",
    "My IP address is: 10.129.15.141\n",
    "\n",
    "Each component's range is 0-255 since they are 8-bit numbers.\n",
    "\n",
    "IPv6 are 128-bit numbers represented in hexadecimal, introduced because 32-bit numbers aren't large enough for all devices that could connect to the internet.\n",
    "\n",
    "# IP hierarchy\n",
    "\n",
    "IP addressing is not flat.\n",
    "\n",
    "IP addresses are organized into different classes: A, B, C, D, E\n",
    "\n",
    "Every IP address has two parts, a network ID and a host ID.\n",
    "\n",
    "All devices on the same network have the same network ID.\n",
    "\n",
    "The different classes have different split points between the network and host IDs."
   ]
  },
  {
   "cell_type": "markdown",
   "metadata": {},
   "source": [
    "<br>\n",
    "<img src=\"images/31-ip-classes.png\" width=\"400\">\n",
    "<br>"
   ]
  },
  {
   "cell_type": "markdown",
   "metadata": {},
   "source": [
    "```\n",
    "Class   Network ID              Host\n",
    " A      7-bits (128 networks)   24-bits\n",
    " B      14-bits                 16-bits (65,543 hosts)\n",
    " C      21-bits                 8-bits (256 hosts)\n",
    "```\n",
    "\n",
    "Class A networks are regional or continental networks.\n",
    "\n",
    "Class C networks are local home addresses.\n",
    "\n",
    "Class B networks are intermediate, campus networks, businesses, etc.\n",
    "\n",
    "**aside**\n",
    "\n",
    "We can specify where the breakpoint is between the network and host ID.\n",
    "\n",
    "This is specified via the CIDR notation."
   ]
  },
  {
   "cell_type": "markdown",
   "metadata": {},
   "source": [
    "## IP Packet Header\n",
    "\n",
    "### Supporting varying underlying hardware\n",
    "\n",
    "IP packets can be arbitrarily large. Underlying hardware may limit the size of the frames which can be transmitted.\n",
    "\n",
    "IP headers provide the fields which allow for IP packets to be broken up into pieces, transmitted across some link, and put back together again on the other side.\n",
    "\n",
    "### IP Fragmentation\n",
    "\n",
    "<br>\n",
    "<img src=\"images/32-fragmentation.png\" width=\"200\">\n",
    "<br>"
   ]
  },
  {
   "cell_type": "markdown",
   "metadata": {},
   "source": [
    "Ident is the ip packet ID for this frame. Each of the 3 in figure b) about have the Ident number.\n",
    "\n",
    "Offset if the offset of this data into the original packet.\n",
    "\n",
    "Packets can only be broken up along 8 byte barriers so the offset indicate the number of 8 byte chunks this data is offet into.\n",
    "\n",
    "Eg, an offset of 64 means this data is offset 64*8 = 512 bytes into the original frame."
   ]
  }
 ],
 "metadata": {
  "language_info": {
   "name": "python"
  },
  "orig_nbformat": 4
 },
 "nbformat": 4,
 "nbformat_minor": 2
}
