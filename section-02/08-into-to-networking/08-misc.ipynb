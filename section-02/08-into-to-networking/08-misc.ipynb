{
 "cells": [
  {
   "cell_type": "markdown",
   "metadata": {},
   "source": [
    "# Domain Name Servers\n",
    "\n",
    "DNS servers allows us to lookup the IP address for domain names.\n",
    "\n",
    "Domain Name Hierarchy:"
   ]
  },
  {
   "cell_type": "markdown",
   "metadata": {},
   "source": [
    "<br>\n",
    "<img src=\"images/34-domain-hierarchy.png\" width=\"500\">\n",
    "<br>"
   ]
  },
  {
   "cell_type": "markdown",
   "metadata": {},
   "source": [
    "Domain Name Servers are organized in a hierarchy maching the domain names.\n",
    "\n",
    "There is a DNS server for the `.edu` top level domain.\n",
    "\n",
    "There is a root DNS server which has the ip addresses of all top level DNS servers.\n",
    "\n",
    "To perform a DNS lookup, we start at the top and work our way down.\n",
    "\n",
    "To access `cs.tulane.edu`, we first query the ROOT DNS server which tells us where the `.edu` DNS server is, and so on.\n",
    "\n",
    "DNS servers keep records of a few types:\n",
    "- NS record \"Name Server\", contains the IP address of some other DNS server to reach out to\n",
    "- A record, IP address for a specific domain\n",
    "- MX record, mail server record\n",
    "- CNAME record, domain name alias record\n",
    "\n"
   ]
  },
  {
   "cell_type": "markdown",
   "metadata": {},
   "source": [
    "# The Process\n",
    "\n",
    "We want to start with the ROOT DNS server and work our way down.\n",
    "\n",
    "Since every device might not know where the ROOT DNS server is, every device is configured to reach out to some local DNS server. This local server will then perform the lookup on that device's behalf."
   ]
  },
  {
   "cell_type": "markdown",
   "metadata": {},
   "source": [
    "<br>\n",
    "<img src=\"images/36-dns-request.png\" width=\"500\">\n",
    "<br>"
   ]
  },
  {
   "cell_type": "markdown",
   "metadata": {},
   "source": [
    "# IP Address Configuration\n",
    "\n",
    "IP address assignment happens automatically. IP addresses are assignment by a DHCP (Dynamic Host Configuration Protocol).\n",
    "\n",
    "This is a program running on some server on your local network that manages local IP addresses.\n",
    "\n",
    "When a new device connects to a network, it broadcasts a message (to IP 255.255.255.255) looking for the DHCP server. The DHCP will respond and assign this device its IP address.\n",
    "\n"
   ]
  }
 ],
 "metadata": {
  "language_info": {
   "name": "python"
  },
  "orig_nbformat": 4
 },
 "nbformat": 4,
 "nbformat_minor": 2
}
