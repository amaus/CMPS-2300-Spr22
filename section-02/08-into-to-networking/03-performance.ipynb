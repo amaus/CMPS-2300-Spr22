{
 "cells": [
  {
   "cell_type": "markdown",
   "metadata": {},
   "source": [
    "# Performance\n",
    "\n",
    "The amount of time it takes to tranfer data over a network is a function of the network's **latency** and **bandwidth**.\n",
    "\n",
    "**Latency** is how long it takes from when the first bit is sent to when it arrives at its destination.\n",
    "\n",
    "**Bandwidth** is the amount of BITs that can be transmitted over a network in a given amount of time: one second.\n",
    "\n",
    "E.g., 10 Mbps (mega-bits per second) 10 million bits per second. The mega refers to 10^6. It not to be confused with MB (mega bytes).\n",
    "\n",
    "Why the discrepency? Network bandwidth is governed by the clock that paces how fast bits can be sent. 10MHz clock can transmit 10Mbps.\n",
    "\n",
    "\n"
   ]
  },
  {
   "cell_type": "markdown",
   "metadata": {},
   "source": [
    "Example: Sending a 25MB image at 10Mbps:\n",
    "\n",
    "\n",
    "$25MB = 8 * 1024 * 1024 * 25 =$ 209,715,200 bits\n",
    "\n",
    "$10Mbps = 10*10^6$ bits/second\n",
    "\n",
    "$209,715,200/(10*10^6) = 20.97$ seconds\n",
    "\n",
    "\n"
   ]
  },
  {
   "cell_type": "code",
   "execution_count": 2,
   "metadata": {},
   "outputs": [
    {
     "name": "stdout",
     "output_type": "stream",
     "text": [
      "476.00 PB is 4287426845256712192 bits.\n",
      "Transferring a 476.00 PB file over a 50 Gbps connections takes 85748536.91 seconds.\n"
     ]
    }
   ],
   "source": [
    "#include <stdio.h>\n",
    "#include <string.h>\n",
    "\n",
    "double convertFileSizeToBits(double fileSize, char sizeUnit[]) {\n",
    "    // Calculate file size in bits\n",
    "    double fileSizeBits = fileSize * 8;\n",
    "    if(strcmp(sizeUnit, \"KB\") == 0) {\n",
    "        fileSizeBits *= 1024;\n",
    "    } else if(strcmp(sizeUnit, \"MB\") == 0) {\n",
    "        fileSizeBits *= 1024*1024;\n",
    "    } else if(strcmp(sizeUnit, \"GB\") == 0) {\n",
    "        fileSizeBits *= 1024*1024*1024;\n",
    "    } else if(strcmp(sizeUnit, \"TB\") == 0) {\n",
    "        fileSizeBits *= (long)(1024)*1024*1024*1024;\n",
    "    } else if(strcmp(sizeUnit, \"PB\") == 0) {\n",
    "        fileSizeBits *= (long)(1024)*1024*1024*1024*1024;\n",
    "    }\n",
    "    printf(\"%.2f %s is %.0f bits.\\n\", fileSize, sizeUnit, fileSizeBits);\n",
    "    return fileSizeBits;\n",
    "}\n",
    "\n",
    "double convertBandwidthToBitsPerSecond(double bandwidth, char bandwidthUnit[]) {\n",
    "    double bitsPerSecond = bandwidth;\n",
    "    if(bandwidthUnit[0] == 'b') {\n",
    "        // do nothing\n",
    "    } else if(bandwidthUnit[0] == 'K') {\n",
    "        bitsPerSecond *= 1000;\n",
    "    } else if(bandwidthUnit[0] == 'M') {\n",
    "        bitsPerSecond *= 1000000;\n",
    "    } else if(bandwidthUnit[0] == 'G') {\n",
    "        bitsPerSecond *= 1000000000;\n",
    "    }\n",
    "    return bitsPerSecond;\n",
    "}\n",
    "\n",
    "int main(int argc, char* argv[]) {\n",
    "    double fileSize = 476;\n",
    "    char sizeUnit[] = \"PB\";\n",
    "    double bandwidth = 50;\n",
    "    char bandwidthUnit[] = \"Gbps\";\n",
    "\n",
    "    // Calculate file size in bits\n",
    "    long fileSizeBits = convertFileSizeToBits(fileSize, sizeUnit);\n",
    "\n",
    "    // Convert bandwidth to bits per second\n",
    "    double bitsPerSecond = convertBandwidthToBitsPerSecond(bandwidth, bandwidthUnit);\n",
    "\n",
    "    double transferTime = fileSizeBits/bitsPerSecond;\n",
    "    printf(\"Transferring a %.2f %s file over a %.0f %s connections takes %.2f seconds.\\n\", fileSize, sizeUnit, bandwidth, bandwidthUnit, transferTime);\n",
    "}"
   ]
  },
  {
   "cell_type": "markdown",
   "metadata": {},
   "source": [
    "## Latency x Bandwidth Product\n",
    "\n",
    "Depending on latency and bandwidth, when we send data, we can have sent multiple packets before any have arrived to the destination.\n",
    "\n",
    "Given a latency and bandwidth, there is an amount of data that can be \"on the wire\"."
   ]
  },
  {
   "cell_type": "markdown",
   "metadata": {},
   "source": [
    "<br>\n",
    "<img src=\"images/13-pipe.png\" width=\"300\">\n",
    "<br>"
   ]
  },
  {
   "cell_type": "markdown",
   "metadata": {},
   "source": [
    "<br>\n",
    "<img src=\"images/14-1MB-file.png\" width=\"400\">\n",
    "<br>"
   ]
  }
 ],
 "metadata": {
  "kernelspec": {
   "display_name": "C",
   "language": "c",
   "name": "c"
  },
  "language_info": {
   "file_extension": ".c",
   "mimetype": "text/plain",
   "name": "c"
  },
  "orig_nbformat": 4
 },
 "nbformat": 4,
 "nbformat_minor": 2
}
