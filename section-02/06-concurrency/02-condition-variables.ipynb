{
 "cells": [
  {
   "cell_type": "markdown",
   "metadata": {},
   "source": [
    "# Condition Variables\n",
    "\n",
    "We often need to have a thread wait for some condition to be true before it can continue executing.\n",
    "\n",
    "One thread might need to wait for another thread to complete some action before it can continue with its execution.\n",
    "\n",
    "A similar (but not exact) example is a parent waiting for a child.\n",
    "\n",
    "We accomplish this with **condition variables**.\n",
    "\n",
    "A **condition variable** is a queue of waiting threads.\n",
    "\n",
    "We always need a lock associated with a condition variable, and we have two concurrency functions we use to interact with condition variables:\n",
    "\n",
    "- `wait(cond_t *cv, lock_t *mutex)`\n",
    "    - it is assumed that the thread calling wait holds the lock when it is called.\n",
    "    - puts the caller to sleep, releasing the lock.\n",
    "    - when woken, `wait()` then reaquires the lock and returns, allowing this thread to continue\n",
    "- `signal(cond_t *cv)`\n",
    "    - signals that one thread waiting on the condition variable can wake up and execute\n",
    "\n"
   ]
  }
 ],
 "metadata": {
  "language_info": {
   "name": "python"
  },
  "orig_nbformat": 4
 },
 "nbformat": 4,
 "nbformat_minor": 2
}
