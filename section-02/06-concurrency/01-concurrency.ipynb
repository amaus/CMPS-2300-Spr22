{
 "cells": [
  {
   "cell_type": "markdown",
   "metadata": {},
   "source": [
    "# Concurrency\n",
    "\n",
    "A **concurrent** program is one consisting of multiple threads executing \"at the same time\" and independently.\n",
    "\n",
    "A **thread** is an independent line of execution within a process.\n",
    "\n",
    "A thread has its own set of registers (its context!) on the CPU.\n",
    "\n",
    "A thread has its own stack.\n",
    "\n",
    "A thread its own instruction pointer (aka program counter).\n",
    "\n",
    "Within a process, the rest of the address space is shared amongst all of its threads:\n",
    "\n",
    "- heap\n",
    "- code block\n",
    "- static global block\n"
   ]
  },
  {
   "cell_type": "markdown",
   "metadata": {},
   "source": [
    "<br>\n",
    "<img src=\"images/01-AS.png\" width=\"500\">\n",
    "<br>"
   ]
  },
  {
   "cell_type": "markdown",
   "metadata": {},
   "source": [
    "## Why talk about concurrency in OS?\n",
    "\n",
    "The OS is the first concurrent program and needs to support concurrency in order to exist.\n",
    "\n",
    "The mechanisms to support concurrency are critical to a computer operating safely and must be with the OS's purview.\n",
    "\n"
   ]
  }
 ],
 "metadata": {
  "language_info": {
   "name": "python"
  },
  "orig_nbformat": 4
 },
 "nbformat": 4,
 "nbformat_minor": 2
}
