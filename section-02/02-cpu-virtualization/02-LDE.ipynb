{
 "cells": [
  {
   "cell_type": "markdown",
   "metadata": {},
   "source": [
    "# CPU Virtualization\n",
    "\n",
    "The job of the CPU is to run many more programs than we have processors in a computer.\n",
    "\n",
    "N (# programs) >> M (# CPUS)\n",
    "\n",
    "From each program's perspective, it looks like they each have their own individual CPU. \n",
    "\n",
    "Key Abstraction: **The Process** (a running program)\n",
    "\n",
    "For now, we will assume they are single threaded.\n",
    "\n",
    "A process has two major technical components:\n",
    "1) A set of Registers\n",
    "   - general purpose registers \n",
    "   - process specific registers\n",
    "     - **instruction pointer** aka **program counter**\n",
    "     - memory address registers\n",
    "2) It's private address space\n",
    "\n",
    "<img src=\"images/process_address_space.png\" width=\"150\">"
   ]
  },
  {
   "cell_type": "markdown",
   "metadata": {},
   "source": [
    "How do we virtualize the CPU?\n",
    "\n",
    "The simplest way, when a user wants to run a program, load it onto CPU and simply run it. This is **direct execution**.\n",
    "\n",
    "<img src=\"images/lde.png\" width=\"500\">"
   ]
  },
  {
   "cell_type": "markdown",
   "metadata": {},
   "source": [
    "Three major problems with simple direct execution:\n",
    "1) What if the OS wants to swap from one process to another?\n",
    "2) What if the program wants to perform some restricted operation?\n",
    "3) What if the program performs some slow operation, like an IO request?"
   ]
  },
  {
   "cell_type": "markdown",
   "metadata": {},
   "source": [
    "## Problem 2: Restricted Operations\n",
    "\n",
    "Restricted OPs are any hardware access.\n",
    "\n",
    "If we want to perform a restricted op, we must make a **system call**. A **system call** is an OS request.\n",
    "\n",
    "The CPU has two modes: **Kernel (Priviledge) Mode** and **User (Unpriviledged) Mode**.\n",
    "\n",
    "There is a literal dedicated piece of circuitry on the CPU which determines which mode the computer is currently in.\n",
    "\n",
    "When a user process makes a system call, the OS must switch over to Kernel Mode and then execute the code for the system call.\n",
    "\n",
    "When a system call is made, the computer **traps** down to the operating system. \n",
    "\n",
    "When a **trap** is executed:\n",
    "1) the CPU is switched kernel mod\n",
    "2) a **trap handler** is executed for the system call\n",
    "\n",
    "A trap handler looks up in a **trap table** where the code for the system call actually is in memory and executes it.\n",
    "\n",
    "The trap table is hidden from user processes. The trap table is initialized at system boot.\n",
    "\n",
    "Once the system call completes, the OS will **return-from-trap** to give the CPU back to the user process.\n",
    "\n",
    "<img src=\"images/lde_traps.png\" width=\"500\">"
   ]
  },
  {
   "cell_type": "markdown",
   "metadata": {},
   "source": [
    "## Problem 1: Switching between processes\n",
    "\n",
    "To switch between two processes, a **context switch** is performed.\n",
    "\n",
    "In a context switch, the registers of the running process are stored in kernel memory, and the registers of the to-be-running process are loaded onto the CPU.\n",
    "\n",
    "Processes can have different states:\n",
    "1) RUNNING\n",
    "2) READY\n",
    "3) BLOCKED\n",
    "\n",
    "<img src=\"images/context_switch.png\" width=\"500\">"
   ]
  },
  {
   "cell_type": "markdown",
   "metadata": {},
   "source": [
    "## Problem 3: Slow Ops\n",
    "\n",
    "Some operations, like file I/O are super slow. When you want to write to a file, the OS asks the hard disk to perform that write. The harddisk will evetually get back to OS saying that the write is complete.\n",
    "\n",
    "If the current process stays on the CPU while this write is happening, millions of cpu cycles are wasted.\n",
    "\n",
    "When an IO request is made, the OS will switch the current process (put into the BLOCKED state until the IO finishes) off of the CPU to allow some other process to run."
   ]
  },
  {
   "cell_type": "markdown",
   "metadata": {},
   "source": [
    "CPU Virtualization is accomplished through **Limited Direct Execution**. "
   ]
  }
 ],
 "metadata": {
  "language_info": {
   "name": "python"
  },
  "orig_nbformat": 4
 },
 "nbformat": 4,
 "nbformat_minor": 2
}
