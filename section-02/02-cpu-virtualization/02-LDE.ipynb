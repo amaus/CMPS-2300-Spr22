{
 "cells": [
  {
   "cell_type": "markdown",
   "metadata": {},
   "source": [
    "# CPU Virtualization\n",
    "\n",
    "The job of the CPU is to run many more programs than we have processors in a computer.\n",
    "\n",
    "N (# programs) >> M (# CPUS)\n",
    "\n",
    "From each program's perspective, it looks like they each have their own individual CPU. \n",
    "\n",
    "Key Abstraction: **The Process** (a running program)\n",
    "\n",
    "For now, we will assume they are single threaded.\n",
    "\n",
    "A process has two major technical components:\n",
    "1) A set of Registers\n",
    "   - general purpose registers \n",
    "   - process specific registers\n",
    "     - **instruction pointer** aka **program counter**\n",
    "     - memory address registers\n",
    "2) It's private address space\n",
    "\n",
    "<img src=\"images/process_address_space.png\" width=\"150\">"
   ]
  },
  {
   "cell_type": "markdown",
   "metadata": {},
   "source": [
    "How do we virtualize the CPU?\n",
    "\n",
    "The simplest way, when a user wants to run a program, load it onto CPU and simply run it. This is **direct execution**.\n",
    "\n",
    "<img src=\"images/lde.png\" width=\"500\">"
   ]
  },
  {
   "cell_type": "markdown",
   "metadata": {},
   "source": [
    "Three major problems with simple direct execution:\n",
    "1) What if the OS wants to swap from one process to another?\n",
    "2) What if the program wants to perform some restricted operation?\n",
    "3) What if the program performs some slow operation, like an IO request?"
   ]
  },
  {
   "cell_type": "markdown",
   "metadata": {},
   "source": [
    "## Problem 2: Restricted Operations\n",
    "\n",
    "Restricte OPs are any hardware access.\n",
    "\n",
    "If we want to perform a restricted op, we must make a **system call**. A **system call** is an OS request.\n",
    "\n",
    "The computer has two modes: **Kernel (Priviledge) Mode** and **User (Unpriviledged) Mode**.\n",
    "\n",
    "There is a literal dedicated piece of circuitry on the CPU which determines which mode the computer is currently in. "
   ]
  }
 ],
 "metadata": {
  "language_info": {
   "name": "python"
  },
  "orig_nbformat": 4
 },
 "nbformat": 4,
 "nbformat_minor": 2
}
