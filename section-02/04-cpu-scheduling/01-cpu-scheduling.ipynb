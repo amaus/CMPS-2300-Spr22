{
 "cells": [
  {
   "cell_type": "code",
   "execution_count": 2,
   "metadata": {},
   "outputs": [],
   "source": [
    "from statistics import mean"
   ]
  },
  {
   "cell_type": "markdown",
   "metadata": {},
   "source": [
    "# CPU Scheduling\n",
    "\n",
    "Every X cycles, a **timer interrupt** executes, allowing the OS to switch running processes.\n",
    "\n",
    "The goal is to allow every process to get some time on the CPU. This is known as **time sharing**.\n",
    "\n",
    "Processes will take turns on the CPU, each getting to run for some **time slice** (or **quanta**).\n",
    "\n",
    "Assumptions:\n",
    "\n",
    "- all jobs arrive at the same time\n",
    "- each job only needs the CPU, no IO\n",
    "- each job runs for the same amount of time\n",
    "- runtime is known at start\n",
    "- we will run each job to completion\n",
    "- we want to optimize for **turnaround time**\n",
    "\n",
    "**turnaround time** is the time it takes for a job to complete.\n",
    "\n",
    "`turnaround_time = t_complete - t_arrive`"
   ]
  },
  {
   "cell_type": "markdown",
   "metadata": {},
   "source": [
    "# Algorithm 1: Use a queue: FIFO\n",
    "\n",
    "Run the jobs one after another, each to completion."
   ]
  },
  {
   "cell_type": "markdown",
   "metadata": {},
   "source": [
    "<br>\n",
    "<img src=\"images/fifo_1.png\" width=\"300\">\n",
    "<br>"
   ]
  },
  {
   "cell_type": "code",
   "execution_count": 3,
   "metadata": {},
   "outputs": [
    {
     "name": "stdout",
     "output_type": "stream",
     "text": [
      "20\n"
     ]
    }
   ],
   "source": [
    "# Ave turnaround time:\n",
    "\n",
    "print(mean([10, 20, 30]))"
   ]
  },
  {
   "cell_type": "markdown",
   "metadata": {},
   "source": [
    "What if we relax the assumption that they all take the same amount of time?\n",
    "\n",
    "What if process A requires 100ms?"
   ]
  },
  {
   "cell_type": "markdown",
   "metadata": {},
   "source": [
    "<br>\n",
    "<img src=\"images/fifo_2.png\" width=\"300\">\n",
    "<br>"
   ]
  },
  {
   "cell_type": "code",
   "execution_count": 4,
   "metadata": {},
   "outputs": [
    {
     "name": "stdout",
     "output_type": "stream",
     "text": [
      "110\n"
     ]
    }
   ],
   "source": [
    "# Ave turnaround time:\n",
    "\n",
    "print(mean([100, 110, 120]))"
   ]
  },
  {
   "cell_type": "markdown",
   "metadata": {},
   "source": [
    "# Algorithm 2: Shortest Job First\n",
    "\n",
    "Solution: order them by their runtime.\n",
    "\n",
    "Let b and c run first."
   ]
  },
  {
   "cell_type": "markdown",
   "metadata": {},
   "source": [
    "<br>\n",
    "<img src=\"images/sjf_1.png\" width=\"300\">\n",
    "<br>"
   ]
  },
  {
   "cell_type": "code",
   "execution_count": 5,
   "metadata": {},
   "outputs": [
    {
     "name": "stdout",
     "output_type": "stream",
     "text": [
      "50\n"
     ]
    }
   ],
   "source": [
    "# Ave turnaround time:\n",
    "\n",
    "print(mean([10, 20, 120]))"
   ]
  },
  {
   "cell_type": "markdown",
   "metadata": {},
   "source": [
    "What if we relax the assumption that all jobs arrive at the same time?"
   ]
  },
  {
   "cell_type": "markdown",
   "metadata": {},
   "source": [
    "<br>\n",
    "<img src=\"images/sjf_2.png\" width=\"300\">\n",
    "<br>"
   ]
  },
  {
   "cell_type": "markdown",
   "metadata": {},
   "source": [
    "# Algorithm 3: Shortest time to completion first\n",
    "\n",
    "When new jobs arrive, schedule all based on the shortest time to completion.\n",
    "\n",
    "We are also relaxing the assumption that all jobs will run to completion once started. The OS can interrupt a running job."
   ]
  },
  {
   "cell_type": "markdown",
   "metadata": {},
   "source": [
    "<br>\n",
    "<img src=\"images/stcf_1.png\" width=\"300\">\n",
    "<br>"
   ]
  },
  {
   "cell_type": "code",
   "execution_count": 6,
   "metadata": {},
   "outputs": [
    {
     "name": "stdout",
     "output_type": "stream",
     "text": [
      "56.666666666666664\n"
     ]
    }
   ],
   "source": [
    "# Ave turnaround time:\n",
    "\n",
    "print(mean([120, 20, 30]))"
   ]
  },
  {
   "cell_type": "markdown",
   "metadata": {},
   "source": [
    "What if we relax the assumption that jobs only need the CPU?\n",
    "\n",
    "What if some of our jobs are interactive.\n",
    "\n",
    "If we have interactive jobs, we want them to be responsive as soon as possible.\n",
    "\n",
    "`response_time = t_start - t_arrive`\n",
    "\n",
    "We want to for **response time**. We want to minimize the time between when we submit a job and and when it is useful."
   ]
  },
  {
   "cell_type": "markdown",
   "metadata": {},
   "source": [
    "<br>\n",
    "<img src=\"images/stcf_2.png\" width=\"300\">\n",
    "<br>"
   ]
  },
  {
   "cell_type": "code",
   "execution_count": 10,
   "metadata": {},
   "outputs": [
    {
     "name": "stdout",
     "output_type": "stream",
     "text": [
      "Ave Turnaround Time: 10\n",
      "Ave Response Time: 5\n"
     ]
    }
   ],
   "source": [
    "# Ave TT\n",
    "\n",
    "print(\"Ave Turnaround Time:\", mean([5, 10, 15]))\n",
    "\n",
    "# Ave RT\n",
    "\n",
    "print(\"Ave Response Time:\", mean([0, 5, 10]))"
   ]
  },
  {
   "cell_type": "markdown",
   "metadata": {},
   "source": [
    "C isn't responsive until t=10 when both A and B have finished.\n",
    "\n",
    "Instead of running job to completion, we can break them up into time slices and interleave them, running them each in turn until they all complete.\n",
    "\n",
    "# Algorithm 4: Round Robin"
   ]
  },
  {
   "cell_type": "markdown",
   "metadata": {},
   "source": [
    "<br>\n",
    "<img src=\"images/rr.png\" width=\"300\">\n",
    "<br>"
   ]
  },
  {
   "cell_type": "code",
   "execution_count": 11,
   "metadata": {},
   "outputs": [
    {
     "name": "stdout",
     "output_type": "stream",
     "text": [
      "Ave Turnaround Time: 14\n",
      "Ave Response Time: 1\n"
     ]
    }
   ],
   "source": [
    "# Ave TT\n",
    "\n",
    "print(\"Ave Turnaround Time:\", mean([13, 14, 15]))\n",
    "\n",
    "# Ave RT\n",
    "\n",
    "print(\"Ave Response Time:\", mean([0, 1, 2]))"
   ]
  },
  {
   "cell_type": "markdown",
   "metadata": {},
   "source": [
    "## Goals for a Realistic CPU Scheduler\n",
    "\n",
    "A realistic workload for a computer is a mix of\n",
    "\n",
    "- interactive jobs which want maximum responsiveness\n",
    "- CPU intensive jobs which want minimal turnaround time.\n",
    "\n",
    "We also know that the OS does not known how long every job is going to take.\n",
    "\n",
    "Since the OS, doesn't known the future, we can use history (what the running jobs have done) to inform scheduling decisions.\n",
    "\n",
    "If some job is cpu intensive, the OS will learn this over time and the same is true for interactive jobs."
   ]
  }
 ],
 "metadata": {
  "interpreter": {
   "hash": "aee8b7b246df8f9039afb4144a1f6fd8d2ca17a180786b69acc140d282b71a49"
  },
  "kernelspec": {
   "display_name": "Python 3.9.6 64-bit",
   "language": "python",
   "name": "python3"
  },
  "language_info": {
   "codemirror_mode": {
    "name": "ipython",
    "version": 3
   },
   "file_extension": ".py",
   "mimetype": "text/x-python",
   "name": "python",
   "nbconvert_exporter": "python",
   "pygments_lexer": "ipython3",
   "version": "3.9.6"
  },
  "orig_nbformat": 4
 },
 "nbformat": 4,
 "nbformat_minor": 2
}
