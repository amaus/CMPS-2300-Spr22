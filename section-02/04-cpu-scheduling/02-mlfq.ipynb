{
 "cells": [
  {
   "cell_type": "markdown",
   "metadata": {},
   "source": [
    "## Goals for a Realistic CPU Scheduler\n",
    "\n",
    "A realistic workload for a computer is a mix of\n",
    "\n",
    "- interactive jobs which want maximum responsiveness\n",
    "- CPU intensive jobs which want minimal turnaround time.\n",
    "\n",
    "We also know that the OS does not known how long every job is going to take.\n",
    "\n",
    "Since the OS, doesn't known the future, we can use history (what the running jobs have done) to inform scheduling decisions.\n",
    "\n",
    "If some job is cpu intensive, the OS will learn this over time and the same is true for interactive jobs."
   ]
  },
  {
   "cell_type": "markdown",
   "metadata": {},
   "source": [
    "# The MLFQ Scheduling Algorithm\n",
    "\n",
    "We will have a set of Queues corresponding to priorities for our jobs.\n",
    "\n",
    "At any point, all of our jobs will be distributed amongst these queues according to their priority."
   ]
  },
  {
   "cell_type": "markdown",
   "metadata": {},
   "source": [
    "<br>\n",
    "<img src=\"images/mlfq_1.png\" width=\"300\">\n",
    "<br>"
   ]
  },
  {
   "cell_type": "markdown",
   "metadata": {},
   "source": [
    "Base Rules:\n",
    "\n",
    "1) if P(A) > P(B), then run A\n",
    "2) if P(A) == P(B), then run them in round robin fashion\n",
    "3) start all jobs at the highest priority\n",
    "4) If a job uses its whole time slice without making a system call, move it down a priority level. Else, if it makes a system call, keep it at its current priority level"
   ]
  },
  {
   "cell_type": "markdown",
   "metadata": {},
   "source": [
    "<br>\n",
    "<img src=\"images/mlfq_2.png\" width=\"300\">\n",
    "<br>"
   ]
  },
  {
   "cell_type": "markdown",
   "metadata": {},
   "source": [
    "<br>\n",
    "<img src=\"images/mlfq_3.png\" width=\"300\">\n",
    "<br>"
   ]
  },
  {
   "cell_type": "markdown",
   "metadata": {},
   "source": [
    "<br>\n",
    "<img src=\"images/mlfq_4.png\" width=\"500\">\n",
    "<br>"
   ]
  },
  {
   "cell_type": "markdown",
   "metadata": {},
   "source": [
    "## A couple of problems with our algorithm\n",
    "\n",
    "1) Its entirely possible for low priority jobs to starve.\n",
    "2) Jobs can game this system by deliberately making system calls before their time slice is up.\n",
    "3) jobs can switch from CPU to IO intensive\n",
    "\n",
    "To solve starvation, we can periodically boost all jobs back to the highest priority."
   ]
  },
  {
   "cell_type": "markdown",
   "metadata": {},
   "source": [
    "<br>\n",
    "<img src=\"images/mlfq_5.png\" width=\"500\">\n",
    "<br>"
   ]
  },
  {
   "cell_type": "markdown",
   "metadata": {},
   "source": [
    "Base Rules:\n",
    "\n",
    "1) if P(A) > P(B), then run A\n",
    "2) if P(A) == P(B), then run them in round robin fashion\n",
    "3) start all jobs at the highest priority\n",
    "4) If a job uses its whole time slice without making a system call, move it down a priority level. Else, if it makes a system call, keep it at its current priority level\n",
    "5) After some time period S, boost all jobs back to the highest priority.\n",
    "\n",
    "This solves starvations, but also the problem with CPU intensive jobs becoming IO intensive since they get another shot at that high priority level.\n",
    "\n",
    "To solve the gaming issue, our algorithm should not be dependent on whether system calls have been made.\n",
    "\n",
    "Modified Rule 4:\n",
    "\n",
    "4) Once a job has used up its entire time slice (cummulatively) no matter how many system calls have been made, move it down to the next priority level."
   ]
  },
  {
   "cell_type": "markdown",
   "metadata": {},
   "source": [
    "<br>\n",
    "<img src=\"images/mlfq_6.png\" width=\"500\">\n",
    "<br>"
   ]
  },
  {
   "cell_type": "markdown",
   "metadata": {},
   "source": [
    "Final MLFQ Rules:\n",
    "\n",
    "1) if P(A) > P(B), then run A\n",
    "2) if P(A) == P(B), then run them in round robin fashion\n",
    "3) start all jobs at the highest priority\n",
    "4) Once a job has used up its entire time slice (cummulatively) no matter how many system calls have been made, move it down to the next priority level.\n",
    "5) After some time period S, boost all jobs back to the highest priority."
   ]
  }
 ],
 "metadata": {
  "language_info": {
   "name": "python"
  },
  "orig_nbformat": 4
 },
 "nbformat": 4,
 "nbformat_minor": 2
}
