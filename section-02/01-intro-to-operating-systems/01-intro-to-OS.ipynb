{
 "cells": [
  {
   "cell_type": "markdown",
   "metadata": {},
   "source": [
    "# What is an Operating System?\n",
    "\n",
    "An operating sysem is a resource manager. It's responsible for sharing a computer's\n",
    "hardware stablely, safely, and securely amongst all programs running on the computer.\n",
    "\n",
    "What resources need to be shared?\n",
    "- CPU\n",
    "  - Every process thinks it has unlimited access to a CPU, but in reality all processes\n",
    "    are shared on a limited set of CPUs\n",
    "- Memory\n",
    "  - Every process thinks it has unlimited access to the computers memory, but in reality\n",
    "    every process is given virtual memory which must be distributed throughout physical\n",
    "    memory.\n",
    "- Hard disks\n",
    "\n",
    "The OS virtualizes limited hardware. It makes it look like every single process gets\n",
    "unlimited access to a CPU, but under the hood, the OS is sharing a limited number \n",
    "of CPUs amongst all running processes.\n",
    "\n",
    "A fourth responsibility for an OS is to provide tools for **concurrency**. Processes can be\n",
    "multi-threaded and they must run safely at the same time. The OS must provide these tools\n",
    "because it requires them as a concurrent program itself."
   ]
  }
 ],
 "metadata": {
  "language_info": {
   "name": "python"
  },
  "orig_nbformat": 4
 },
 "nbformat": 4,
 "nbformat_minor": 2
}
