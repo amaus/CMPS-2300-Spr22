{
 "cells": [
  {
   "cell_type": "markdown",
   "metadata": {},
   "source": [
    "# What is an Operating System?\n",
    "\n",
    "An operating sysem is a resource manager. It's responsible for sharing a computer's\n",
    "hardware stablely, safely, and securely amongst all programs running on the computer.\n",
    "\n",
    "What resources need to be shared?\n",
    "- CPU\n",
    "  - Every process thinks it has unlimited access to a CPU, but in reality all processes\n",
    "    are shared on a limited set of CPUs\n",
    "- Memory\n",
    "  - Every process thinks it has unlimited access to the computers memory, but in reality\n",
    "    every process is given virtual memory which must be distributed throughout physical\n",
    "    memory.\n",
    "- Hard disks\n",
    "\n",
    "The OS virtualizes limited hardware. It makes it look like every single process gets\n",
    "unlimited access to a CPU, but under the hood, the OS is sharing a limited number \n",
    "of CPUs amongst all running processes.\n",
    "\n",
    "A fourth responsibility for an OS is to provide tools for **concurrency**. Processes can be\n",
    "multi-threaded and they must run safely at the same time. The OS must provide these tools\n",
    "because it requires them as a concurrent program itself."
   ]
  },
  {
   "cell_type": "markdown",
   "metadata": {},
   "source": [
    "<img src=\"process_address_space.png\" width=\"200\">"
   ]
  },
  {
   "cell_type": "markdown",
   "metadata": {},
   "source": [
    "# A brief history of OS development\n",
    "\n",
    "1) The first \"OS's\" were collections of functions that could be called to interact with the computer's hardware.\n",
    "   - Batch processing, programs ordered and run by a human\n",
    "2) Mainframes, implemented time-sharing. Many programs could be loaded onto the computer and then run by swapping them\n",
    "   on and off of the CPU.\n",
    "   - Security became paramount. To protect programs from each other and the computer from the programs running on it,\n",
    "     the libraries of os calls became **system calls**. A system call is very special function that has access to\n",
    "     the computer hardware. When a syscall is made, the OS jumps to a priviledged mode to perform the task, then \n",
    "     it returns back to user mode and gives control back to the user programs.\n",
    "3) Minicomputers, ex the PDP. Could fit in a single room.\n",
    "   - More developers could now have access to their own computers (within their team).\n",
    "4) PCs (1980's) - many lessons from the mainframe error were forgotten. "
   ]
  }
 ],
 "metadata": {
  "language_info": {
   "name": "python"
  },
  "orig_nbformat": 4
 },
 "nbformat": 4,
 "nbformat_minor": 2
}
