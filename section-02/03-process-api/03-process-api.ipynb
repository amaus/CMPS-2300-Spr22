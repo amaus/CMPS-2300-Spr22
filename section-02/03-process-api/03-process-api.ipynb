{
 "cells": [
  {
   "cell_type": "markdown",
   "metadata": {},
   "source": [
    "# The Process API\n",
    "\n",
    "Let's look at some OS system calls that allow us to create and manage processes.\n",
    "\n",
    "### `fork()`\n",
    "\n",
    "`fork()` allows us to create a copy of the running process.\n",
    "\n",
    "After calling `fork()` both child and parent processes are independent and running \"at the same time\".\n",
    "\n",
    "```\n",
    "       /-----parent----->\n",
    "-------\n",
    "       \\-----child------>\n",
    "```\n",
    "\n",
    "`fork()` is just a system call that we can make in a c program.\n",
    "\n",
    "`fork()` returns in both the child and parent processes.\n",
    "\n",
    "In the parent, `fork()` will either return a negative `int` (if it failed) or the PID (process ID) of the child process. In the child, `fork()` will return 0.\n",
    "\n",
    "We have no quarantee which process will run or finish first."
   ]
  },
  {
   "cell_type": "markdown",
   "metadata": {},
   "source": [
    "### `wait()`\n",
    "\n",
    "`wait()` tells a parent process to wait for its child to finish before continuing to run.\n",
    "\n",
    "This is useful if the parent if creating the child to do something for it.\n",
    "\n",
    "`wait()` has a return which tells us whether it succeeded or failed.\n",
    "\n",
    "`wait()` also takes in a pointer to an `int` and it will store the exit status of the child in that `int`.\n",
    "\n",
    "`waitpid()` will wait for a process with a specific PID to finish."
   ]
  },
  {
   "cell_type": "markdown",
   "metadata": {},
   "source": [
    "# Exec family of system calls\n",
    "\n",
    "`exec` repaces the current process image with a different process image.\n",
    "\n",
    "In other words, it replaces the current running program with a different one."
   ]
  },
  {
   "cell_type": "markdown",
   "metadata": {},
   "source": [
    "### Why separate fork and exec calls?\n",
    "\n",
    "Why do we have these two separate calls instead of a single `runprogram()` type of call?\n",
    "\n",
    "By having two separate calls, as programmers, we can issue instructions (like setting up IO redirection) after forking a new process but before executing the new program.\n",
    "\n"
   ]
  }
 ],
 "metadata": {
  "language_info": {
   "name": "python"
  },
  "orig_nbformat": 4
 },
 "nbformat": 4,
 "nbformat_minor": 2
}
