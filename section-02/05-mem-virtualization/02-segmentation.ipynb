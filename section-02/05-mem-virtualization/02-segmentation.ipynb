{
 "cells": [
  {
   "cell_type": "markdown",
   "metadata": {},
   "source": [
    "# Segmentation\n",
    "\n",
    "## Problems with base and bounds\n",
    "\n",
    "The entire address is allocated at process creation.\n",
    "\n",
    "Each process is unlikely to use its entire address space so we will have wasted memory.\n",
    "\n",
    "This is the space between the stack and heap."
   ]
  },
  {
   "cell_type": "markdown",
   "metadata": {},
   "source": [
    "<br>\n",
    "<img src=\"images/01-process-image.png\" width=\"150\">\n",
    "<br>"
   ]
  },
  {
   "cell_type": "markdown",
   "metadata": {},
   "source": [
    "The space between the stack and heap is wasted."
   ]
  },
  {
   "cell_type": "markdown",
   "metadata": {},
   "source": [
    "### Segmentation\n",
    "\n",
    "Rather than allocate the entire space at creation, allocate memory for each segment of the process:\n",
    "\n",
    "- Code Block\n",
    "- Heap\n",
    "- Stack"
   ]
  },
  {
   "cell_type": "markdown",
   "metadata": {},
   "source": [
    "<br>\n",
    "<img src=\"images/03-segmentation.png\" width=\"300\">\n",
    "<br>"
   ]
  },
  {
   "cell_type": "markdown",
   "metadata": {},
   "source": [
    "Each segment has its base and bounds registers. We also need to track the direction the segment in (up or down).\n",
    "\n",
    "It adds complexity to the MMU (memory management unit), but it does allow for more efficient use of our memory."
   ]
  },
  {
   "cell_type": "markdown",
   "metadata": {},
   "source": [
    "### Virtual Addresses\n",
    "\n",
    "Virtual addresses are memory addresses as the user process sees them, memory addresses within its Virtual Address Space.\n",
    "\n",
    "Physical Addresses are the actual address of the physical memory on a computer. The actual 100th byte of RAM.\n",
    "\n",
    "Virtual address simply start at 0 and count up to the max byte of the processes address space.\n",
    "\n",
    "It is just a number we can represent in binary."
   ]
  },
  {
   "cell_type": "markdown",
   "metadata": {},
   "source": [
    "## Anatomy of a Virtual Address\n",
    "\n",
    "If we have a 14-bit address space, that mean that we represent all virtual addresses using 14-bits.\n",
    "\n",
    "With 14 bits we can represent 2^14th distinct values.\n",
    "\n",
    "2^14 = 16384\n",
    "\n",
    "Which means we have 16384 bytes in our address space which is 16KB.\n",
    "\n",
    "For segmentation, we break a VA into two parts, the segment part (which indicates which SEGMENT we are trying to access into) and the OFFSET part (which indicates how far into the segment we are trying to access)"
   ]
  },
  {
   "cell_type": "markdown",
   "metadata": {},
   "source": [
    "<br>\n",
    "<img src=\"images/04-VA.png\" width=\"300\">\n",
    "<br>"
   ]
  },
  {
   "cell_type": "markdown",
   "metadata": {},
   "source": [
    "Since we have 3 distinct segments, we need 2 bits to distinguish between them (1 won't do.).\n",
    "\n",
    "- `00`: code block\n",
    "- `01`: heap\n",
    "- `10`: stack\n",
    "\n",
    "Then the rest of the bits indicate how far into that segment to access."
   ]
  },
  {
   "cell_type": "markdown",
   "metadata": {},
   "source": [
    "<br>\n",
    "<img src=\"images/05_VA.png\" width=\"300\">\n",
    "<br>"
   ]
  },
  {
   "cell_type": "markdown",
   "metadata": {},
   "source": [
    "In this example, the user process has request byte 4200 (converting the binary to decimal) from its virtual address space. \n",
    "\n",
    "The OS needs to determine which segment this is in so that it can use the correct base for that segment.\n",
    "\n",
    "This address is in the heap (by our definition above).\n",
    "\n",
    "`1101000` in decimal is 104. So the OS will return the 104th byte in the heap.\n",
    "\n",
    "Specifically it looks up the base for the heap and adds 104 to it."
   ]
  },
  {
   "cell_type": "markdown",
   "metadata": {},
   "source": [
    "### Performing the Translations\n",
    "\n",
    "We can use bitwise operations to extract the components from the VA.\n",
    "\n",
    "If we use a mask:\n",
    "\n",
    "`1 1 0 0 0 0 0 0 0 0 0 0 0 0`\n",
    "\n",
    "We can bitwise AND to extract only the left two bits.\n",
    "\n",
    "```\n",
    "    11000000000000\n",
    "AND 01000001100100\n",
    "    ----------------\n",
    "    01000000000000\n",
    "```\n",
    "\n",
    "Then we can SHIFT it all the way to the right to know the SEGMENT."
   ]
  },
  {
   "cell_type": "markdown",
   "metadata": {},
   "source": [
    "<br>\n",
    "<img src=\"images/06_translation.png\" width=\"500\">\n",
    "<br>"
   ]
  },
  {
   "cell_type": "markdown",
   "metadata": {},
   "source": [
    "## Major Downside of Segmentation\n",
    "\n",
    "Physical memory get fragmented, filled up with small different size chucks of allocated which can grow into each other.\n",
    "\n",
    "This is a nightmare to manage and so we need an easier system."
   ]
  }
 ],
 "metadata": {
  "language_info": {
   "name": "python"
  },
  "orig_nbformat": 4
 },
 "nbformat": 4,
 "nbformat_minor": 2
}
