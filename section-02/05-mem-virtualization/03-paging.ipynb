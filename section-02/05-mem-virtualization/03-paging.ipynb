{
 "cells": [
  {
   "cell_type": "markdown",
   "metadata": {},
   "source": [
    "# Paging\n",
    "\n",
    "We want to be dynamically allocate memory, but also ensure that our physical memory doesn't become fragmented.\n",
    "\n",
    "The basic idea is that we break physical memory is equal size chunks which give out as needed.\n",
    "\n",
    "We have two memory spaces to keep in mind, the Virtual Address Space and the Physical memory.\n",
    "\n",
    "We break the Virtual Address Space (VAS) into **Virtual Pages**.\n",
    "\n",
    "For example, an 64 byte address space:"
   ]
  },
  {
   "cell_type": "markdown",
   "metadata": {},
   "source": [
    "<br>\n",
    "<img src=\"images/07-paging-VAS.png\" width=\"500\">\n",
    "<br>"
   ]
  },
  {
   "cell_type": "markdown",
   "metadata": {},
   "source": [
    "We break physical memory into **Physical Frames**.\n",
    "\n",
    "The OS maps virtual pages to physical frames.\n",
    "\n",
    "`VP_0` has to be in some physical frame in memory.\n",
    "\n",
    "Virtual pages and physical frames must be of the same size."
   ]
  },
  {
   "cell_type": "markdown",
   "metadata": {},
   "source": [
    "<br>\n",
    "<img src=\"images/08-paging-phys-mem.png\" width=\"500\">\n",
    "<br>"
   ]
  },
  {
   "cell_type": "markdown",
   "metadata": {},
   "source": [
    "The OS stores the mapping from virtual pages to physical frames as an array referred to as the **Page Table**.\n",
    "\n",
    "This is a per-process data structure.\n",
    "\n",
    "The 0th index of the page table tells us where `VP-0` is stored at in physical memory.\n",
    "\n",
    "The 1st index of the page table tells us where `VP-1` is stored at in physical memory.\n",
    "\n",
    "The Page Table is stored in OS memory. There is a specific register which holds the memory address of the beginning of the Page Table array.\n",
    "\n",
    "This register is called the **Page Table Base Register (PTBR)**"
   ]
  },
  {
   "cell_type": "markdown",
   "metadata": {},
   "source": [
    "# The Anatomy of a Virtual Address\n",
    "\n",
    "Each VA must contain:\n",
    "\n",
    "1) which virtual page this address is referencing: the Virtual Page Number (VPN)\n",
    "2) how far into that virtual page we want to access: the OFFSET"
   ]
  },
  {
   "cell_type": "markdown",
   "metadata": {},
   "source": [
    "<br>\n",
    "<img src=\"images/09-paging-VA.png\" width=\"300\">\n",
    "<br>"
   ]
  },
  {
   "cell_type": "markdown",
   "metadata": {},
   "source": [
    "With a 64 byte address space, we need 6 bits to distinctly refer to every byte.\n",
    "\n",
    "With 4 total pages, we need 2 bits to serve as the VPN, leaving 4 bits as the OFFSET.\n",
    "\n",
    "For the above example, the VPN is 1, and we want the 5th byte in Virtual Page 0\n",
    "\n",
    "Another Example:\n",
    "\n",
    "```\n",
    "VA: 111010\n",
    "VA: 11 | 1010\n",
    "   VPN | OFFSET\n",
    "VPN: 3\n",
    "OFFSET: 10\n",
    "\n",
    "We want the 10th byte in the `VP_3`."
   ]
  },
  {
   "cell_type": "markdown",
   "metadata": {},
   "source": [
    "# Address Translation\n",
    "\n",
    "When a process requests access to some Virtual Address, the OS:\n",
    "\n",
    "1) breaks the VA into its parts: the VPN and OFFSET\n",
    "2) looks up in the Page Table which Physical Frame this Virtual Page is stored on\n",
    "3) calculates the physical address by concatenating the OFFSET to the Physical Frame Number"
   ]
  },
  {
   "cell_type": "markdown",
   "metadata": {},
   "source": [
    "<br>\n",
    "<img src=\"images/10-VA-to-PA.png\" width=\"400\">\n",
    "<br>"
   ]
  },
  {
   "cell_type": "markdown",
   "metadata": {},
   "source": [
    "<br>\n",
    "<img src=\"images/11-phys-mem.png\" width=\"500\">\n",
    "<br>"
   ]
  },
  {
   "cell_type": "markdown",
   "metadata": {},
   "source": [
    "# The Page Table\n",
    "\n",
    "The Page Table is an array of Page Table Entries (PTE).\n",
    "\n",
    "Every PTE contains the Physical Frame Number that this page maps to and extra bits of information such:\n",
    "\n",
    "- is this frame valid (has it been allocated to this process yet)\n",
    "- is it protected (kernel mode needed to acces it)\n",
    "- is it in RAM or has it been swapped to disk\n",
    "- ..."
   ]
  },
  {
   "cell_type": "markdown",
   "metadata": {},
   "source": [
    "<br>\n",
    "<img src=\"images/12-PTE.png\" width=\"500\">\n",
    "<br>"
   ]
  },
  {
   "cell_type": "markdown",
   "metadata": {},
   "source": [
    "To perform an address translation:"
   ]
  },
  {
   "cell_type": "markdown",
   "metadata": {},
   "source": [
    "<br>\n",
    "<img src=\"images/13-paging-mem-access.png\" width=\"500\">\n",
    "<br>"
   ]
  },
  {
   "cell_type": "markdown",
   "metadata": {},
   "source": [
    "Problem with the above:\n",
    "\n",
    "It is TOO SLOW. Every memory access requires two memory accesses. "
   ]
  },
  {
   "cell_type": "markdown",
   "metadata": {},
   "source": [
    "## Virtual Addresses in Practice\n",
    "\n",
    "In practice a reasonable size is a 32-bit virtual address.\n",
    "\n",
    "A good size for a page is 4KB: 4096 bytes\n",
    "\n",
    "We need 12 bits in order to access into pages of size 4096 because\n",
    "\n",
    "4KB = 1KB  * 4\n",
    "    = 1024 * 4\n",
    "    = 2^10 * 2^2\n",
    "    = 2^12\n",
    "\n",
    "If we have a 32 bit address and use 12 of them for the OFFSET, then that leaves 20 bits for the VPN.\n",
    "\n",
    "```\n",
    "|               VPN             |  OFFSET |\n",
    "32                              11        0\n",
    "```"
   ]
  }
 ],
 "metadata": {
  "language_info": {
   "name": "python"
  },
  "orig_nbformat": 4
 },
 "nbformat": 4,
 "nbformat_minor": 2
}
