{
 "cells": [
  {
   "cell_type": "markdown",
   "metadata": {},
   "source": [
    "# Paging\n",
    "\n",
    "We want to be dynamically allocate memory, but also ensure that our physical memory doesn't become fragmented.\n",
    "\n",
    "The basic idea is that we break physical memory is equal size chunks which give out as needed.\n",
    "\n",
    "We have two memory spaces to keep in mind, the Virtual Address Space and the Physical memory.\n",
    "\n",
    "We break the Virtual Address Space (VAS) into **Virtual Pages**.\n",
    "\n",
    "For example, an 64 byte address space:"
   ]
  },
  {
   "cell_type": "markdown",
   "metadata": {},
   "source": [
    "<br>\n",
    "<img src=\"images/07-paging-VAS.png\" width=\"500\">\n",
    "<br>"
   ]
  },
  {
   "cell_type": "markdown",
   "metadata": {},
   "source": [
    "We break physical memory into **Physical Frames**.\n",
    "\n",
    "The OS maps virtual pages to physical frames.\n",
    "\n",
    "`VP_0` has to be in some physical frame in memory.\n",
    "\n",
    "Virtual pages and physical frames must be of the same size."
   ]
  },
  {
   "cell_type": "markdown",
   "metadata": {},
   "source": [
    "<br>\n",
    "<img src=\"images/08-paging-phys-mem.png\" width=\"500\">\n",
    "<br>"
   ]
  },
  {
   "cell_type": "markdown",
   "metadata": {},
   "source": [
    "The OS stores the mapping from virtual pages to physical frames as an array referred to as the **Page Table**.\n",
    "\n",
    "This is a per-process data structure.\n",
    "\n",
    "The 0th index of the page table tells us where `VP-0` is stored at in physical memory.\n",
    "\n",
    "The 1st index of the page table tells us where `VP-1` is stored at in physical memory.\n",
    "\n",
    "The Page Table is stored in OS memory. There is a specific register which holds the memory address of the beginning of the Page Table array.\n",
    "\n",
    "This register is called the **Page Table Base Register (PTBR)**"
   ]
  },
  {
   "cell_type": "markdown",
   "metadata": {},
   "source": [
    "# The Anatomy of a Virtual Address\n",
    "\n",
    "Each VA must contain:\n",
    "\n",
    "1) which virtual page this address is referencing: the Virtual Page Number (VPN)\n",
    "2) how far into that virtual page we want to access: the OFFSET"
   ]
  },
  {
   "cell_type": "markdown",
   "metadata": {},
   "source": [
    "<br>\n",
    "<img src=\"images/09-paging-VA.png\" width=\"300\">\n",
    "<br>"
   ]
  },
  {
   "cell_type": "markdown",
   "metadata": {},
   "source": [
    "With a 64 byte address space, we need 6 bits to distinctly refer to every byte.\n",
    "\n",
    "With 4 total pages, we need 2 bits to serve as the VPN, leaving 4 bits as the OFFSET.\n",
    "\n",
    "For the above example, the VPN is 1, and we want the 5th byte in Virtual Page 0\n",
    "\n",
    "Another Example:\n",
    "\n",
    "```\n",
    "VA: 111010\n",
    "VA: 11 | 1010\n",
    "   VPN | OFFSET\n",
    "VPN: 3\n",
    "OFFSET: 10\n",
    "\n",
    "We want the 10th byte in the `VP_3`."
   ]
  },
  {
   "cell_type": "markdown",
   "metadata": {},
   "source": [
    "# Address Translation\n",
    "\n",
    "When a process requests access to some Virtual Address, the OS:\n",
    "\n",
    "1) breaks the VA into its parts: the VPN and OFFSET\n",
    "2) looks up in the Page Table which Physical Frame this Virtual Page is stored on\n",
    "3) calculates the physical address by concatenating the OFFSET to the Physical Frame Number"
   ]
  },
  {
   "cell_type": "markdown",
   "metadata": {},
   "source": [
    "<br>\n",
    "<img src=\"images/10-VA-to-PA.png\" width=\"400\">\n",
    "<br>"
   ]
  },
  {
   "cell_type": "markdown",
   "metadata": {},
   "source": [
    "<br>\n",
    "<img src=\"images/11-phys-mem.png\" width=\"500\">\n",
    "<br>"
   ]
  },
  {
   "cell_type": "markdown",
   "metadata": {},
   "source": [
    "# The Page Table\n",
    "\n",
    "The Page Table is an array of Page Table Entries (PTE).\n",
    "\n",
    "Every PTE contains the Physical Frame Number that this page maps to and extra bits of information such:\n",
    "\n",
    "- is this frame valid (has it been allocated to this process yet)\n",
    "- is it protected (kernel mode needed to acces it)\n",
    "- is it in RAM or has it been swapped to disk\n",
    "- ..."
   ]
  },
  {
   "cell_type": "markdown",
   "metadata": {},
   "source": [
    "<br>\n",
    "<img src=\"images/12-PTE.png\" width=\"500\">\n",
    "<br>"
   ]
  },
  {
   "cell_type": "markdown",
   "metadata": {},
   "source": [
    "To perform an address translation:"
   ]
  },
  {
   "cell_type": "markdown",
   "metadata": {},
   "source": [
    "<br>\n",
    "<img src=\"images/13-paging-mem-access.png\" width=\"500\">\n",
    "<br>"
   ]
  },
  {
   "cell_type": "markdown",
   "metadata": {},
   "source": [
    "Problem with the above:\n",
    "\n",
    "It is TOO SLOW. Every memory access requires two memory accesses. "
   ]
  },
  {
   "cell_type": "markdown",
   "metadata": {},
   "source": [
    "## Virtual Addresses in Practice\n",
    "\n",
    "We're familiar with the idea that there are 32-bit or 64-bit computer.\n",
    "\n",
    "32-bit computers have registers on the CPU that are 32-bits large.\n",
    "\n",
    "Since memory addresses are stored in registers, this gives an upper bounds for how large address spaces can be.\n",
    "\n",
    "On a 32-bit computer, virtual addresses are 32-bits large.\n",
    "\n",
    "### Standard Pages\n",
    "\n",
    "A good size for a page is 4KB: 4096 bytes\n",
    "\n",
    "4KB hits the sweet spont between being being able to allocate memory in large enough chunks, but not so large that alot of space is wasted by having many pages with only a few bytes used in them.\n",
    "\n",
    "We need 12 bits in order to access into pages of size 4096 because\n",
    "\n",
    "$2^{12} = 4096$\n",
    "\n",
    "$2^{12} = 2^2 * 2^{10} = 4 * 1024 = \\text{4 KB}$\n",
    "\n",
    "For reference:\n",
    "\n",
    "$2^{10} = 1024 = \\text{1 KB}$\n",
    "\n",
    "$2^{20} = \\text{1 MB}$\n",
    "\n",
    "$2^{30} = \\text{1 GB}$\n",
    "\n",
    "If we have a 32 bit address and use 12 of them for the OFFSET, then that leaves 20 bits for the VPN.\n",
    "\n",
    "```\n",
    "|               VPN             |  OFFSET |\n",
    "31                              11        0\n",
    "```\n",
    "\n",
    "With 20 bits for the VPN, we can have \n",
    "\n",
    "$2^{20} = \\text{1048576 pages}$\n"
   ]
  },
  {
   "cell_type": "markdown",
   "metadata": {},
   "source": [
    "### Size of the Page Table\n",
    "\n",
    "The page table has an entry for every possible virtual page.\n",
    "\n",
    "So every page table (we have one for every process) has 1048576 pages.\n",
    "\n",
    "Every PTE is 32-bits, bytes.\n",
    "\n",
    "The entire page table is:\n",
    "\n",
    "$1048576 * \\text{4 bytes} = \\text{4194304 bytes}$\n",
    "\n",
    "$= 4MB$\n",
    "\n",
    "The OS stores one page table for every process.\n",
    "\n",
    "If we have 1000 running processes, then we need 4000 MB (~4GB) of memory just to store the page tables.\n",
    "\n",
    "Our page tables are too large!\n",
    "\n",
    "In practice, most processes only use a fraction of their total addressable space. So why store PTEs for every possible translation when only a few (relatively speaking) are needed"
   ]
  },
  {
   "cell_type": "markdown",
   "metadata": {},
   "source": [
    "## 64-bit address spaces\n",
    "\n",
    "A 32-bit address space allows a process to use up to 4 GB of memory.\n",
    "\n",
    "If a 32-bit address space is the size of tennis court, a 64-bit space is the size of Euroope.\n",
    "\n",
    "This is so large, we don't need that much space.\n",
    "\n",
    "Modern computers use 48 of the bits for virtual addresses.\n",
    "\n",
    "A 48-bit address space is:\n",
    "\n",
    "$2^{48} = 2^8 * 2^{40} = \\text{256 TB}$\n",
    "\n",
    "The size of our page table for this address space would be:\n",
    "\n",
    "$2^{36} \\text{ PTEs} * \\text{4 bytes}$\n",
    "\n",
    "$=2^{36} * 2^2 = 2^{38} = 2^8 * 2^{30} =  \\text{256 GB}$\n",
    "\n"
   ]
  },
  {
   "cell_type": "markdown",
   "metadata": {},
   "source": [
    "# The Translation Lookaside Buffer (TLB)\n",
    "\n",
    "The TLB is a cache directly on the CPU.\n",
    "\n",
    "It stored commonly accessed address translation information so that we don't have to go to the page table (in RAM) for every translation.\n",
    "\n",
    "TLB entries contain a VPN and its corresponding PFN along with a couple of bits of meta information (valid, protection, etc) and a process identifier.\n",
    "\n",
    "The process identifier is not the PID. It is an Address Space IDentifier (ASID).\n",
    "\n",
    "The TLB is small, on the order of 128 or 256 entries."
   ]
  },
  {
   "cell_type": "markdown",
   "metadata": {},
   "source": [
    "<br>\n",
    "<img src=\"images/14-TLB.png\" width=\"500\">\n",
    "<br>"
   ]
  },
  {
   "cell_type": "markdown",
   "metadata": {},
   "source": [
    "## TLB Speedup\n",
    "\n",
    "With a TLB, most memory accesses can be resolved by referring to it instead of the Page Table.\n",
    "\n",
    "Most processes are frequently accessing the same pages.\n",
    "\n",
    "After any of these pages are accessed the first time, all subsequence accesses can be handled through the TLB."
   ]
  },
  {
   "cell_type": "markdown",
   "metadata": {},
   "source": [
    "<br>\n",
    "<img src=\"images/15-array.png\" width=\"350\">\n",
    "<br>"
   ]
  },
  {
   "cell_type": "markdown",
   "metadata": {},
   "source": [
    "In practice a page is 4096 bytes. If we have an array of ints, every value requirs 4 bytes.\n",
    "\n",
    "We can 1024 entries of this array in a single page.\n",
    "\n",
    "When we access the first one, this page is added to the TLB and this access is slow because we had to go to the Page Table.\n",
    "\n",
    "For the next 1023 accesses, we can get the translation info from the TLB and these accesses are fast.\n",
    "\n",
    "When the TLB gets full, we will have to evict entries. We will discuss these policies when we get to page swapping. "
   ]
  },
  {
   "cell_type": "markdown",
   "metadata": {},
   "source": [
    "# Smaller Page Tables\n",
    "\n",
    "We know that our page tables are too large. The VAST majority of a linear page table contains invalid entries, pages that have not been allocated yet. Why store that information, why not just try to store what we are actually using?"
   ]
  },
  {
   "cell_type": "markdown",
   "metadata": {},
   "source": [
    "<br>\n",
    "<img src=\"images/16-VAS-PM.png\" width=\"500\">\n",
    "<br>"
   ]
  },
  {
   "cell_type": "markdown",
   "metadata": {},
   "source": [
    "<br>\n",
    "<img src=\"images/18-linear-PT.png\" width=\"250\">\n",
    "<br>"
   ]
  },
  {
   "cell_type": "markdown",
   "metadata": {},
   "source": [
    "The middle of the address space and middle of the page table is unused.\n",
    "\n",
    "Let's only store the parts that are used.\n",
    "\n",
    "We can break the page table into equal sized chucks and only store thoses needed."
   ]
  },
  {
   "cell_type": "markdown",
   "metadata": {},
   "source": [
    "<br>\n",
    "<img src=\"images/19-multilevel-PT.png\" width=\"500\">\n",
    "<br>"
   ]
  }
 ],
 "metadata": {
  "language_info": {
   "name": "python"
  },
  "orig_nbformat": 4
 },
 "nbformat": 4,
 "nbformat_minor": 2
}
