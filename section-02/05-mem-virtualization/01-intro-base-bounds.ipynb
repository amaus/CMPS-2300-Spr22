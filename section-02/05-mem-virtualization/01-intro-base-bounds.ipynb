{
 "cells": [
  {
   "cell_type": "markdown",
   "metadata": {},
   "source": [
    "# Memory Virtualization\n",
    "\n",
    "The OS virtualizes memory. It gives the illusion that every process has access to all of physical memory.\n",
    "\n",
    "Every process has a memory address space starting from byte 0 and going up to some large byte number."
   ]
  },
  {
   "cell_type": "markdown",
   "metadata": {},
   "source": [
    "<br>\n",
    "<img src=\"images/01-process-image.png\" width=\"200\">\n",
    "<br>"
   ]
  },
  {
   "cell_type": "markdown",
   "metadata": {},
   "source": [
    "Every computer has physical memory (RAM) on the order of 4-64GB.\n",
    "\n",
    "Physical memory consists of a large contiguous set of bytes: byte 0 - max_byte\n",
    "\n",
    "If we have a computer with 32 KB of RAM, the it has physical bytes:\n",
    "\n",
    "0 - 32767\n",
    "\n",
    "For hardware, a KB is 2^10 bytes: 1024"
   ]
  },
  {
   "cell_type": "markdown",
   "metadata": {},
   "source": [
    "While physical memory has only a single byte 0, every process thinks it can write to byte 0.\n",
    "\n",
    "In order to give the illusion that every process has its own address space starting from 0, the OS maps each process' **Virtual Address Space (VAS)** onto some section of physical memory."
   ]
  },
  {
   "cell_type": "markdown",
   "metadata": {},
   "source": [
    "<br>\n",
    "<img src=\"images/02-physical-mem.png\" width=\"500\">\n",
    "<br>"
   ]
  },
  {
   "cell_type": "markdown",
   "metadata": {},
   "source": [
    "## Base and Bounds\n",
    "\n",
    "In this scheme, the OS offsets or relocates the virtual address space of each process somewhere into physical memory.\n",
    "\n",
    "The OS has to keep track of where in physical memory each process is and how large their address spaces are.\n",
    "\n",
    "The **base** of a process is the starting physical address for that process. This is stored in the OS's process list and while the process is running, in a register on the CPU (not accessible to user processes).\n",
    "\n",
    "The **bounds** is the size of the address space and is use by the OS to ensure that a process doesn't try to access outside of its memory."
   ]
  },
  {
   "cell_type": "markdown",
   "metadata": {},
   "source": [
    "## Address Translation\n",
    "\n",
    "Now, when a process makes a memory request, the OS must perform an address translation to return whatever is stored at the correct physical address.\n",
    "\n",
    "This is performed by dedicated circuitry on the CPU.\n",
    "\n",
    "Our two **base** and **bounds** registers and this circuitry is refered to as the **Memory Management Unit (MMU)**.\n",
    "\n",
    "`physical_address = base + virtual_address`"
   ]
  },
  {
   "cell_type": "markdown",
   "metadata": {},
   "source": [
    "### Example Translations\n",
    "\n",
    "64KB address space, loaded into physical memory at 128KB\n",
    "\n",
    "**Base:** 128KB aka 131072\n",
    "**Bounds:** 64KB - 1: 65535\n",
    "\n",
    "The bounds indicates the last writable virtual address by this process.\n",
    "\n",
    "This allows for a very simple check to see if a virtual address is valid.\n",
    "\n",
    "```c\n",
    "if(VA > BOUNDS){\n",
    "    raise(BASE_AND_BOUND_FAULT)\n",
    "}\n",
    "```\n",
    "\n",
    "```\n",
    "VA      ->   Physical Address\n",
    "--------------------------------\n",
    " 0      ->   131072 (128KB)\n",
    " 1KB    ->   132096 (129KB)\n",
    " 2000   ->   132072\n",
    " 66000  ->   FAULT, out of bounds\n",
    "```\n"
   ]
  }
 ],
 "metadata": {
  "language_info": {
   "name": "python"
  },
  "orig_nbformat": 4
 },
 "nbformat": 4,
 "nbformat_minor": 2
}
