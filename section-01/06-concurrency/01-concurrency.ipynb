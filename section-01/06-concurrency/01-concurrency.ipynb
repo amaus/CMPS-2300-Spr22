{
 "cells": [
  {
   "cell_type": "markdown",
   "metadata": {},
   "source": [
    "# Concurrency\n",
    "\n",
    "A **concurrent** program is one consisting of multiple threads executing \"at the same\" and independently.\n",
    "\n",
    "A **thread** is an independent line of execution within a process.\n",
    "\n",
    "The OS the first concurrent program. It needs to be a multithreaded program and so the support must be built into the OS itself.\n",
    "\n",
    "A thread has its own set of registers (its context!) on the CPU.\n",
    "\n",
    "A thread has its own stack.\n",
    "\n",
    "A thread has its own instruction pointer (or program counter).\n",
    "\n",
    "Within a process, the rest of the address space is shared amongst all its threads:\n",
    "- heap\n",
    "- code\n",
    "- static global block"
   ]
  },
  {
   "cell_type": "markdown",
   "metadata": {},
   "source": [
    "<br>\n",
    "<img src=\"images/01-AS.png\" width=\"500\">\n",
    "<br>"
   ]
  },
  {
   "cell_type": "markdown",
   "metadata": {},
   "source": [
    "We can space the stacks out far enough from each to guarantee that they can't gown into each by having the free space between them be larger than the systems RAM."
   ]
  }
 ],
 "metadata": {
  "language_info": {
   "name": "python"
  },
  "orig_nbformat": 4
 },
 "nbformat": 4,
 "nbformat_minor": 2
}
