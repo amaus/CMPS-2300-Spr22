{
 "cells": [
  {
   "cell_type": "markdown",
   "metadata": {},
   "source": [
    "# Concurrency\n",
    "\n",
    "A **concurrent** program is one consisting of multiple threads executing \"at the same\" and independently.\n",
    "\n",
    "A **thread** is an independent line of execution within a process.\n",
    "\n",
    "The OS the first concurrent program. It needs to be a multithreaded program and so the support must be built into the OS itself.\n",
    "\n",
    "A thread has its own set of registers (its context!) on the CPU.\n",
    "\n",
    "A thread has its own stack.\n",
    "\n",
    "A thread has its own instruction pointer (or program counter).\n",
    "\n",
    "Within a process, the rest of the address space is shared amongst all its threads:\n",
    "- heap\n",
    "- code\n",
    "- static global block"
   ]
  },
  {
   "cell_type": "markdown",
   "metadata": {},
   "source": [
    "<br>\n",
    "<img src=\"images/01-AS.png\" width=\"500\">\n",
    "<br>"
   ]
  },
  {
   "cell_type": "markdown",
   "metadata": {},
   "source": [
    "Having multiple stacks is not a problem because we can space them out far enough to guarantee that they can't grow into each (for example by having the free space between them be larger than the systems RAM)."
   ]
  },
  {
   "cell_type": "markdown",
   "metadata": {},
   "source": [
    "## Why write concurrent programs?\n",
    "\n",
    "If have CPU intensive programs where we can break up the work into chunks and execute it independently, we can split the workload into many threads and run the whole thing faster.\n",
    "\n",
    "If we IO intensive programs, we can split the IO parts into threads while computations continue in the background.\n",
    "\n",
    "Web-servers are implemented as multi-threaded programs. When a request (google query) comes into a web server, a new thread is created to handle that request while the server continues listening for more requests."
   ]
  },
  {
   "cell_type": "markdown",
   "metadata": {},
   "source": [
    "## Challenges for Concurrent Programs\n",
    "\n",
    "Concurrent programs can be non-deterministic because the order that threads are executed is determined by the CPU scheduler.\n",
    "\n",
    "This is especially problematic when multiple threads are accessing shared data.\n",
    "\n",
    "If a thread is interrupted in the middle of accessing shared data, that data can get corrupted.\n",
    "\n",
    "If our threads can get interrupted in the middle of some critical instruction  or set of instructions, then the data that they are modifying may no longer be what we expect."
   ]
  },
  {
   "cell_type": "markdown",
   "metadata": {},
   "source": [
    "## Terminology\n",
    "\n",
    "Any set of instructions which should not be interrupted if we want our program to be correct is refered to as a **critical section**.\n",
    "\n",
    "We want our critical sections to be **atomic**.\n",
    "\n",
    "A set of instructions are **atomic** if they can not be interrupted.\n",
    "\n",
    "If multiple threads end up in the same critical section at the same time, we have a **race condition**.\n",
    "\n",
    "To avoid race conditions, to ensure that critical sections are atomic, we use **locks**.\n",
    "\n",
    "We will explore how to use and build locks."
   ]
  },
  {
   "cell_type": "markdown",
   "metadata": {},
   "source": [
    "## How to use a lock\n",
    "\n",
    "A **lock** is a variable (technically a struct) that only one thread can hold at a time.\n",
    "\n",
    "If we put a lock around a critical section, we ensure that only one thread can access this critical section at a time.\n",
    "\n",
    "We make that section mutually exclusive.\n",
    "\n",
    "To use a lock, a program instantiates it, then attempts to hold it before entering some critical section, and finally upon leaving the critical section releases it.\n",
    "\n",
    "```c\n",
    "lock_t mutex; // create the loct, mutex for mutal exclusion\n",
    "// ...\n",
    "lock(&mutex); // attempt to grab the lock\n",
    "sharedVariable++; // critical section\n",
    "unlock(&mutex); // release the lock\n",
    "```\n",
    "\n",
    "If thread A holds the lock when thread B attempts to grab it, then Thread B must wait until A releases the lock before it can get it and continue execution.\n",
    "\n",
    "A program can create multiple locks. If we have multiple critical sections, we want to have a lock for each critical section so that different threads can execute different critical sections simultaneously.\n",
    "\n"
   ]
  },
  {
   "cell_type": "markdown",
   "metadata": {},
   "source": [
    "# Building a Lock\n",
    "\n",
    "## Goals\n",
    "\n",
    "**Correctness**: Our lock should correctly ensure mutualy exclusion for critical sections.\n",
    "\n",
    "**Fairness**: If we have multiple threads all vying for the same lock, eventually each thread should be able to get the lock. We don't want to starve our threads.\n",
    "\n",
    "**Performance**: Minimize overhead. Within a single the overhead should be minimal. Over the whole system, we want to minimize the overall time spent waiting for locks."
   ]
  },
  {
   "cell_type": "markdown",
   "metadata": {},
   "source": [
    "## A first Lock\n",
    "\n",
    "To implement a lock, we need to implement:\n",
    "1) lock initialization\n",
    "2) locking it\n",
    "3) unlocking it\n",
    "\n",
    "Our simplest implementation can just be a flag.\n",
    "\n",
    "If the flag has a value of 1, then it is held by some thread.\n",
    "\n",
    "Otherwise, if it has a value of 0, then the lock is available."
   ]
  },
  {
   "cell_type": "markdown",
   "metadata": {},
   "source": [
    "A basic Spin Lock\n",
    "\n",
    "```c\n",
    "typedef struct lock_t {\n",
    "  // data for the lock\n",
    "  int flag;\n",
    "} lock_t;\n",
    "\n",
    "void init(lock_t &mutex){\n",
    "  // init code\n",
    "  mutex->flag = 0; // 0 -> available, 1 -> held\n",
    "}\n",
    "\n",
    "void lock(lock_t &mutex) {\n",
    "  // aquire the lock\n",
    "  // continue to check if the is available\n",
    "  // and when it is, grab it\n",
    "  while(mutex-> == 1){\n",
    "      ; // spin, waiting for the lock to become free\n",
    "  }\n",
    "  mutex->flag = 1; // lock is free, grab it\n",
    "}\n",
    "\n",
    "void unlock(lock_t &mutex) {\n",
    "  // release the lock\n",
    "  mutex->flag = 0;\n",
    "}\n",
    "```"
   ]
  },
  {
   "cell_type": "markdown",
   "metadata": {},
   "source": [
    "Our basic spin lock is NOT correct. Since the OS can interrupt `lock()` between TESTING the flag and SETTING the flag to be unavailable, multiple threads can end up with the lock.\n",
    "\n",
    "Suppose Thread A tests the lock, sees that it is available and is interrupts after the while loop but before grabbing the flag. Then Thread B comes along, see that the lock is stil available, grabs it, enters the critical section and then is interrupted.\n",
    "\n",
    "Thread A starts running again, grabs the lock, and enters the critical section. \n",
    "\n",
    "Now both threads A and B are within the critical section at the same time."
   ]
  },
  {
   "cell_type": "markdown",
   "metadata": {},
   "source": [
    "Unfortunately, we have no single C instructions that allows us to both test and update some variable atomically.\n",
    "\n",
    "We need additional support, hardware support to enable correct locks."
   ]
  },
  {
   "cell_type": "markdown",
   "metadata": {},
   "source": [
    "### Hardware Support\n",
    "\n",
    "There is a set of concurrency primitives which can not be interrupted which we can use to build our locks.\n",
    "\n",
    "#### Test and Set\n",
    "\n",
    "We need to ability to set and update our flag atomically.\n",
    "\n",
    "Expressed as c code:\n",
    "\n",
    "``` c\n",
    "// update and return old flag atomically\n",
    "int TestAndSet(int *flag, int newValue) {\n",
    "  int old = *flag;\n",
    "  *flag = newValue;\n",
    "  return old;\n",
    "```"
   ]
  },
  {
   "cell_type": "markdown",
   "metadata": {},
   "source": [
    "## A correct Spin Lock\n",
    "\n",
    "```c\n",
    "typedef struct lock_t {\n",
    "  // data for the lock\n",
    "  int flag;\n",
    "} lock_t;\n",
    "\n",
    "void init(lock_t &mutex){\n",
    "  // init code\n",
    "  mutex->flag = 0; // 0 -> available, 1 -> held\n",
    "}\n",
    "\n",
    "void lock(lock_t &mutex) {\n",
    "  // aquire the lock\n",
    "  // continue to check if the is available\n",
    "  // and when it is, grab it\n",
    "  while(TestAndSet(&mutex->flag, 1)){\n",
    "      ; // spin, waiting for the lock to become free\n",
    "  }\n",
    "}\n",
    "\n",
    "void unlock(lock_t &mutex) {\n",
    "  // release the lock\n",
    "  mutex->flag = 0;\n",
    "}\n",
    "```"
   ]
  },
  {
   "cell_type": "markdown",
   "metadata": {},
   "source": [
    "If the flag is available (flag == 0), it will be set to 1 and 0 will be returned, breaking us out to the loop, allowing us to enter the critical section.\n",
    "\n",
    "If the flag was unavailable (flag == 1), it will be set to 1 (no change), and 1 will be returned, forcing the loop to execute again.\n",
    "\n",
    "We have a correct solution, all operations of the shared flag variable are atomic."
   ]
  },
  {
   "cell_type": "markdown",
   "metadata": {},
   "source": [
    "## Performance Analysis\n",
    "\n",
    "If the lock isn't available, the waiting will spin on the cpu, wasting CPU cycles. \n",
    "\n",
    "One solution is the **yield()** the CPU. If the lock isn't available, give up the CPU so that other threads can run.\n",
    "\n",
    "If threads waiting on a lock, give up the CPU, then it is more likely that the thread holding the lock will get more CPU time sooner in order to release the lock sooner.\n",
    "\n",
    "## Fairness Analysis\n",
    "\n",
    "It is possible for a a thread to yield the CPU again and again and again, each time some other thread getting the lock.\n",
    "\n",
    "A thread waiting on the lock can absolutely starve if it is never scheduled when the lock is free."
   ]
  },
  {
   "cell_type": "markdown",
   "metadata": {},
   "source": [
    "A Yield Lock\n",
    "\n",
    "```c\n",
    "typedef struct lock_t {\n",
    "  // data for the lock\n",
    "  int flag;\n",
    "} lock_t;\n",
    "\n",
    "void init(lock_t &mutex){\n",
    "  // init code\n",
    "  mutex->flag = 0; // 0 -> available, 1 -> held\n",
    "}\n",
    "\n",
    "void lock(lock_t &mutex) {\n",
    "  // aquire the lock\n",
    "  // continue to check if the is available\n",
    "  // and when it is, grab it\n",
    "  while(TestAndSet(&mutex->flag, 1)){\n",
    "      yield(); // give up the CPU, waiting for the lock to become free\n",
    "  }\n",
    "}\n",
    "\n",
    "void unlock(lock_t &mutex) {\n",
    "  // release the lock\n",
    "  mutex->flag = 0;\n",
    "}\n",
    "```"
   ]
  }
 ],
 "metadata": {
  "language_info": {
   "name": "python"
  },
  "orig_nbformat": 4
 },
 "nbformat": 4,
 "nbformat_minor": 2
}
