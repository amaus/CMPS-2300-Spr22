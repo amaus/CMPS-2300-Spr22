{
 "cells": [
  {
   "cell_type": "markdown",
   "metadata": {},
   "source": [
    "# Condition Variables\n",
    "\n",
    "In multithreaded programs, we often want to have one thread wait for some condition to be true before it can continue execution.\n",
    "\n",
    "We might need one thread wait for some other thread to complete some action before it can continue execution.\n",
    "\n",
    "We accomplish this using **condition variables**.\n",
    "\n",
    "A **condition variable** is a queue of waiting threads.\n",
    "\n"
   ]
  }
 ],
 "metadata": {
  "language_info": {
   "name": "python"
  },
  "orig_nbformat": 4
 },
 "nbformat": 4,
 "nbformat_minor": 2
}
