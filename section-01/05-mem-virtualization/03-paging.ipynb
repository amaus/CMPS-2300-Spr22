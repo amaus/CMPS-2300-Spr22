{
 "cells": [
  {
   "cell_type": "markdown",
   "metadata": {},
   "source": [
    "# Paging\n",
    "\n",
    "We want to be able to dynamically allocate memory, but also ensure that physical memory will not become fragmented.\n",
    "\n",
    "The basic idea is that we break physical memory into equal size chunks which we can give out as needed.\n",
    "\n",
    "We have two memory spaces to keep in mind, the Virtual Address Space and teh Physical Memory.\n",
    "\n",
    "We break the Virtual Address Space (VAS) into **virtual pages**.\n",
    "\n",
    "For example, a 64 byte address space:"
   ]
  },
  {
   "cell_type": "markdown",
   "metadata": {},
   "source": [
    "<br>\n",
    "<img src=\"images/07-paging-VAS.png\" width=\"500\">\n",
    "<br>"
   ]
  },
  {
   "cell_type": "markdown",
   "metadata": {},
   "source": [
    "We break physical memory into **physical frames**.\n",
    "\n",
    "We map virtual pages to physical frames.\n",
    "\n",
    "`VP_0` has to be in some physical frame in memory. Virtual pages and physical frames are of the same size since we are creating a one to one mapping from virtual pages to physical frames."
   ]
  },
  {
   "cell_type": "markdown",
   "metadata": {},
   "source": [
    "<br>\n",
    "<img src=\"images/08-paging-phys-mem.png\" width=\"500\">\n",
    "<br>"
   ]
  },
  {
   "cell_type": "markdown",
   "metadata": {},
   "source": [
    "The OS stores the mapping from virtual pages to the physical frame they are stored on in a **page table**.\n",
    "\n",
    "The page table is just an array. \n",
    "\n",
    "Index 0 tells us which physical frame `VP_0` is stored at. \n",
    "\n",
    "Index 1 tells us which physical frame `VP_1` is stored at.\n",
    "\n",
    "The OS keeps a page table for every process.\n",
    "\n",
    "This is stored in OS memory. There is a specific register that holds the memory address of the beginning of this array.\n",
    "\n",
    "This register is called the **Page Table Base Register (PTBR)**."
   ]
  },
  {
   "cell_type": "markdown",
   "metadata": {},
   "source": [
    "## Anatomy of a Virtual Address\n",
    "\n",
    "Each VA must contain:\n",
    "\n",
    "- which virtual page this address is referencing, the Virtual Page Number (VPN)\n",
    "- how far into that virtual page the memory address is, OFFSET"
   ]
  },
  {
   "cell_type": "markdown",
   "metadata": {},
   "source": [
    "<br>\n",
    "<img src=\"images/09-paging-VA.png\" width=\"300\">\n",
    "<br>"
   ]
  },
  {
   "cell_type": "markdown",
   "metadata": {},
   "source": [
    "With a 64 byte address space, we need 6 bits to distincly refer to every byte.\n",
    "\n",
    "If we have 4 total pages, then we need two bits to serve as the VPN, leaving 4 bits as the OFFSET. With those 4 bits we can see that each page is 2^4 = 16 bytes large.\n",
    "\n",
    "Example:\n",
    "```\n",
    "VA: 111010\n",
    "VA: 11 | 1010\n",
    "   VPN   OFFSET\n",
    "VPN: 3\n",
    "OFFSET 10\n",
    "```"
   ]
  },
  {
   "cell_type": "markdown",
   "metadata": {},
   "source": [
    "## Address Translation\n",
    "\n",
    "When a process requests some Virtual Address, the OS \n",
    "\n",
    "1) breaks it into its two parts, the VPN and OFFSET\n",
    "2) Looks up in the page table which Physical Frame this Virtual Page is stored in\n",
    "3) Calculates the physical address by concatenating the OFFSET to the Virtual Frame Number"
   ]
  },
  {
   "cell_type": "markdown",
   "metadata": {},
   "source": [
    "<br>\n",
    "<img src=\"images/10-VA-to-PA.png\" width=\"400\">\n",
    "<br>"
   ]
  },
  {
   "cell_type": "markdown",
   "metadata": {},
   "source": [
    "<br>\n",
    "<img src=\"images/11-phys-mem.png\" width=\"500\">\n",
    "<br>"
   ]
  },
  {
   "cell_type": "markdown",
   "metadata": {},
   "source": [
    "## The Page Table\n",
    "\n",
    "The page table is an array of Page Table Entries (PTE).\n",
    "\n",
    "Every PTE contains the Physical Number that this page maps to and extra bits of information such as is the frame valid (has it been allocated to this process yet), or is it protected (kernel mode needed to access it), or is it in RAM or swapped to disk."
   ]
  },
  {
   "cell_type": "markdown",
   "metadata": {},
   "source": [
    "<br>\n",
    "<img src=\"images/12-PTE.png\" width=\"500\">\n",
    "<br>"
   ]
  },
  {
   "cell_type": "markdown",
   "metadata": {},
   "source": [
    "The 0th entry of the page table hold the PFN for VP0 for a process, and so on.\n",
    "\n",
    "To Perform an Address Translation:"
   ]
  },
  {
   "cell_type": "markdown",
   "metadata": {},
   "source": [
    "<br>\n",
    "<img src=\"images/13-paging-mem-access.png\" width=\"500\">\n",
    "<br>"
   ]
  },
  {
   "cell_type": "markdown",
   "metadata": {},
   "source": [
    "## A couple of Problems\n",
    "\n",
    "Now every memory access requires two memory access. Too slow.\n",
    "\n"
   ]
  }
 ],
 "metadata": {
  "language_info": {
   "name": "python"
  },
  "orig_nbformat": 4
 },
 "nbformat": 4,
 "nbformat_minor": 2
}
