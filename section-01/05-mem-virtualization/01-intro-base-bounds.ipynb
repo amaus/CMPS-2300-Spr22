{
 "cells": [
  {
   "cell_type": "markdown",
   "metadata": {},
   "source": [
    "# Memory Virtualization\n",
    "\n",
    "The OS virtualizes memory, that is, it gives the illusion that every process has full access to the system's memory.\n",
    "\n",
    "Every process has a memory address space starting at byte 0 and going up to some arbitrarily large byte number.\n",
    "\n",
    "A computer has physical memory (its RAM) on the order of 4-64 GB.\n",
    "\n",
    "The physical memory to us is a sequence of bytes going from byte 0 to the maximum byte of the machine.\n",
    "\n",
    "For example, if our machine has 32KB of memory, physical memory consists of bytes 0-32767"
   ]
  },
  {
   "cell_type": "markdown",
   "metadata": {},
   "source": [
    "While there is only a single byte 0 on the machine, every process thinks it has access to its own byte 0.\n",
    "\n",
    "In order to give this illusion, the OS maps every process' **Virtual Address Space (VAS)** onto some section of physical memory."
   ]
  },
  {
   "cell_type": "markdown",
   "metadata": {},
   "source": [
    "<br>\n",
    "<img src=\"images/01-process-image.png\" width=\"200\">\n",
    "<br>"
   ]
  },
  {
   "cell_type": "markdown",
   "metadata": {},
   "source": [
    "The OS can decide to map this 16 KB VAS to somewhere in physical memory."
   ]
  },
  {
   "cell_type": "markdown",
   "metadata": {},
   "source": [
    "<br>\n",
    "<img src=\"images/02-physical-mem.png\" width=\"500\">\n",
    "<br>"
   ]
  },
  {
   "cell_type": "markdown",
   "metadata": {},
   "source": [
    "## Base & Bounds\n",
    "\n",
    "At process creation, the OS allotes the entire address space, storing it somewhere in physical memory.\n",
    "\n",
    "The OS remembers where the virtual address space starts in physical memory (the **base**) and how large the VAS is (the **bounds**)."
   ]
  },
  {
   "cell_type": "markdown",
   "metadata": {},
   "source": [
    "## Address Translation\n",
    "\n",
    "Whenever a process attempts to access a memory location (a virtual address), the OS must translate from the virtual address to the physical address where that virtual address is actually stored and access the value at that physical location.\n",
    "\n",
    "This translation is hidden from user processes.\n",
    "\n",
    "The address translation is simple:\n",
    "\n",
    "`physical_address = base + virtual_address`\n",
    "\n",
    "The OS stores the `base` and `bounds` for every process.\n",
    "\n",
    "As a process is running, these two values are stored in registers on the CPU (that only the OS can access).\n",
    "\n",
    "Every single address access triggers a hardware translation for the OS the calculate where the virtual address is stored in physical memory.\n",
    "\n",
    "The part of the CPU that stores these registers and the circuitry to perform the translations is known as the **Memory Management Unit (MMU)** on the CPU.\n",
    "\n",
    "For security, every process is only allowed to write within its bounds. If the process tries to write outside of its bounds the OS performs  exception handling. For base and bounds, it simply raises a fault and kills the process."
   ]
  },
  {
   "cell_type": "markdown",
   "metadata": {},
   "source": [
    "### Example Translations\n",
    "\n",
    "4KB Virtual Address Space, starting in physical memory at 20KB.\n",
    "\n",
    "**Base:** 20KB aka byte 20480\n",
    "\n",
    "**Bounds:** 4KB - 1: 4095\n",
    "\n",
    "The bounds indicates the last writable virtual address by the process.\n",
    "\n",
    "This allows for a simple process to check if the virtual address is out of bounds:\n",
    "\n",
    "```c\n",
    "if(VA > BOUNDS) {\n",
    "    raise(BASE_AND_BOUNDS_FAULT)\n",
    "}\n",
    "```\n",
    "\n",
    "```\n",
    "VA    ->  Physical Address\n",
    "------------------------------\n",
    "0     ->  20KB\n",
    "1KB   ->  21KB\n",
    "2000  ->  22480\n",
    "4400  ->  FAULT, out of bounds\n",
    "```"
   ]
  }
 ],
 "metadata": {
  "language_info": {
   "name": "python"
  },
  "orig_nbformat": 4
 },
 "nbformat": 4,
 "nbformat_minor": 2
}
