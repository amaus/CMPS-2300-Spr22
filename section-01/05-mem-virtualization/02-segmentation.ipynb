{
 "cells": [
  {
   "cell_type": "markdown",
   "metadata": {},
   "source": [
    "# Segmentation\n",
    "\n",
    "## Problem and base and bounds\n",
    "\n",
    "The entire virtual address space is allocated at process creation.\n",
    "\n",
    "Each process is unlikely to use its entire address space.\n",
    "\n",
    "The space between the stack and heap is allocated but unused for the vast majority of the time."
   ]
  },
  {
   "cell_type": "markdown",
   "metadata": {},
   "source": [
    "<br>\n",
    "<img src=\"images/01-process-image.png\" width=\"150\">\n",
    "<br>"
   ]
  },
  {
   "cell_type": "markdown",
   "metadata": {},
   "source": [
    "# Segmentation\n",
    "\n",
    "Rather than allocate the entire space at creation, allocate memory or each segment of the process and grow it as needed.\n",
    "\n",
    "Segments:\n",
    "\n",
    "- Code Block\n",
    "- Heap\n",
    "- Stack\n"
   ]
  },
  {
   "cell_type": "markdown",
   "metadata": {},
   "source": [
    "<br>\n",
    "<img src=\"images/03-segmentation.png\" width=\"400\">\n",
    "<br>"
   ]
  }
 ],
 "metadata": {
  "language_info": {
   "name": "python"
  },
  "orig_nbformat": 4
 },
 "nbformat": 4,
 "nbformat_minor": 2
}
