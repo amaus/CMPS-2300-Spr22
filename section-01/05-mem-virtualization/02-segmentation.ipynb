{
 "cells": [
  {
   "cell_type": "markdown",
   "metadata": {},
   "source": [
    "# Segmentation\n",
    "\n",
    "## Problem and base and bounds\n",
    "\n",
    "The entire virtual address space is allocated at process creation.\n",
    "\n",
    "Each process is unlikely to use its entire address space.\n",
    "\n",
    "The space between the stack and heap is allocated but unused for the vast majority of the time."
   ]
  },
  {
   "cell_type": "markdown",
   "metadata": {},
   "source": [
    "<br>\n",
    "<img src=\"images/01-process-image.png\" width=\"150\">\n",
    "<br>"
   ]
  },
  {
   "cell_type": "markdown",
   "metadata": {},
   "source": [
    "# Segmentation\n",
    "\n",
    "Rather than allocate the entire space at creation, allocate memory or each segment of the process and grow it as needed.\n",
    "\n",
    "Segments:\n",
    "\n",
    "- Code Block\n",
    "- Heap\n",
    "- Stack\n"
   ]
  },
  {
   "cell_type": "markdown",
   "metadata": {},
   "source": [
    "<br>\n",
    "<img src=\"images/03-segmentation.png\" width=\"400\">\n",
    "<br>"
   ]
  },
  {
   "cell_type": "markdown",
   "metadata": {},
   "source": [
    "The OS needs to track the base and bounds for each segment. We also need to track the direction of growth for the segment (up or down).\n",
    "\n",
    "This adds complexity to the MMU (memory management unit), but we get more efficient use of our RAM."
   ]
  },
  {
   "cell_type": "markdown",
   "metadata": {},
   "source": [
    "# Virtual Addresses\n",
    "\n",
    "Virtual addresses are memory addresses as seen by user processes. For simplicity it starts at zero and counts up to the max addressable byte.\n",
    "\n",
    "Physical addresses are the actual addresses of the physical memory on a computer. E.g, the 100th byte of actual memory.\n",
    "\n",
    "A virtual address is just a number - an array index essentially - and we can represent any number in binary.\n",
    "\n"
   ]
  },
  {
   "cell_type": "markdown",
   "metadata": {},
   "source": [
    "# Anatomy of a Virtual Address\n",
    "\n",
    "If we represent memory addresses using 14-bits, then we say that we are using a 14-bit address space.\n",
    "\n",
    "With a 14-bit number we can represent\n",
    "\n",
    "2^14 distinct values. A 14-bit address space can have 2^14 bytes within it since every value refers to one byte.\n",
    "\n",
    "```\n",
    "2^14 = 16384 = 16KB\n",
    "\n",
    "2^14 = 2^10 * 2^4\n",
    "       1KB  *  16\n",
    "```\n",
    "\n",
    "For segmentation, we break the VA into two parts, the SEGMENT part (which indicates which segment we are trying to access into) and the OFFSET (how are into the segment we want to access)."
   ]
  },
  {
   "cell_type": "markdown",
   "metadata": {},
   "source": [
    "<br>\n",
    "<img src=\"images/04-VA.png\" width=\"500\">\n",
    "<br>"
   ]
  },
  {
   "cell_type": "markdown",
   "metadata": {},
   "source": [
    "Since we have three segments, we need to 2 bits to distinguish between them.\n",
    "\n",
    "- `00`: code block\n",
    "- `01`: heap\n",
    "- `10`: stack\n",
    "\n",
    "The rest of the bits indicate how into the segment we want to access."
   ]
  },
  {
   "cell_type": "markdown",
   "metadata": {},
   "source": [
    "<br>\n",
    "<img src=\"images/05_VA.png\" width=\"500\">\n",
    "<br>"
   ]
  },
  {
   "cell_type": "markdown",
   "metadata": {},
   "source": [
    "In this example, the user process has request VA 4200 (converting our binary to decimal).\n",
    "\n",
    "The OS looks at the left 2 bits to determine that the process is trying to access into the heap.\n",
    "\n",
    "Then it looks at the rest of the bits to determine that the process wants the 104th byte in the heap."
   ]
  },
  {
   "cell_type": "markdown",
   "metadata": {},
   "source": [
    "# Preforming the Translations\n",
    "\n",
    "We can use bitwise operations to grab the relevent bits.\n",
    "\n",
    "If we have a mask:\n",
    "\n",
    "`11000000000000`\n",
    "\n",
    "We can bitwise AND it with any 14-bit virtual address to grab the left two bits.\n",
    "\n",
    "```\n",
    "    11000000000000\n",
    "AND 01000001101000\n",
    "    --------------\n",
    "    01000000000000\n",
    "```\n",
    "\n",
    "We can SHIFT this number to the right by 12 to end up with]\n",
    "\n",
    "`00000000000001`"
   ]
  },
  {
   "cell_type": "markdown",
   "metadata": {},
   "source": [
    "<br>\n",
    "<img src=\"images/06_translation.png\" width=\"500\">\n",
    "<br>"
   ]
  }
 ],
 "metadata": {
  "language_info": {
   "name": "python"
  },
  "orig_nbformat": 4
 },
 "nbformat": 4,
 "nbformat_minor": 2
}
