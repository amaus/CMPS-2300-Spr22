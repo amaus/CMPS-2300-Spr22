{
 "cells": [
  {
   "cell_type": "markdown",
   "metadata": {},
   "source": [
    "# The Fast File System\n",
    "\n",
    "The VSFS is very slow. If a file has data block on the last track of the disk and its inodes are on the inner-most tracks of the disk, seek times will be large and it will be very slow to perform an access to this file.\n",
    "\n",
    "Practically, VSFS will often have long seek times.\n",
    "\n",
    "VSFS if terribly slow. The original file system for UNIX was VSFS. VSFS only acheives 2% of the potential bandwidth of the hard disk.\n",
    "\n"
   ]
  },
  {
   "cell_type": "markdown",
   "metadata": {},
   "source": [
    "## Designing a Fast File System.\n",
    "\n",
    "We need to account for the fact that we are on a hard disk.\n",
    "\n",
    "On a hard disk, it is much faster to access blocks that are closer to each other than those that are farther away.\n",
    "\n",
    "We want to avoid seek times. Seeking is the major source of inefficiency.\n",
    "\n",
    "If we can store files, their inodes, and bitmaps on tracks that are close to each other, accessing them will be fast.\n",
    "\n",
    "Theorectically, we can think of tracks that are close together as cylinder groups. E.g, tracks 0-20 across all platters look like a cylinder."
   ]
  },
  {
   "cell_type": "markdown",
   "metadata": {},
   "source": [
    "<br>\n",
    "<img src=\"images/11-cylinder.png\" width=\"500\">\n",
    "<br>"
   ]
  },
  {
   "cell_type": "markdown",
   "metadata": {},
   "source": [
    "Hard disks don't export geometric information so the OS doesn't know which blocks are in which cylinders.\n",
    "\n",
    "In practice, file systems break up disk space into **block groups**. A **block group** is a set of consecutive blocks which will be close together on the hard disk.\n",
    "\n"
   ]
  },
  {
   "cell_type": "markdown",
   "metadata": {},
   "source": [
    "<br>\n",
    "<img src=\"images/12-block-groups.png\" width=\"500\">\n",
    "<br>"
   ]
  },
  {
   "cell_type": "markdown",
   "metadata": {},
   "source": [
    "We know that individual blocks within a block group will be close to each other on the disk.\n",
    "\n",
    "The idea of FFS is to strive to store a file and all of its meta data within the same block group.\n",
    "\n",
    "Every block group will have inodes, data blocks, bitmaps, and a super block.\n",
    "\n",
    "The super block isn't strictly necessary, it's there for redundancy.\n",
    "\n",
    "**A Block Group**"
   ]
  },
  {
   "cell_type": "markdown",
   "metadata": {},
   "source": [
    "<br>\n",
    "<img src=\"images/13-block-group.png\" width=\"500\">\n",
    "<br>"
   ]
  },
  {
   "cell_type": "markdown",
   "metadata": {},
   "source": [
    "## Policy Considerations\n",
    "\n",
    "When we create file and directories, how do we pick which block groups to put them in?\n",
    "\n",
    "We want to store files that tend to be accessed together within the same block group.\n",
    "\n",
    "**Policies**\n",
    "- Creating a new file\n",
    "    - Put it in the same block group as its parent directory. That way all files in a directory are in the same block group. We want to keep their inodes and data blocks in the same block group.\n",
    "- Creating a directory\n",
    "    - Place it in a block with plenty of free inodes so that there's plenty of space for new files. If the file system is getting full, put it in a block group with a low number of other directories.\n",
    "\n",
    "**Large Files**\n",
    "\n",
    "It is possible to have a file larger than a block group.\n",
    "\n",
    "We spread that file over several block groups.\n",
    "\n",
    "After a file fills up some fraction of its block, new data blocks for that file will be put in other block groups.\n",
    "\n",
    "This is a tradeoff between efficiency for accessing this file and efficiency for the system as a whole.\n",
    "\n"
   ]
  },
  {
   "cell_type": "markdown",
   "metadata": {},
   "source": [
    "### Wrap-up\n",
    "\n",
    "Modern file system (the ext family) are all based on the Fast File System"
   ]
  }
 ],
 "metadata": {
  "language_info": {
   "name": "python"
  },
  "orig_nbformat": 4
 },
 "nbformat": 4,
 "nbformat_minor": 2
}
