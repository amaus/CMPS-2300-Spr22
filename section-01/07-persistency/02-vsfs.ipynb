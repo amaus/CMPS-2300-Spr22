{
 "cells": [
  {
   "cell_type": "markdown",
   "metadata": {},
   "source": [
    "# Implementing a File System\n",
    "\n",
    "We will discuss how to build a Very Simple File Systyem (VSFS).\n",
    "\n",
    "The original file system for UNIX was very much likle this.\n",
    "\n",
    "The OS views the hard disk as a set of blocks that it can read/write from/to.\n",
    "\n",
    "A block is 4KB large.\n",
    "\n",
    "To the OS, the hard disk is just a set of N blocks that it can access.\n"
   ]
  },
  {
   "cell_type": "markdown",
   "metadata": {},
   "source": [
    "<br>\n",
    "<img src=\"images/02-blocks.png\" width=\"500\">\n",
    "<br>"
   ]
  },
  {
   "cell_type": "markdown",
   "metadata": {},
   "source": [
    "## How do we build a file system?\n",
    "\n",
    "What do we need? What are we storing and how do we access it?\n",
    "\n",
    "1) A place to store all of the user's actual data, eg. the files.\n",
    "    - Files are stored across 0 or more **data blocks**.\n",
    "2) Per-file metadata: creation/modication times, permissions, size in bytes, # of blocks used for the file, pointers to the blocks that hold the file. Stored in **inodes**.\n",
    "    - inodes are stored in inode blocks.\n",
    "3) Directories. Directories are just files that list all files and directories within them.\n",
    "4) A way of tracking which inodes and data blocks are free.\n",
    "    - this is done using two bitmaps, an **inodes bitmap** and a **data blocks bitmap**\n",
    "5) Meta data for the entire file system itself: start/size of data region, inode region, bitmap locations, file system type, etc.\n",
    "    - This is stored in the **superblock**."
   ]
  },
  {
   "cell_type": "markdown",
   "metadata": {},
   "source": [
    "<br>\n",
    "<img src=\"images/04-blocks.png\" width=\"500\">\n",
    "<br>"
   ]
  },
  {
   "cell_type": "markdown",
   "metadata": {},
   "source": [
    "Whenever we want to create, read, or write to/from files, we will need to read and potentialy modify inodes, data blocks, and (sometimes) bitmaps."
   ]
  },
  {
   "cell_type": "markdown",
   "metadata": {},
   "source": [
    "<br>\n",
    "<img src=\"images/10-inode.png\" width=\"500\">\n",
    "<br>"
   ]
  },
  {
   "cell_type": "markdown",
   "metadata": {},
   "source": [
    "## Example Operation: Reading from /foo/bar"
   ]
  },
  {
   "cell_type": "markdown",
   "metadata": {},
   "source": [
    "Anytime we want to access any file, we always need to traverse to it from the root directory. The root directory is well-known by the OS, that is, the OS always knows its inode number."
   ]
  },
  {
   "cell_type": "markdown",
   "metadata": {},
   "source": [
    "<br>\n",
    "<img src=\"images/05-read-foo-bar.png\" width=\"500\">\n",
    "<br>"
   ]
  },
  {
   "cell_type": "markdown",
   "metadata": {},
   "source": [
    "Inodes point to data blocks for that file/directory.\n",
    "\n",
    "A data block for any directory will list the inodes of all its contents.\n",
    "\n",
    "In order to start to read from `/foo/bar`, we have to start at the root.\n",
    "\n",
    "1) Read in the ROOT inode\n",
    "    - its inode points to its data block\n",
    "2) Read in its data block\n",
    "    - its data block gives us the inode for `/foo`\n",
    "3) Read in `/foo`'s inode\n",
    "    - in order to get `/foo`'s data block\n",
    "4) Read in `/foo`'s data block\n",
    "    - to get `bar`'s inode.\n",
    "    - now that we have bar's inode, we have the pointers to all its data blocks and can read them in one by one.\n",
    "5) Read in `bar`'s data blocks one by one, after each access update `bar`'s inode."
   ]
  },
  {
   "cell_type": "markdown",
   "metadata": {},
   "source": [
    "## Example Operation: Creating then Writing to /foo/bar"
   ]
  },
  {
   "cell_type": "markdown",
   "metadata": {},
   "source": [
    "Create file bar, then write 3 block to it.\n",
    "\n",
    "We will again have to traverse the directory structure, staring from the root and working our way to foo.\n",
    "\n",
    "Then, to create `bar`, we need to create an inode for `bar` which means that we need to look up the inode bitmap and update it to claim a new inode.\n",
    "\n",
    "Then to write to each block, that block must be claimed by reading and updating the data bitmap, and finally writing to the data block and updating `bar`'s inode."
   ]
  },
  {
   "cell_type": "markdown",
   "metadata": {},
   "source": [
    "<br>\n",
    "<img src=\"images/06-write-foo-bar.png\" width=\"500\">\n",
    "<br>"
   ]
  },
  {
   "cell_type": "markdown",
   "metadata": {},
   "source": [
    "## Handling Large Files\n",
    "\n",
    "A single inode can contain points to 15 data blocks, a max of referring to 60 KB for a file.\n",
    "\n",
    "To handle large files, inodes can be chained together as a tree to expand the pointer space."
   ]
  }
 ],
 "metadata": {
  "language_info": {
   "name": "python"
  },
  "orig_nbformat": 4
 },
 "nbformat": 4,
 "nbformat_minor": 2
}
