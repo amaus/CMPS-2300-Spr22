{
 "cells": [
  {
   "cell_type": "markdown",
   "metadata": {},
   "source": [
    "# Implementing a File System\n",
    "\n",
    "We will discuss how to build a Very Simple File Systyem (VSFS).\n",
    "\n",
    "The original file system for UNIX was very much likle this.\n",
    "\n",
    "The OS views the hard disk as a set of blocks that it can read/write from/to.\n",
    "\n",
    "A block is 4KB large.\n",
    "\n",
    "To the OS, the hard disk is just a set of N blocks that it can access.\n"
   ]
  },
  {
   "cell_type": "markdown",
   "metadata": {},
   "source": [
    "## How do we build a file system?\n",
    "\n",
    "What do we need? What are we storing and how do we access it?\n",
    "\n",
    "1) A place to store all of the user's actual data, eg. the files.\n",
    "2) Per-file metadata: creation/modication times, permissions, size in bytes, # of blocks used for the file, pointers to the blocks that hold the file.\n",
    "3) Directories..."
   ]
  }
 ],
 "metadata": {
  "language_info": {
   "name": "python"
  },
  "orig_nbformat": 4
 },
 "nbformat": 4,
 "nbformat_minor": 2
}
