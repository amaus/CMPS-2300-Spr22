{
 "cells": [
  {
   "cell_type": "markdown",
   "metadata": {},
   "source": [
    "# Persistence and Consistency"
   ]
  },
  {
   "cell_type": "markdown",
   "metadata": {},
   "source": [
    "## Crash Consistency\n",
    "\n",
    "Since updates to our file system require multiple updates to the file system's data structures, a crash in the middle of the process could lead to the system ending inconsistent state.\n",
    "\n",
    "## Example\n",
    "\n",
    "To write a new block to a file.\n",
    "\n",
    "We need to update:\n",
    "- the data block BIT MAP\n",
    "- the DATA BLOCK\n",
    "- the INODE for that file"
   ]
  },
  {
   "cell_type": "markdown",
   "metadata": {},
   "source": [
    "### Crash Cases\n",
    "\n",
    "1) The DATA BLOCK is written, but nothing else.\n",
    "    - The user's data has been written, but neither the BITMAP nor INODE have. \n",
    "    - This is as if the data hasn't been written as all since the inode doesn't\n",
    "    refer to it. From the user's perspective, they lost data.\n",
    "    - From the file system's perspective, everything is consistent. The inode\n",
    "    and bitmap agree with each other.\n",
    "2) the BITMAP is written, but nothing else.\n",
    "    - The bitmap says the block is claimed, but NO file refer to it, so it will never be freed. \n",
    "    - This is a space leak. The file system is permanently 4KB smaller.\n",
    "    - The indoes and bitmap disagrees. The file system is in an INCONSISTENT state.\n",
    "3) the INODE is written, but nothing else.\n",
    "    - The inodes says that the data block is part of the file, but the data block\n",
    "    contains garbage. The file will likely get corrupted. \n",
    "    - Also, the bitmap hasn't been written to. This block is still listed as free and could be added to some other file. In this case, we could have two files referring to the\n",
    "    same data block. Then it's possible for the second file to eventually get\n",
    "    corrupted as well if the first ever writes to that shared data block.\n",
    "    The user likely loses data AND the system is in an INCONSISTENT state.\n",
    "4) The DATA BLOCK and BITMAP are written, but not the INODE.\n",
    "    - The system will be INCONSISTENT since the metadata disagrees. \n",
    "    - The user loses data and the system permanently loses space since no files refer to this\n",
    "    data block for it to be freed.\n",
    "5) The DATA BLOCK and INODE are written, but not the BITMAP.\n",
    "    - The system will be INCONSISTENT since the metadata disagrees.\n",
    "    - This data block can potentially be allocated to a second file, leading to the same outcome as case three.\n",
    "6) The BITMAP and INODE are written, but not the DATA BLOCK.\n",
    "    - The system will be consistent since the meta data agrees.\n",
    "    - The user loses data and the file is likely corrupted since one of the data blocks in\n",
    "    the file contains garbage.\n"
   ]
  },
  {
   "cell_type": "markdown",
   "metadata": {},
   "source": [
    "# How to maintain consistency despite unexpected crashes?\n",
    "\n",
    "One way is to fix inconsistencies on reboot. Scan all inodes and bitmaps and update the\n",
    "bitmaps if the inodes don't agree.\n",
    "\n",
    "Of course, this is an extremely expensive price to pay just to fix a single inconsistency.\n",
    "\n",
    "The linux utility `fsck` does exactly this. On small systems, it could add seconds or minutes to book time. On large system, hours or days. \n",
    "\n",
    "Not ideal. A better way:"
   ]
  },
  {
   "cell_type": "markdown",
   "metadata": {},
   "source": [
    "# A Journaling File System\n",
    "\n",
    "To prevent inconsistencies, the file system maintains a journal. \n",
    "\n",
    "When a request comes along, first record what is about to happen, then actually do it.\n",
    "\n",
    "After a poweroff, the system checks the journal and completes any pending requests.\n",
    "\n",
    "If a crash happens in the middle of writing to the journal, that write is lost, but the system is consistent.\n",
    "\n",
    "If a crash happens during writing to the disk, on reboot, the journal entry is replayed and completed.\n",
    "\n",
    "The OS writes **transactions** to the journal. A **transaction** has a header and tail. If the tail is missing, then the system crashed in the middle of writing to the journal.\n",
    "\n",
    "Between the header and tail, the system writes the inodes, bitmaps, and data blocks to be written to disk.\n",
    "\n",
    "This is not efficient, it effectively halves the speed of the disk by writing everything out twice."
   ]
  }
 ],
 "metadata": {
  "language_info": {
   "name": "python"
  },
  "orig_nbformat": 4
 },
 "nbformat": 4,
 "nbformat_minor": 2
}
