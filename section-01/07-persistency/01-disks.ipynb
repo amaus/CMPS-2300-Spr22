{
 "cells": [
  {
   "cell_type": "markdown",
   "metadata": {},
   "source": [
    "# Persistence\n",
    "\n",
    "While with CPU/Mem virtualization and Concurrency, we've focussed alot fo our discussion on safely sharing resources, our major concern for file systems and disks will be robustness.\n",
    "\n",
    "Our goal is to \"permanently\" store information so that it persists across reboots.\n",
    "\n",
    "When we write a file, we want to ensure that what we wanted to write gets written.\n",
    "\n",
    "We need information to persist across reboots, but also unexpected power offs.\n",
    "\n",
    "An unexpected poweroff could corrupt the file system. We need to guarantee this can't happen.\n",
    "\n",
    "## Intro to I/O Devices\n",
    "\n",
    "Computers are organized as a hierarchy of devices\n",
    "\n",
    "At the top is CPU/Mem bus.\n",
    "\n",
    "Below this are other busses that connect to other devices.\n",
    "\n",
    "Eg. Graphics cards, hard disks, keyboards/mice\n",
    "\n",
    "Accessing any I/O device is atleast an order of magnitude slower than performing CPU computations.\n",
    "\n",
    "Many I/O devices have their own microprocessors or even mini CPUs and they execute independently from the main CPU.\n",
    "\n",
    "This allows the OS to delegate the work of performing the write. It makes requests to and from the hard disk.\n",
    "\n",
    "These requests are issued by writing to a set of outward facing registers on the hard disk:\n",
    "- COMMAND\n",
    "- DATA\n",
    "- STATUS\n",
    "\n",
    "The OS likes to write to files in 4KB chunks. When it wants to write to a file, it will write the \"write\" command to the COMMAND register, then copy the 4KB of data to be written from memory onto the DATA register.\n",
    "\n",
    "Then the hard disk will write that data to the actual disk.\n",
    "\n",
    "STATUS is used by the hard disk to post its current status (busy, done).\n",
    "\n",
    "**A Generic Protocol**\n",
    "\n",
    "OS Writing to Hard Disk:\n",
    "\n",
    "```\n",
    "while(STATUS == busy):\n",
    "    spin;\n",
    "write data -> DATA\n",
    "write command -> COMMAND\n",
    "while(STATUS == busy):\n",
    "    spin;\n",
    "// check status, retrieve information, etc.\n",
    "```\n",
    "\n",
    "This would be horribly innefficient.\n",
    "\n",
    "For efficiency, we use interrupts.\n",
    "\n"
   ]
  },
  {
   "cell_type": "markdown",
   "metadata": {},
   "source": [
    "When a process makes an I/O request, the OS will issue the command to the hard disk and it will put the process to sleep in the BLOCKED state.\n",
    "\n",
    "When the request is complete, the disk issues an interrupt which will trigger the OS to change that process from BLOCKED to READY.\n",
    "\n"
   ]
  },
  {
   "cell_type": "markdown",
   "metadata": {},
   "source": [
    "## Some more Detail\n",
    "\n",
    "Hard disks read and write in 512 byte increments because they are organized into 512 byte sectors.\n",
    "\n",
    "The OS likes to perform reads and writes in increments of 4KB.\n",
    "\n",
    "If the OS wants to write 4KB of data to disk, it needs to copy 4KB of data from memory to the DATA register.\n",
    "\n",
    "This can take a while, 4096 memory requests!\n",
    "\n",
    "For efficiencies sake, we don't want to wate the OS's time performing many tedious memory copies.\n",
    "\n",
    "There is dedicated piece of hardware whose purpose it is to perform the copying of data from memory to DATA on behalf of the OS.\n",
    "\n",
    "The **DMA** (Direct Memory Access) does this copying.\n",
    "\n",
    "The OS tells the DMA what range of memory to write and teh DMA copies that memory, freeing the OS to continue scheduling processes productively.\n",
    "\n"
   ]
  },
  {
   "cell_type": "markdown",
   "metadata": {},
   "source": [
    "# An intro to Hard Disks\n",
    "\n",
    "A hard disk has physical spinning disks which hold the data.\n",
    "\n",
    "The disk aluminum platters that have magnetized layers on the top and bottom.\n",
    "\n",
    "Magnetic patterns that store the 1's and 0's.\n",
    "\n",
    "Disks are organized into sectors that are 512 bytes large.\n",
    "\n",
    "They have concentric tracts on them containing the sectors.\n",
    "\n",
    "Each magnetized layer has an arm & head which read/write data to that layer.\n",
    "\n",
    "To read some byte, we must wait for the head to **seek* the correct tract and then for the disk to rotate the byte under the head.\n",
    "\n",
    "The majority of the time reading/writing is spent seeking the correct tract and waiting for the disk to rotate.\n",
    "\n",
    "Hard disks advertize their average seek and rotation times.\n",
    "\n",
    "`T_io = seek_time + rotation_time + transfer_time`"
   ]
  },
  {
   "cell_type": "markdown",
   "metadata": {},
   "source": [
    "<br>\n",
    "<img src=\"images/01-disk.png\" width=\"500\">\n",
    "<br>"
   ]
  }
 ],
 "metadata": {
  "language_info": {
   "name": "python"
  },
  "orig_nbformat": 4
 },
 "nbformat": 4,
 "nbformat_minor": 2
}
