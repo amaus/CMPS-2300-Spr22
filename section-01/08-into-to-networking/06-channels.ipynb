{
 "cells": [
  {
   "cell_type": "markdown",
   "metadata": {},
   "source": [
    "# End-to-End Channels\n",
    "\n",
    "A channel is an open connect between two programs running over a network.\n",
    "\n",
    "Both of these channels run over the IP protocol which specifies the IP addresses of the machine.\n",
    "\n",
    "<br>\n",
    "<img src=\"images/06-channel.png\" width=\"400\">\n",
    "<br>"
   ]
  },
  {
   "cell_type": "markdown",
   "metadata": {},
   "source": [
    "UDP (User Datagram Protocol) is our unreliable channel.\n",
    "\n",
    "TCP (Transmission Control Protocol) is our reliable channel."
   ]
  },
  {
   "cell_type": "markdown",
   "metadata": {},
   "source": [
    "# User Datagram Protocol\n",
    "\n",
    "When using UDP, packets are simply sent towards their destination.\n",
    "\n",
    "If they don't arrive, no corrective action is taken.\n",
    "\n",
    "UDP runs over IP, but adds the ability to specify which application the packets should be sent to.\n",
    "\n",
    "**UDP Header**\n",
    "\n",
    "<br>\n",
    "<img src=\"images/21-udp.png\" width=\"300\">\n",
    "<br>"
   ]
  },
  {
   "cell_type": "markdown",
   "metadata": {},
   "source": [
    "When an application sends a UDP packet, it prepends the UDP header to the data and sends this to the IP protocol which will prepend its own header and then the packet will be sent over the network."
   ]
  },
  {
   "cell_type": "markdown",
   "metadata": {},
   "source": [
    "# Transmission Control Protocol\n",
    "\n",
    "TCP opens a two-way byte stream channel between processes.\n",
    "\n"
   ]
  },
  {
   "cell_type": "markdown",
   "metadata": {},
   "source": [
    "TCP breaks the byte stream into \"segments\" that will be sent to the destination.\n",
    "\n",
    "<br>\n",
    "<img src=\"images/22-tcp-byte-stream.png\" width=\"400\">\n",
    "<br>"
   ]
  },
  {
   "cell_type": "markdown",
   "metadata": {},
   "source": [
    "When we \"send\" data through a TCP channel, it's buffered and broken into segments which are sent as packets over the network to their destination.\n",
    "\n",
    "TCP guarantees that all bytes will eventually arrive.\n",
    "\n",
    "TCP does this via the **sliding window algorithm**."
   ]
  },
  {
   "cell_type": "markdown",
   "metadata": {},
   "source": [
    "## The Sliding Window Algorithm\n",
    "\n",
    "TCP achieves reliability using special Acknowledgment packets (ACKs) and timeouts.\n",
    "\n",
    "### Stop and Wait\n",
    "\n",
    "The simplest way is to wait for every packet to be ACK'd before sending the next packet.\n",
    "\n",
    "<br>\n",
    "<img src=\"images/23-stop-wait.png\" width=\"300\">\n",
    "<br>"
   ]
  },
  {
   "cell_type": "markdown",
   "metadata": {},
   "source": [
    "There are four possible scenarios for transmitting a single packet:\n",
    "\n",
    "<br>\n",
    "<img src=\"images/24-stop-wait-cases.png\" width=\"400\">\n",
    "<br>"
   ]
  },
  {
   "cell_type": "markdown",
   "metadata": {},
   "source": [
    "Stop and wait isn't efficient.\n",
    "\n",
    "Every single packets requires an entire round trip before the nect packet can be sent because the current packet has to arrive and then so does the ACK.\n",
    "\n",
    "A crucial property of networks is the amount of data that can be in transit at any given time.\n",
    "\n",
    "If we have a network with a bandwidth of 1 Mbps and a latency of 10 seconds, then there are 10Mbits \"on the wire\" at any given time.\n",
    "\n",
    "This is our bandwidth x latency product and it gives a measure of how many packets can be between the sender and receiver at any given time.\n",
    "\n",
    "How many packets can you transmit before the first has arrived to its destination?\n",
    "\n",
    "If a packet is 1KB, then it is a tiny fraction of the data that could be in transit over the network.\n",
    "\n",
    "We can send many packets before the first ACK could arrive."
   ]
  },
  {
   "cell_type": "markdown",
   "metadata": {},
   "source": [
    "## Sliding Window\n",
    "\n",
    "The sender transmits multiple packets at a time in order to better utilize the network capacity.\n",
    "\n",
    "If we don't get an ACK for some individual packet, then that packet is resent.\n",
    "\n",
    "If the entire message is a contiguous set of packets to be sent, there will be some window of those packets which have been sent and are awaiting acknowledgements. As ACK's arrive, that window moves forward."
   ]
  },
  {
   "cell_type": "markdown",
   "metadata": {},
   "source": [
    "<br>\n",
    "<img src=\"images/25-sliding-window.png\" width=\"400\">\n",
    "<br>"
   ]
  },
  {
   "cell_type": "markdown",
   "metadata": {},
   "source": [
    "SWS: \"Sending window size\"\n",
    "\n",
    "LFS: \"Last Frame Sent\"\n",
    "\n",
    "LAR: \"Latest ACK Received\"\n",
    "\n",
    "The next packets isn't sent until the packet immediately to the right of LAR is ACK'd.\n",
    "\n",
    "The window moves foward as packets furthest in the past are ACK'd"
   ]
  },
  {
   "cell_type": "markdown",
   "metadata": {},
   "source": [
    "<br>\n",
    "<img src=\"images/26-sw-timeline.png\" width=\"300\">\n",
    "<br>"
   ]
  },
  {
   "cell_type": "markdown",
   "metadata": {},
   "source": [
    "<br>\n",
    "<img src=\"images/27-tcp.png\" width=\"300\">\n",
    "<br>"
   ]
  },
  {
   "cell_type": "markdown",
   "metadata": {},
   "source": [
    "SequenceNum and AdvertisedWindow are used for Sliding Window.\n",
    "\n",
    "AdverstisedWindow is set by the receiver based on the size of its buffer for incoming data.\n",
    "\n",
    "Acknowledge is field that allows for information to be passed back and forth by the TCP protocol\n",
    "\n",
    "Flags is field that allows for the type of this TCP packet to be specified:\n",
    "- ACK\n",
    "- SYN: is the special packet that is sent to start to establish a TCP channel.\n",
    "- FIN: is used to tear down a TCP channel\n",
    "- PUSH: indicates that the receiving process should be notified when this packet arrives\n",
    "- URG: indicates that this packet contains urgent data\n",
    "\n"
   ]
  },
  {
   "cell_type": "markdown",
   "metadata": {},
   "source": [
    "## Setting up a TCP Channel\n",
    "\n",
    "TO set up a TCP channel, the sender and receiver need to agree on their sequence numbers.\n",
    "\n",
    "SequenceNumbers refer to byte numbers and indicate the number of the first cyte in this packet.\n",
    "\n",
    "TCP channels are established using a three-way handshake:\n",
    "\n"
   ]
  },
  {
   "cell_type": "markdown",
   "metadata": {},
   "source": [
    "<br>\n",
    "<img src=\"images/28-three-way-handshake.png\" width=\"300\">\n",
    "<br>"
   ]
  },
  {
   "cell_type": "markdown",
   "metadata": {},
   "source": [
    "The purpose is to agree on sequence numbers.\n",
    "\n",
    "The client and server pick (randomly) their own starting sequence numbers, independent of each other.\n",
    "\n",
    "The client starts by sending a SYN packet listing its SequenceNumber.\n",
    "\n",
    "The server responds with a SYN-ACK packet listing its own SequenceNumber and acknowledging the clients.\n",
    "\n",
    "Finally the client responds with an ACK, acknowledging the servers SequenceNumber.\n",
    "\n",
    "Why choose the numbers randomly?\n",
    "\n",
    "It is possible for many incarnations of the same TCP channel to be created one after the other.\n",
    "\n",
    "If a packet from a previous incarnation arrives VERY LATE, but has a valid sequence number for the current incarnation, it will be incorrectly accepted.\n",
    "\n",
    "Starting SequenceNumbers are chosen randomly as a guard against this. The probability that two subsequence incarnations will use the same range or anywhere close to it is neglible."
   ]
  }
 ],
 "metadata": {
  "language_info": {
   "name": "python"
  },
  "orig_nbformat": 4
 },
 "nbformat": 4,
 "nbformat_minor": 2
}
