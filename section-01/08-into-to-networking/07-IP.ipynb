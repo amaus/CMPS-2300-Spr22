{
 "cells": [
  {
   "cell_type": "markdown",
   "metadata": {},
   "source": [
    "# The Internet Protocol\n",
    "\n",
    "internets are built as interconnected networks. They can be of many different types.\n",
    "\n",
    "We have wifi along ethernet, along with other mediums as well.\n",
    "\n",
    "<br>\n",
    "<img src=\"images/29-internet.png\" width=\"300\">\n",
    "<br>\n",
    "\n",
    "The IP protocol is designed to span this varying technologies (including unkown future ones) and to be able to scale indefinitely.\n",
    "\n"
   ]
  },
  {
   "cell_type": "markdown",
   "metadata": {},
   "source": [
    "To allow a protocol to work over many underlying technologies which can scale indefinitely, we want to design a protocol that provides as few guarantees as possible because any guarantee cuts off possible technologies that it can work on top of. We want a simple protocol.\n",
    "\n",
    "A **service model** is the set of guarantees that some protocol provides.\n",
    "\n",
    "IP's Service Mode:\n",
    "- Connectionless, persistent open channels will not be provided.\n",
    "- Best effort on delivery. No guarantee that any individual packet will arrive.\n",
    "\n",
    "This requires the least amount of overhead and is the easiest to implement on any underlying hardware.\n",
    "\n",
    "IP runs on top of all underlying hardware/technology:\n",
    "\n",
    "<br>\n",
    "<img src=\"images/30-protocol-stack.png\" width=\"400\">\n",
    "<br>"
   ]
  },
  {
   "cell_type": "markdown",
   "metadata": {},
   "source": [
    "# The IP Protocol Definition\n",
    "\n",
    "The IP protocol defines:\n",
    "- An addressing scheme (IP addresses)\n",
    "- The format of IP packet headers"
   ]
  },
  {
   "cell_type": "markdown",
   "metadata": {},
   "source": [
    "## IP Addresses\n",
    "\n",
    "Every device on a network has an IP address. IP Addresses allow us identify and navigate to all devices on the internet. \n",
    "\n",
    "My IP address is 10.129.15.141.\n",
    "\n",
    "IPv4 addresses are written sets of four 8-bit numbers delimited by periods.\n",
    "\n",
    "They are 32 bit numbers. Each decimal is in the range ofg 0-255.\n",
    "\n",
    "As 32-bit numbers, there are only ~4 Billion addresses. Not enough.\n",
    "\n",
    "IPv6 is the new version and it specifies 128-bit addresses written in hexadecimal.\n",
    "\n",
    "IP addresses is not flat. It is hierarchical.\n",
    "\n"
   ]
  },
  {
   "cell_type": "markdown",
   "metadata": {},
   "source": [
    "### IP Address Classes\n",
    "\n",
    "IP addresses are organized into classes: A,B,C,D,E\n",
    "\n",
    "Every IP address has two parts: a network ID and a host ID.\n",
    "\n",
    "All devices on the network have the same network ID.\n",
    "\n",
    "Classes are distinguished by the leftmost bits of the address.\n",
    "\n",
    "Class A addresses have a 0 in the left most bit."
   ]
  },
  {
   "cell_type": "markdown",
   "metadata": {},
   "source": [
    "<br>\n",
    "<img src=\"images/31-ip-classes.png\" width=\"400\">\n",
    "<br>"
   ]
  },
  {
   "cell_type": "markdown",
   "metadata": {},
   "source": [
    "Each class has a different number of network and host bits.\n",
    "\n",
    "\n",
    "```\n",
    "Class   Network ID              Host ID\n",
    " A      7-bits (128 network)    24-bits\n",
    " B      14-bits                 16-bits (65,543 hosts)\n",
    " C      21-bits                 8-bits (256 hosts)\n",
    "```\n",
    "\n",
    "There are very few large class A networks and there are ALOT of class C networks.\n",
    "\n",
    "Class C networks are generally small local home networks.\n",
    "\n",
    "Class A are regional or continental networks.\n",
    "\n",
    "Class B are campus sized networks.\n",
    "\n",
    "**Aside**\n",
    "\n",
    "We can specify other breakdowns for network ID vs host id in our addresses. \n",
    "\n",
    "The generalized notation for specifying these breakpoints is the CIDR notation."
   ]
  },
  {
   "cell_type": "markdown",
   "metadata": {},
   "source": [
    "## IP Packet Header\n",
    "\n",
    "### Supporting varying underlying hardware\n",
    "\n",
    "IP packets can be arbitrarily large. Underlying hardway may limit the size of the frames that travel over it.\n",
    "\n",
    "IP provides information needed in order to break up a single packet into individual chunks which can be put back together again on the other side of the link.\n",
    "\n",
    "#### IP Fragmentation\n",
    "\n",
    "<br>\n",
    "<img src=\"images/32-fragmentation.png\" width=\"200\">\n",
    "<br>"
   ]
  },
  {
   "cell_type": "markdown",
   "metadata": {},
   "source": [
    "Ident is the ip packet ID for this frame. Each of the 3 in figure b) about have the Ident number.\n",
    "\n",
    "Offset if the offset of this data into the original packet.\n",
    "\n",
    "Packets can only be broken up along 8 byte barriers so the offset indicate the number of 8 byte chunks this data is offet into.\n",
    "\n",
    "Eg, an offset of 64 means this data is offset 64*8 = 512 bytes into the original frame."
   ]
  },
  {
   "cell_type": "markdown",
   "metadata": {},
   "source": [
    "<br>\n",
    "<img src=\"images/33-ip-header.png\" width=\"300\">\n",
    "<br>"
   ]
  }
 ],
 "metadata": {
  "language_info": {
   "name": "python"
  },
  "orig_nbformat": 4
 },
 "nbformat": 4,
 "nbformat_minor": 2
}
