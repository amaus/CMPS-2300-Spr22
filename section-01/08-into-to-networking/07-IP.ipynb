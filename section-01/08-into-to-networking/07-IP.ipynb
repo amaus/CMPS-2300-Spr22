{
 "cells": [
  {
   "cell_type": "markdown",
   "metadata": {},
   "source": [
    "# The Internet Protocol\n",
    "\n",
    "internets are built as interconnected networks. They can be of many different types.\n",
    "\n",
    "We have wifi along ethernet, along with other mediums as well.\n",
    "\n",
    "<br>\n",
    "<img src=\"images/29-internet.png\" width=\"300\">\n",
    "<br>\n",
    "\n",
    "The IP protocol is designed to span this varying technologies (including unkown future ones) and to be able to scale indefinitely.\n",
    "\n"
   ]
  },
  {
   "cell_type": "markdown",
   "metadata": {},
   "source": [
    "To allow a protocol to work over many underlying technologies which can scale indefinitely, we want to design a protocol that provides as few guarantees as possible because any guarantee cuts off possible technologies that it can work on top of. We want a simple protocol.\n",
    "\n",
    "A **service model** is the set of guarantees that some protocol provides.\n",
    "\n",
    "IP's Service Mode:\n",
    "- Connectionless, persistent open channels will not be provided.\n",
    "- Best effort on delivery. No guarantee that any individual packet will arrive.\n",
    "\n",
    "This requires the least amount of overhead and is the easiest to implement on any underlying hardware.\n",
    "\n",
    "IP runs on top of all underlying hardware/technology:\n",
    "\n",
    "<br>\n",
    "<img src=\"images/30-protocol-stack.png\" width=\"400\">\n",
    "<br>"
   ]
  },
  {
   "cell_type": "markdown",
   "metadata": {},
   "source": [
    "# The IP Protocol Definition\n",
    "\n",
    "The IP protocol defines:\n",
    "- An addressing scheme (IP addresses)\n",
    "- The format of IP packet headers"
   ]
  }
 ],
 "metadata": {
  "language_info": {
   "name": "python"
  },
  "orig_nbformat": 4
 },
 "nbformat": 4,
 "nbformat_minor": 2
}
