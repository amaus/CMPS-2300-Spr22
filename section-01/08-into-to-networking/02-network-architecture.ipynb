{
 "cells": [
  {
   "cell_type": "markdown",
   "metadata": {},
   "source": [
    "# Network Architecture"
   ]
  },
  {
   "cell_type": "markdown",
   "metadata": {},
   "source": [
    "The architecture of the Internet has allowed it to be scalable.\n",
    "\n",
    "# Lowest level: Individual computers linked to each other\n",
    "\n",
    "Can be a single direct link, or a shared link for multiple devices.\n",
    "\n",
    "Single direct link: a cable\n",
    "\n",
    "Multiple device link: wifi or bluetooth"
   ]
  },
  {
   "cell_type": "markdown",
   "metadata": {},
   "source": [
    "<br>\n",
    "<img src=\"images/01-links.png\" width=\"400\">\n",
    "<br>"
   ]
  },
  {
   "cell_type": "markdown",
   "metadata": {},
   "source": [
    "# Level 2: Networks built out of groups of devices\n",
    "\n",
    "Groups of computers within the same network will need their traffic routed to each other though 1 or more switches.\n",
    "\n",
    "Examples of **switches**: ethernet switch, wifi routers"
   ]
  },
  {
   "cell_type": "markdown",
   "metadata": {},
   "source": [
    "<br>\n",
    "<img src=\"images/02-switched-network.png\" width=\"400\">\n",
    "<br>"
   ]
  },
  {
   "cell_type": "markdown",
   "metadata": {},
   "source": [
    "Examples of this sort of network: Universites, Businesses, etc."
   ]
  },
  {
   "cell_type": "markdown",
   "metadata": {},
   "source": [
    "Level 3: Interconnected Networks\n",
    "\n",
    "Local networks can be connected together through **gateways**.\n",
    "\n",
    "A home networks router is its gateway to the wider internet through its Internet Service Provider (ISP).\n",
    "\n",
    "Local networks connect to their ISP through gateways. The ISP routes traffice all devices within its network but also has gateways to other ISPs."
   ]
  },
  {
   "cell_type": "markdown",
   "metadata": {},
   "source": [
    "<br>\n",
    "<img src=\"images/03-internetwork.png\" width=\"400\">\n",
    "<br>"
   ]
  },
  {
   "cell_type": "markdown",
   "metadata": {},
   "source": [
    "This is an interconnected network of networks, an \"internet\".\n",
    "\n",
    "\"Internet\" with a \"I\" is the global Internet we commonly refer to."
   ]
  },
  {
   "cell_type": "markdown",
   "metadata": {},
   "source": [
    "# Communicating Across Switches: Packets\n",
    "\n",
    "Communicating across switches is done by sending packets.\n",
    "\n",
    "A **packet** is a single message of a limited size that can be sent through the network.\n",
    "\n",
    "Packets contain the user's message, but also have a section for metadata (destination, source, size of message, etc).\n",
    "\n",
    "Switches accept and forward packets the network. They can accept packets from many devices as once. When forwarding packets, they interleave the packets from multiple senders for fairness.\n",
    "\n"
   ]
  },
  {
   "cell_type": "markdown",
   "metadata": {},
   "source": [
    "<br>\n",
    "<img src=\"images/05-packet-switched-link.png\" width=\"400\">\n",
    "<br>"
   ]
  },
  {
   "cell_type": "markdown",
   "metadata": {},
   "source": [
    "If a switch receiver packets faster than it can forward them, packets will be dropped.\n",
    "\n",
    "Switches store incoming packets in a queue and if that queue gets full, incoming packets are dropped."
   ]
  },
  {
   "cell_type": "markdown",
   "metadata": {},
   "source": [
    "# Abstraction and Networking\n",
    "\n",
    "Networks are complex and when communicating between programs, it is useful to ignore all lower level details (network architecture, routing, etc.)\n",
    "\n",
    "A chief abstraction is that of a communications channel.\n",
    "\n",
    "A **channel** allows us to ignore all underlying detail of the network and just focus on having a way to communicate between two running programs."
   ]
  },
  {
   "cell_type": "markdown",
   "metadata": {},
   "source": [
    "<br>\n",
    "<img src=\"images/06-channel.png\" width=\"400\">\n",
    "<br>"
   ]
  },
  {
   "cell_type": "markdown",
   "metadata": {},
   "source": [
    "### Networking Layers\n",
    "\n",
    "We think about networks as having layers:\n",
    "\n",
    "<br>\n",
    "<img src=\"images/10-layered-network.png\" width=\"300\">\n",
    "<br>"
   ]
  },
  {
   "cell_type": "markdown",
   "metadata": {},
   "source": [
    "<br>\n",
    "<img src=\"images/11-layered-network.png\" width=\"300\">\n",
    "<br>"
   ]
  },
  {
   "cell_type": "markdown",
   "metadata": {},
   "source": [
    "<br>\n",
    "<img src=\"images/12-host-to-host.png\" width=\"400\">\n",
    "<br>"
   ]
  },
  {
   "cell_type": "markdown",
   "metadata": {},
   "source": [
    "<br>\n",
    "<img src=\"images/13-encapsulation.png\" width=\"400\">\n",
    "<br>"
   ]
  },
  {
   "cell_type": "markdown",
   "metadata": {},
   "source": [
    "The HHP is the protocol that provides the metadata needed for packets to be routed through the internet. It internet addressing.\n",
    "\n",
    "This is the IP (Internet Protocol) protocol. \n",
    "\n",
    "An IP address is an Internet Protocol Address.\n",
    "\n",
    "IPv4 and IPv6 are both in use.\n",
    "\n",
    "All packets use the IP protocol."
   ]
  },
  {
   "cell_type": "markdown",
   "metadata": {},
   "source": [
    "<br>\n",
    "<img src=\"images/14-hourglass.png\" width=\"300\">\n",
    "<br>"
   ]
  },
  {
   "cell_type": "markdown",
   "metadata": {},
   "source": [
    "The OSI Model:\n",
    "\n",
    "<br>\n",
    "<img src=\"images/15-osi.png\" width=\"400\">\n",
    "<br>"
   ]
  }
 ],
 "metadata": {
  "language_info": {
   "name": "python"
  },
  "orig_nbformat": 4
 },
 "nbformat": 4,
 "nbformat_minor": 2
}
