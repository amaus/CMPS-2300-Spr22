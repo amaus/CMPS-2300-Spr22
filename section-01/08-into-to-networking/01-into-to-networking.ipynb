{
 "cells": [
  {
   "cell_type": "markdown",
   "metadata": {},
   "source": [
    "# Introduction to Networking\n",
    "\n",
    "Goals for designing a computer network:\n",
    "\n",
    "1) Must be general purpose (not geared towards a specific purpose, like telephone networks, television networks)\n",
    "2) Must support a diverse and growing set of applications\n",
    "3) Must be able to grow arbitrarily large\n",
    "4) While still providing high performance and robustness"
   ]
  },
  {
   "cell_type": "markdown",
   "metadata": {},
   "source": [
    "## Different Requirements on the Network\n",
    "\n",
    "### The World-Wide Web\n",
    "\n",
    "When we request a web page, we want the whole thing.\n",
    "\n",
    "We want a guarantee that all of the data will arrive, and a little latency isn't deal-breaker.\n",
    "\n",
    "When any file is sent over the network, its broken up into packets which are sent individually. When any individual packet is sent, it is impossible to guarantee that it will arrive. For reliability, we might have to request that missing or corrupted packets get resent.\n",
    "\n",
    "This is pupose of the \"TCP\" Protocol.\n",
    "\n",
    "To request a webpage, multiple messages will have to be exchanged:\n",
    "1) Translate between domain name and IP address. a \"DNS\" or Domain Name Service lookup. Requires 6 messages\n",
    "2) Set up the TCP channel, 3 messages to initiate\n",
    "3) Request and receive the web page. Requires atleast 4 messages: \"GET\" requests\n",
    "4) Close the TCP channel, 4 messages\n",
    "\n",
    "### Video Calls or Streaming\n",
    "\n",
    "We don't need the same robustness. If a single frame of the video is missing, we might not even notice, but if we had the overhead of making sure every frame did arrive, we would notice that lag.\n",
    "\n",
    "Requirements:\n",
    "- Timely arrival of messages, need real time interaction\n",
    "- Not every frame required\n",
    "\n",
    "For applications like this, we can use the \"UDP\" channel. It is not robust, but its very fast since there is no overhead."
   ]
  },
  {
   "cell_type": "markdown",
   "metadata": {},
   "source": []
  }
 ],
 "metadata": {
  "language_info": {
   "name": "python"
  },
  "orig_nbformat": 4
 },
 "nbformat": 4,
 "nbformat_minor": 2
}
