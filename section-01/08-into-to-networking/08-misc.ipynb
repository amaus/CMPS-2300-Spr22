{
 "cells": [
  {
   "cell_type": "markdown",
   "metadata": {},
   "source": [
    "# Domain Name Servers\n",
    "\n",
    "These servers allow us to lookup the IP address for some domain name.\n",
    "\n",
    "Domain Name Hierarchy:"
   ]
  },
  {
   "cell_type": "markdown",
   "metadata": {},
   "source": [
    "<br>\n",
    "<img src=\"images/34-domain-hierarchy.png\" width=\"500\">\n",
    "<br>"
   ]
  },
  {
   "cell_type": "markdown",
   "metadata": {},
   "source": [
    "Domain name servers are organized in a hierarchy that matches the domain names.\n",
    "\n",
    "There is a DNS server that manages .edu domains.\n",
    "\n",
    "To perform a DNS lookup, we start at the top and work our way down.\n",
    "\n",
    "TO access `cs.tulane.edu`, we first query the `.edu` DNS server.\n",
    "\n",
    "DNS servers keep records of a few types\n",
    "- NS record Name Server, contains the IP address of a name server to reach out to\n",
    "- A record, ip address for specific domain\n",
    "- MX record, mail server record\n",
    "- CNAME record, domain name alias record\n",
    "\n"
   ]
  },
  {
   "cell_type": "markdown",
   "metadata": {},
   "source": [
    "## The process\n",
    "\n",
    "We want to start with the top level domain server which will direct to lower level domain servers.\n",
    "\n",
    "Since every device on the internet might not know the IP addresses of all top level domain servers, every device is configure to reach out to some local DNS server which then reached out to the top level server.\n",
    "\n",
    "A visual:"
   ]
  },
  {
   "cell_type": "markdown",
   "metadata": {},
   "source": [
    "<br>\n",
    "<img src=\"images/36-dns-request.png\" width=\"500\">\n",
    "<br>"
   ]
  },
  {
   "cell_type": "markdown",
   "metadata": {},
   "source": [
    "## IP address configuration\n",
    "\n",
    "IP address assignment happens automatically. IP addresses are assigned by a DHCP (Dynamic Host Configuration Protocol).\n",
    "\n",
    "This is program running on some server on your local network that manages local IP addresses.\n",
    "\n",
    "When a computer connects to a new network, it needs to reach out to the DHCP server to get an IP address. Since it doesn't know where this server is, it sends out a broadcast message to 255.255.255.255. The DHCP server responds, giving the computer an IP address.\n",
    "\n"
   ]
  }
 ],
 "metadata": {
  "language_info": {
   "name": "python"
  },
  "orig_nbformat": 4
 },
 "nbformat": 4,
 "nbformat_minor": 2
}
