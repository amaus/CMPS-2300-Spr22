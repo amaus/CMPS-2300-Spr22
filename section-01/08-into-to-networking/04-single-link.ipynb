{
 "cells": [
  {
   "cell_type": "markdown",
   "metadata": {},
   "source": [
    "# Communicating over a link\n",
    "\n",
    "At the hardware level, we need to transmit discrete digital data over a medium that accepts signals in come continuous range: eg, voltages over a wire.\n",
    "\n",
    "Network adapters encode and decode the signal they send and receive."
   ]
  },
  {
   "cell_type": "markdown",
   "metadata": {},
   "source": [
    "<br>\n",
    "<img src=\"images/15-network-adapter.png\" width=\"400\">\n",
    "<br>"
   ]
  },
  {
   "cell_type": "markdown",
   "metadata": {},
   "source": [
    "For simplicity, we'll assume that we have a HIGH and LOW signal. HIGH is 1 and LOW is 0.\n",
    "\n",
    "Network adapters have two major challenges:\n",
    "\n",
    "1) They need to keep a threshold to distinguish between HIGH and LOW.\n",
    "2) They need to keep synchronized clocks so that the receiver knows when to read bits.\n",
    "\n",
    "To distinguish between HIGH and LOW, we can keep a running average of the signal received. \n",
    "\n",
    "If we receive long strings of 1's or 0's, the running average might get thrown off.\n",
    "\n",
    "We need an encoding that doesn't allow for long strings of 0's or 1's.\n",
    "\n",
    "The receiver synchonizes its clock based on the transitions between signals since the sender will only transition between bits at a clock tick.\n",
    "\n",
    "The receiver will constantly calibrate its clock based on the signals it received.\n",
    "\n",
    "If there aren't transitions, the receiver's clock can drift. Again, long strings of 0's and 1's throws the whole process off."
   ]
  },
  {
   "cell_type": "markdown",
   "metadata": {},
   "source": [
    "## 4B/5B\n",
    "\n",
    "4B/5B is a simple encoding where every every 4 bits are encoded as a 5 bit sequence.\n",
    "\n",
    "4B/5B can be expressed as a 16 entry table giving the 5 bits to be sent for each 4 bit message.\n",
    "\n"
   ]
  },
  {
   "cell_type": "markdown",
   "metadata": {},
   "source": [
    "<br>\n",
    "<img src=\"images/16-4b5b.png\" width=\"250\">\n",
    "<br>"
   ]
  },
  {
   "cell_type": "markdown",
   "metadata": {},
   "source": [
    "## Dealing with bit errors\n",
    "\n",
    "Even with working network adaptors, bit errors are still possible: electrical interference, cosmic rays"
   ]
  },
  {
   "cell_type": "markdown",
   "metadata": {},
   "source": [
    "We can detect bit errors by generating and including **error detecting codes** with the messages being sent.\n",
    "\n",
    "A **checksum** is an example of an error detecting code. A checksum is the sum of the bits in a message.\n",
    "\n",
    "With enough extra information, we can provide **error correcting codes** which can allow a receive to notice and correct bit errors.\n",
    "\n"
   ]
  },
  {
   "cell_type": "markdown",
   "metadata": {},
   "source": [
    "### Cyclic Redundancy Check\n",
    "\n",
    "This is an application of a branch of mathematics called finite fields.\n",
    "\n",
    "We can represent bit sequences as coefficients of a polynomial.\n",
    "\n",
    "E.g, 1101\n",
    "\n",
    "would represent\n",
    "\n",
    "$x^3 + x^2 + 1$\n",
    "\n",
    "We can divide polynomials. \n",
    "\n",
    "In CRC, the sender and receiver agree on a common divisor polynomial. \n",
    "\n",
    "The sender modifies its messages to be evenly divisible by this polynomial.\n",
    "\n",
    "It calculates the remainder of that division and in essence appends it to the original message.\n",
    "\n"
   ]
  },
  {
   "cell_type": "markdown",
   "metadata": {},
   "source": [
    "## The Algorithm\n",
    "\n",
    "To send a message M and it has a common divisor polynomial K:\n",
    "\n",
    "K has a degree k, the order of its highest order term.\n",
    "\n",
    "1) Shift M to left by k bits, giving us a modified message T.\n",
    "2) Calculate the remainder R of T divided by K.\n",
    "3) Subtract the remainder R from T. The result is now divisible by the divisor polynomial.\n",
    "\n",
    "Note: We are operating in \"polynomial arithmetic modulo 2\"\n",
    "\n",
    "The remainder can be calulated by a succession of XOR's and the subtraction can also be performed by a single XOR.\n",
    "\n",
    "The remainder will always be k bits large.\n",
    "```\n",
    "If the original message M: 11001101\n",
    "Divisor Polynomial K:      1101\n",
    "\n",
    "Shifted Message T:         11001101000\n",
    "Remainder R:               00000000010\n",
    "T XOR R:                   11001101010\n",
    "```\n",
    "XOR\n",
    "```\n",
    "a b | a(+)b\n",
    "-----------\n",
    "0 0 |  0\n",
    "0 1 |  1\n",
    "1 0 |  1\n",
    "1 1 |  0\n",
    "```"
   ]
  }
 ],
 "metadata": {
  "language_info": {
   "name": "python"
  },
  "orig_nbformat": 4
 },
 "nbformat": 4,
 "nbformat_minor": 2
}
