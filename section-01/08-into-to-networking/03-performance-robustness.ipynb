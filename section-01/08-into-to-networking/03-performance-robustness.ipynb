{
 "cells": [
  {
   "cell_type": "markdown",
   "metadata": {},
   "source": [
    "# Performance"
   ]
  },
  {
   "cell_type": "markdown",
   "metadata": {},
   "source": [
    "The amount of it takes to transfer data over a network is a function of the network's **latency** and **bandwidth**.\n",
    "\n",
    "**Latency** is how long it takes from when the first bit is sent to when it arrives at its destination.\n",
    "\n",
    "**Bandwidth** is the amount of BITS that can be transmitted over a network in a given amount of time, one second.\n",
    "\n",
    "E.g., 10Mbps (mega-bits per second) is 10 million bits per second. The mega refers to 10^6, not to be confused with MB (mega bytes)."
   ]
  }
 ],
 "metadata": {
  "language_info": {
   "name": "python"
  },
  "orig_nbformat": 4
 },
 "nbformat": 4,
 "nbformat_minor": 2
}
