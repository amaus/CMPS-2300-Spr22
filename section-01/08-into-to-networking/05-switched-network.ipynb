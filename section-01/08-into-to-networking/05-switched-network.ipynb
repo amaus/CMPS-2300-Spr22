{
 "cells": [
  {
   "cell_type": "markdown",
   "metadata": {},
   "source": [
    "# Switched Networks\n",
    "\n",
    "To start our discussion of routing between hosts, we'll examine switched networks.\n",
    "\n",
    "Remember an internet in an interconnected network of switched networks."
   ]
  },
  {
   "cell_type": "markdown",
   "metadata": {},
   "source": [
    "## Bridges\n",
    "\n",
    "A bridge is device that connects to groups of hosts:"
   ]
  },
  {
   "cell_type": "markdown",
   "metadata": {},
   "source": [
    "<br>\n",
    "<img src=\"images/18-simple-bridge.png\" width=\"400\">\n",
    "<br>"
   ]
  },
  {
   "cell_type": "markdown",
   "metadata": {},
   "source": [
    "The links on either side of the bridge are shared.\n",
    "\n",
    "If A sends a message destined to B, B will hear it because it is connected to the shared link. The job of the bridge is to decide whether to broadcast that message to the other link or not.\n",
    "\n",
    "A simple bridge keeps a table of the hosts connected to either port:\n",
    "\n",
    "```\n",
    "Host | Port\n",
    "-----------\n",
    " A   |  1\n",
    " B   |  1\n",
    " C   |  1\n",
    " X   |  2\n",
    " Y   |  2\n",
    " Z   |  2\n",
    "```\n",
    "\n",
    "With this table, the bridge can always decide whether it needs to forward a packet to the other port."
   ]
  },
  {
   "cell_type": "markdown",
   "metadata": {},
   "source": [
    "## Building the Table\n",
    "\n",
    "For very small static networks the table could be hard coded.\n",
    "\n",
    "For dynamic networks, the table is learned as packets are received.\n",
    "\n",
    "It starts out empty. When the bridge receives a packet on one of its ports, it added that host and port to its table.\n",
    "\n",
    "Every entry has a Time To Live (TTL). If TTL expires and no new messages have been received from that host, its entry is removed."
   ]
  },
  {
   "cell_type": "markdown",
   "metadata": {},
   "source": [
    "## A More Complicated Switched Network\n",
    "\n",
    "Many switched netwoks consist of a switches and hosts connected to them.\n",
    "\n"
   ]
  },
  {
   "cell_type": "markdown",
   "metadata": {},
   "source": [
    "<br>\n",
    "<img src=\"images/19-learning-bridges.png\" width=\"400\">\n",
    "<br>"
   ]
  },
  {
   "cell_type": "markdown",
   "metadata": {},
   "source": [
    "Loops in networks like this can cause packet to get indefinitely stuck within them.\n",
    "\n",
    "We want to configure the network so that it behaves as if there were no cycles. Every switch will have preferred links that it will use so that resulting network graph is acyclic."
   ]
  },
  {
   "cell_type": "markdown",
   "metadata": {},
   "source": [
    "<br>\n",
    "<img src=\"images/20-learning-bridges-spanning.png\" width=\"400\">\n",
    "<br>"
   ]
  },
  {
   "cell_type": "markdown",
   "metadata": {},
   "source": [
    "The enabled edges for a spanning tree of this graph.\n",
    "\n",
    "At network boot every switch needs to decide what ports to use so that the overall network forms a spanning tree.\n",
    "\n",
    "No switch has a global view of the network, but they all must agree together on the links to use.\n",
    "\n",
    "A distributed algorithm is used to do this.\n",
    "\n",
    "What needs to be decided?\n",
    "\n",
    "- who the root node is\n",
    "- which preferred ports to use to send packets towards the root"
   ]
  },
  {
   "cell_type": "markdown",
   "metadata": {},
   "source": [
    "## A Distributed Algorithm for Navigating a Switched Network\n",
    "\n",
    "To agree on the root and preferred ports, all switches exchange configuration messages.\n",
    "\n",
    "Configuration Messages contain:\n",
    "- The ID of the switch sending the message\n",
    "- The ID of the switch the sender thinks is the root\n",
    "- The distance in hops from the sender to the root\n",
    "\n",
    "At initialization, every switch sends a message to its neighbors claiming that it is the root and that it is 0 hops away from the root.\n",
    "\n",
    "At the end, the switch with the smallest ID will be root of the network.\n",
    "\n",
    "Every switch keeps track of three pieces of information:\n",
    "- Who the root is\n",
    "- How far away the root is\n",
    "- Which port to use to send messages to the root\n",
    "\n",
    "When a switch received a new configuration message, it will update its configuration if:\n",
    "\n",
    "- The messages identifies a root with a smaller ID\n",
    "    - Update who the root is and how far away the root it\n",
    "- The message identifies the same root but the sender is closer to the root\n",
    "    - Update the port to use to get to the root and the distance to the root\n",
    "- The message that identifies the same root and distance, but the sender has a smaller ID that the current preferred port\n",
    "    - Update the preferred port to go through the switch with the smaller ID\n",
    "\n",
    "After a switch is no longer the root, it does not originate messages, it only forwards along configuration messages received. When the network has converged to a spanning tree, only the root will be sending out messages.\n",
    "\n",
    "If a switch goes down, one of its neighbors will no longer be receiving messages from the root.\n",
    "\n",
    "When this happens, that switch will assume that the root has gone down and will start broadcasting that it is the root again, starting the process over again and forcing the network to converge to a new spanning tree."
   ]
  },
  {
   "cell_type": "markdown",
   "metadata": {},
   "source": [
    "<br>\n",
    "<img src=\"images/20-learning-bridges-spanning.png\" width=\"400\">\n",
    "<br>"
   ]
  },
  {
   "cell_type": "markdown",
   "metadata": {},
   "source": [
    "The algorithm from S3's perspective:\n",
    "\n",
    "Message Format: (Sender ID, Root ID, distance from sender to root)\n",
    "\n",
    "1) S3 receives (S5, S5, 0). S3 will not update its configuration since it has the smaller ID \n",
    "2) S3 received (S2, S2, 0). S3 accepts S2 as the root, update its distance to be 1, and updates the preferred port to be S2\n",
    "3) Meanwhile, S2 accepts S1 as the root and sends (S2, S1, 1). S3 will accept this, update its distance to be 2, and record S1 as the root\n",
    "4) S5 also accepts S1 and forwards along (S5, S1, 1). S3 doesn't accept this since its preferred port to S2 is a smaller ID than S5."
   ]
  }
 ],
 "metadata": {
  "language_info": {
   "name": "python"
  },
  "orig_nbformat": 4
 },
 "nbformat": 4,
 "nbformat_minor": 2
}
