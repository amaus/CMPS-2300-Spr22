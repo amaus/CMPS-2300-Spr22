{
 "cells": [
  {
   "cell_type": "markdown",
   "metadata": {},
   "source": [
    "# Switched Networks\n",
    "\n",
    "To start our discussion of routing between hosts, we'll examine switched networks.\n",
    "\n",
    "Remember an internet in an interconnected network of switched networks."
   ]
  },
  {
   "cell_type": "markdown",
   "metadata": {},
   "source": [
    "## Bridges\n",
    "\n",
    "A bridge is device that connects to groups of hosts:"
   ]
  },
  {
   "cell_type": "markdown",
   "metadata": {},
   "source": [
    "<br>\n",
    "<img src=\"images/18-simple-bridge.png\" width=\"400\">\n",
    "<br>"
   ]
  },
  {
   "cell_type": "markdown",
   "metadata": {},
   "source": [
    "The links on either side of the bridge are shared.\n",
    "\n",
    "If A sends a message destined to B, B will hear it because it is connected to the shared link. The job of the bridge is to decide whether to broadcast that message to the other link or not.\n",
    "\n",
    "A simple bridge keeps a table of the hosts connected to either port:\n",
    "\n",
    "```\n",
    "Host | Port\n",
    "-----------\n",
    " A   |  1\n",
    " B   |  1\n",
    " C   |  1\n",
    " X   |  2\n",
    " Y   |  2\n",
    " Z   |  2\n",
    "```\n",
    "\n",
    "With this table, the bridge can always decide whether it needs to forward a packet to the other port."
   ]
  },
  {
   "cell_type": "markdown",
   "metadata": {},
   "source": [
    "## Building the Table\n",
    "\n",
    "For very small static networks the table could be hard coded.\n",
    "\n",
    "For dynamic networks, the table is learned as packets are received.\n",
    "\n",
    "It starts out empty. When the bridge receives a packet on one of its ports, it added that host and port to its table.\n",
    "\n",
    "Every entry has a Time To Live (TTL). If TTL expires and no new messages have been received from that host, its entry is removed."
   ]
  },
  {
   "cell_type": "markdown",
   "metadata": {},
   "source": [
    "## A More Complicated Switched Network\n",
    "\n",
    "Many switched netwoks consist of a switches and hosts connected to them.\n",
    "\n"
   ]
  },
  {
   "cell_type": "markdown",
   "metadata": {},
   "source": [
    "<br>\n",
    "<img src=\"images/19-learning-bridges.png\" width=\"400\">\n",
    "<br>"
   ]
  }
 ],
 "metadata": {
  "language_info": {
   "name": "python"
  },
  "orig_nbformat": 4
 },
 "nbformat": 4,
 "nbformat_minor": 2
}
