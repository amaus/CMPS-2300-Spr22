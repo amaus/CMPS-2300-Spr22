{
 "cells": [
  {
   "cell_type": "markdown",
   "metadata": {},
   "source": [
    "# CPU Virtualization\n",
    "\n",
    "The job of a CPU is to run the user programs.\n",
    "\n",
    "We want to run many programs as once, N (# programs) >> M (# CPUs).\n",
    "\n",
    "The OS makes it look like every program gets its own CPU (an illusion, but it definitley simplies things for the programs).\n",
    "\n",
    "Key Abstraction: **The Process**\n",
    "\n",
    "A **process** is a running program.\n",
    "\n",
    "A process has:\n",
    "\n",
    "- a set of CPU registers\n",
    "  - general purpose registers for the program to use\n",
    "  - specific registers that contain specific information about this process\n",
    "    - **instruction pointer** aka **program counter**\n",
    "    - memory address registers\n",
    "- its own private memory address space"
   ]
  },
  {
   "cell_type": "markdown",
   "metadata": {},
   "source": [
    "<img src=\"images/process_address_space.png\" width=\"150\">"
   ]
  },
  {
   "cell_type": "markdown",
   "metadata": {},
   "source": [
    "This lecture will focus on the **mechanisms** of CPU virtualization. In future lectures, we will discuss **policies**.\n",
    "\n",
    "How to virtualize the CPU:\n",
    "\n",
    "To start simply, whenever we want to run a program, load it onto the CPU and just simply run it!\n",
    "\n",
    "This is **Direct Execution**.\n",
    "\n",
    "<img src=\"images/lde.png\" width=\"500\">"
   ]
  },
  {
   "cell_type": "markdown",
   "metadata": {},
   "source": [
    "Three problems with the above simple scheme:\n",
    "\n",
    "1) What if the process wants to perform a restricted operation?\n",
    "2) What if the OS wants to switch processes, stop P_a, start P_b.\n",
    "3) What if a process does something slow, like IO?"
   ]
  }
 ],
 "metadata": {
  "language_info": {
   "name": "python"
  },
  "orig_nbformat": 4
 },
 "nbformat": 4,
 "nbformat_minor": 2
}
