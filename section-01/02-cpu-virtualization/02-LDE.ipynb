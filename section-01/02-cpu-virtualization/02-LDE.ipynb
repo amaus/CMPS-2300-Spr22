{
 "cells": [
  {
   "cell_type": "markdown",
   "metadata": {},
   "source": [
    "# CPU Virtualization\n",
    "\n",
    "The job of a CPU is to run the user programs.\n",
    "\n",
    "We want to run many programs as once, N (# programs) >> M (# CPUs).\n",
    "\n",
    "The OS makes it look like every program gets its own CPU (an illusion, but it definitley simplies things for the programs).\n",
    "\n",
    "Key Abstraction: **The Process**\n",
    "\n",
    "A **process** is a running program.\n",
    "\n",
    "A process has:\n",
    "\n",
    "- a set of CPU registers\n",
    "  - general purpose registers for the program to use\n",
    "  - specific registers that contain specific information about this process\n",
    "    - **instruction pointer** aka **program counter**\n",
    "    - memory address registers\n",
    "- its own private memory address space"
   ]
  },
  {
   "cell_type": "markdown",
   "metadata": {},
   "source": [
    "<img src=\"images/process_address_space.png\" width=\"150\">"
   ]
  },
  {
   "cell_type": "markdown",
   "metadata": {},
   "source": [
    "This lecture will focus on the **mechanisms** of CPU virtualization. In future lectures, we will discuss **policies**.\n",
    "\n",
    "How to virtualize the CPU:\n",
    "\n",
    "To start simply, whenever we want to run a program, load it onto the CPU and just simply run it!\n",
    "\n",
    "This is **Direct Execution**.\n",
    "\n",
    "<img src=\"images/lde.png\" width=\"500\">"
   ]
  },
  {
   "cell_type": "markdown",
   "metadata": {},
   "source": [
    "Three problems with the above simple scheme:\n",
    "\n",
    "1) What if the process wants to perform a restricted operation?\n",
    "2) What if the OS wants to switch processes, stop P_a, start P_b.\n",
    "3) What if a process does something slow, like IO?"
   ]
  },
  {
   "cell_type": "markdown",
   "metadata": {},
   "source": [
    "# Problem 1: Restricted Ops\n",
    "\n",
    "The CPU has two modes: Kernel (priviledged) and User (unpriviledged) modes.\n",
    "\n",
    "We need a way to switch from User and Kernel Mode and back again.\n",
    "\n",
    "Anytime a user process makes a **System Call**, it is asking the OS to perform some priviledged operation.\n",
    "\n",
    "Ultimately, sys calls are just functions implemented within the OS, but in order for the CPU to be able to execute them, the CPU Mode must be switched to kernel mode.\n",
    "\n",
    "When a system call is made, a **trap** is executed. The process traps down to the OS.\n",
    "\n",
    "The trap:\n",
    "1) it switched the mode of the CPU to kernel mode\n",
    "2) runs a trap handler for the system call.\n",
    "\n",
    "The trap handler looks up in the trap table where the code is for the actual system call and then the OS executes it.\n",
    "\n",
    "When OS boots, the trap table is built. The trap table contains a mapping from every system call to the actual code in the OS for that system call.\n",
    "\n",
    "Once the System Call is complete, then the OS returns from the trap back to the user process."
   ]
  },
  {
   "cell_type": "markdown",
   "metadata": {},
   "source": [
    "<img src=\"images/lde_traps.png\" width=\"500\">"
   ]
  },
  {
   "cell_type": "markdown",
   "metadata": {},
   "source": [
    "## Problem #2: Switching Processes\n",
    "\n",
    "We switch from one process to another by performing a **context switch**. \n",
    "\n",
    "A context switch swaps saves the registers of the running process into the kernel stack and loads the registers of the to-be-running process from the kernel onto the cpu.\n",
    "\n",
    "<img src=\"images/context_switch.png\" width=\"500\">"
   ]
  },
  {
   "cell_type": "markdown",
   "metadata": {},
   "source": [
    "Since we can switch processes on and off of the CPU, processes can have different states:\n",
    "1) running\n",
    "2) ready\n",
    "3) blocked"
   ]
  },
  {
   "cell_type": "markdown",
   "metadata": {},
   "source": [
    "## Problem 3: Slow Ops\n",
    "\n",
    "In order to perform I/O, like writing to a disk, the OS, sends a reqest to the hard disk which will (eventually) execute it, and then let the OS know that it has finished.\n",
    "\n",
    "Whenever some process makes an IO request, rather than sitting on the CPU and doing nothing while it waits for that request to complete, the OS will switch another process on to make use of the CPU.\n",
    "\n",
    "A process that is waiting on an IO request to complete (or some other condition to be true) is put in the **blocked state**."
   ]
  },
  {
   "cell_type": "markdown",
   "metadata": {},
   "source": [
    "# Limited Direct Execution\n",
    "\n",
    "The OS directly executes user processes with limits. At key points, the OS gets in the way of user processes to retain control of the whole system."
   ]
  }
 ],
 "metadata": {
  "language_info": {
   "name": "python"
  },
  "orig_nbformat": 4
 },
 "nbformat": 4,
 "nbformat_minor": 2
}
