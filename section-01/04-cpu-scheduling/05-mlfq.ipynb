{
 "cells": [
  {
   "cell_type": "markdown",
   "metadata": {},
   "source": [
    "# A realistic algorithm\n",
    "\n",
    "All algorithms that we've discussed so far (FIFO, SJF, STCF, Round Robin) relied on knowledge of what will happen.\n",
    "\n",
    "In a realistic algorithm, we do not have this.\n",
    "\n",
    "Also, we've seen that we have two competing metrics, turnaround time (TT) and response time (RT).\n",
    "\n",
    "Our algorithm can not require future knowledge and should balance TT and RT.\n",
    "\n",
    "If we don't have future knowledge, rely on past experience. We will learn if a job is interactive or CPU intensive as it runs."
   ]
  },
  {
   "cell_type": "markdown",
   "metadata": {},
   "source": [
    "## Multi-Level Feedback Queue\n",
    "\n",
    "We will have multiple queues which each operate in round robin fashion.\n",
    "\n",
    "Each queue corresponds to a priority level."
   ]
  },
  {
   "cell_type": "markdown",
   "metadata": {},
   "source": [
    "<br>\n",
    "<img src=\"images/mlfq_1.png\" width=\"250\">\n",
    "<br>"
   ]
  },
  {
   "cell_type": "markdown",
   "metadata": {},
   "source": [
    "**Base Rules**\n",
    "\n",
    "1) if P(A) > P(B), run A\n",
    "2) if P(A) == P(B), run them in round robin fashion\n",
    "3) start jobs at the highest priority\n",
    "4) \n",
    "    - if a job finishes a whole time slice without issuing any sys calls, move it down a priority level\n",
    "    - if it issues a system call, keep it at its current priority level"
   ]
  },
  {
   "cell_type": "markdown",
   "metadata": {},
   "source": [
    "<br>\n",
    "<img src=\"images/mlfq_2.png\" width=\"300\">\n",
    "<br>"
   ]
  },
  {
   "cell_type": "markdown",
   "metadata": {},
   "source": [
    "<br>\n",
    "<img src=\"images/mlfq_3.png\" width=\"300\">\n",
    "<br>"
   ]
  },
  {
   "cell_type": "markdown",
   "metadata": {},
   "source": [
    "<br>\n",
    "<img src=\"images/mlfq_4.png\" width=\"500\">\n",
    "<br>"
   ]
  },
  {
   "cell_type": "markdown",
   "metadata": {},
   "source": [
    "### 2 problems with our algorithm so far\n",
    "\n",
    "1) It is entirely possible for low priority jobs to starve.\n",
    "2) jobs can game the system by deliberately making systems before their time slice is up to stay at their current priority.\n",
    "\n",
    "To solve starvation, we can periodically boost every job up to the highest priority."
   ]
  },
  {
   "cell_type": "markdown",
   "metadata": {},
   "source": [
    "<br>\n",
    "<img src=\"images/mlfq_5.png\" width=\"500\">\n",
    "<br>"
   ]
  },
  {
   "cell_type": "markdown",
   "metadata": {},
   "source": [
    "MLFQ Rules:\n",
    "\n",
    "1) if P(A) > P(B), run A\n",
    "2) if P(A) == P(B), run them in round robin fashion\n",
    "3) start jobs at the highest priority\n",
    "4) \n",
    "    - if a job finishes a whole time slice without issuing any sys calls, move it down a priority level\n",
    "    - if it issues a system call, keep it at its current priority level\n",
    "5) After some time period S, boost all jobs back to the highest priority.\n",
    "\n",
    "Rule 5 allows CPU intensive jobs to not starve, but it also allows jobs which start CPU intensive but become interactive a chance back at the highest priorities."
   ]
  },
  {
   "cell_type": "markdown",
   "metadata": {},
   "source": [
    "To solve the gaming issue, we need to address that the behavior of the algorithm is based on system calls which a program can decide to use.\n",
    "\n",
    "To remove the algorithmic dependence on system calls:\n",
    "\n",
    "Modified rule 4:\n",
    "\n",
    "4) Once a job has used up its entire time slice (cummulatively), no matter how many system calls its make, move it down a level."
   ]
  },
  {
   "cell_type": "markdown",
   "metadata": {},
   "source": [
    "<br>\n",
    "<img src=\"images/mlfq_6.png\" width=\"500\">\n",
    "<br>"
   ]
  },
  {
   "cell_type": "markdown",
   "metadata": {},
   "source": [
    "This is the full final rule set:\n",
    "\n",
    "1) if P(A) > P(B), run A\n",
    "2) if P(A) == P(B), run them in round robin fashion\n",
    "3) start jobs at the highest priority\n",
    "4) Once a job has used up its entire time slice (cummulatively), no matter how many system calls its make, move it down a level.\n",
    "5) After some time period S, boost all jobs back to the highest priority."
   ]
  }
 ],
 "metadata": {
  "language_info": {
   "name": "python"
  },
  "orig_nbformat": 4
 },
 "nbformat": 4,
 "nbformat_minor": 2
}
