{
 "cells": [
  {
   "cell_type": "code",
   "execution_count": 3,
   "metadata": {},
   "outputs": [],
   "source": [
    "from statistics import mean"
   ]
  },
  {
   "cell_type": "markdown",
   "metadata": {},
   "source": [
    "# CPU Scheduling\n",
    "\n",
    "Every X cycles, a **timer interrupt** executes, allowing the OS to switch processes on the CPU.\n",
    "\n",
    "The goal is the allow every process to get some time on the CPU. This is known as **time sharing**.\n",
    "\n",
    "Processes will take turns on the CPU, each getting to run for some **time slice** (or **quanta**).\n",
    "\n",
    "Assumptions:\n",
    "\n",
    "- all jobs arrive at the same time\n",
    "- each job only uses the CPU, no IO\n",
    "- each process runs for the same amount of time\n",
    "- runtime is known at start\n",
    "- we want to optimize **turnaround time**\n",
    "\n",
    "**turnaround time** is the time it takes for a job to complete.\n",
    "\n",
    "`turnaround_time = t_complete - t_arrive`\n",
    "\n",
    "## Algorithm 1: Use a queue, FIFO\n",
    "\n",
    "Run the jobs one after another, each to completion.\n",
    "\n"
   ]
  },
  {
   "cell_type": "markdown",
   "metadata": {},
   "source": [
    "<br>\n",
    "<img src=\"images/fifo_1.png\" width=\"300\">\n",
    "<br>"
   ]
  },
  {
   "cell_type": "code",
   "execution_count": 4,
   "metadata": {},
   "outputs": [
    {
     "data": {
      "text/plain": [
       "20"
      ]
     },
     "execution_count": 4,
     "metadata": {},
     "output_type": "execute_result"
    }
   ],
   "source": [
    "# ave turnaround time:\n",
    "mean([10,20,30]) "
   ]
  },
  {
   "cell_type": "markdown",
   "metadata": {},
   "source": [
    "\n",
    "Potential problem? What if we relax the assumption that they all take the same amount of time?\n",
    "\n",
    "What if process a takes 100ms?"
   ]
  },
  {
   "cell_type": "markdown",
   "metadata": {},
   "source": [
    "<br>\n",
    "<img src=\"images/fifo_2.png\" width=\"300\">\n",
    "<br>"
   ]
  },
  {
   "cell_type": "code",
   "execution_count": 5,
   "metadata": {},
   "outputs": [
    {
     "data": {
      "text/plain": [
       "110"
      ]
     },
     "execution_count": 5,
     "metadata": {},
     "output_type": "execute_result"
    }
   ],
   "source": [
    "# ave turnaround time:\n",
    "mean([100,110,120]) "
   ]
  },
  {
   "cell_type": "markdown",
   "metadata": {},
   "source": [
    "# Algorithm 2: Shortest Job First\n",
    "\n",
    "Now we can order the jobs by the amount of time they require.\n",
    "\n",
    "Run the jobs in order of shortest runtime to largest runtime.\n",
    "\n",
    "For our example, let b, and c run first:"
   ]
  },
  {
   "cell_type": "markdown",
   "metadata": {},
   "source": [
    "<br>\n",
    "<img src=\"images/sjf_1.png\" width=\"300\">\n",
    "<br>"
   ]
  },
  {
   "cell_type": "code",
   "execution_count": 6,
   "metadata": {},
   "outputs": [
    {
     "data": {
      "text/plain": [
       "50"
      ]
     },
     "execution_count": 6,
     "metadata": {},
     "output_type": "execute_result"
    }
   ],
   "source": [
    "# ave turnaround time?\n",
    "mean([10, 20, 120])"
   ]
  },
  {
   "cell_type": "markdown",
   "metadata": {},
   "source": [
    "Let's continue to approach reality.\n",
    "\n",
    "What if we relax the assumtion that they all arrive at the same time?"
   ]
  },
  {
   "cell_type": "markdown",
   "metadata": {},
   "source": [
    "<br>\n",
    "<img src=\"images/sjf_2.png\" width=\"300\">\n",
    "<br>"
   ]
  },
  {
   "cell_type": "markdown",
   "metadata": {},
   "source": [
    "# Algorithm 3: Shortest time to completion first\n",
    "\n",
    "When new jobs arrive schedule them based on the shortest time to completion."
   ]
  },
  {
   "cell_type": "markdown",
   "metadata": {},
   "source": [
    "<br>\n",
    "<img src=\"images/stcf_1.png\" width=\"300\">\n",
    "<br>"
   ]
  },
  {
   "cell_type": "markdown",
   "metadata": {},
   "source": [
    "Now let's relax the assumption that jobs only use the CPU.\n",
    "\n",
    "What if our jobs want to perform IO. What if they are interactive?\n",
    "\n",
    "If we want optimize for maximum responsiveness, will turnaround guarantee this? No. \n",
    "\n",
    "We want to optimize for **response time**. We want to minimize the amount of time from when it is submitted to when it gets its first CPU cycles.\n",
    "\n",
    "response_time = t_start - t_arrive."
   ]
  },
  {
   "cell_type": "markdown",
   "metadata": {},
   "source": [
    "<br>\n",
    "<img src=\"images/stcf_2.png\" width=\"300\">\n",
    "<br>"
   ]
  },
  {
   "cell_type": "code",
   "execution_count": 10,
   "metadata": {},
   "outputs": [
    {
     "name": "stdout",
     "output_type": "stream",
     "text": [
      "Ave Turnaround Time: 10\n",
      "Ave Response Time: 5\n"
     ]
    }
   ],
   "source": [
    "# ave TT\n",
    "print(\"Ave Turnaround Time:\", mean([5, 10, 15]))\n",
    "\n",
    "# ave RT\n",
    "print(\"Ave Response Time:\", mean([0, 5, 10]))"
   ]
  },
  {
   "cell_type": "markdown",
   "metadata": {},
   "source": [
    "C won't be responsive at all until after t=10.\n",
    "\n",
    "If interleave our jobs, let them run for small time slices and continue to cycle through them, the overall response time will be lower.\n",
    "\n",
    "This is:\n",
    "\n",
    "# Algorithm 4: Round Robin"
   ]
  },
  {
   "cell_type": "markdown",
   "metadata": {},
   "source": [
    "<br>\n",
    "<img src=\"images/rr.png\" width=\"300\">\n",
    "<br>"
   ]
  },
  {
   "cell_type": "code",
   "execution_count": 11,
   "metadata": {},
   "outputs": [
    {
     "name": "stdout",
     "output_type": "stream",
     "text": [
      "Ave Turnaround Time: 14\n",
      "Ave Response Time: 1\n"
     ]
    }
   ],
   "source": [
    "# ave TT\n",
    "print(\"Ave Turnaround Time:\", mean([13, 14, 15]))\n",
    "\n",
    "# ave RT\n",
    "print(\"Ave Response Time:\", mean([0, 1, 2]))"
   ]
  }
 ],
 "metadata": {
  "interpreter": {
   "hash": "aee8b7b246df8f9039afb4144a1f6fd8d2ca17a180786b69acc140d282b71a49"
  },
  "kernelspec": {
   "display_name": "Python 3.9.6 64-bit",
   "language": "python",
   "name": "python3"
  },
  "language_info": {
   "codemirror_mode": {
    "name": "ipython",
    "version": 3
   },
   "file_extension": ".py",
   "mimetype": "text/x-python",
   "name": "python",
   "nbconvert_exporter": "python",
   "pygments_lexer": "ipython3",
   "version": "3.9.6"
  },
  "orig_nbformat": 4
 },
 "nbformat": 4,
 "nbformat_minor": 2
}
