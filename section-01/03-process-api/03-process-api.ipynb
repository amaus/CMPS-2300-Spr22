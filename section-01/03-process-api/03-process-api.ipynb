{
 "cells": [
  {
   "cell_type": "markdown",
   "metadata": {},
   "source": [
    "## The Process API\n",
    "\n",
    "We have several system calls that allow us to create and manage processes.\n",
    "\n",
    "### `fork()`\n",
    "\n",
    "`fork()` allows us to create an (almost) carbon copy of an existing process.\n",
    "\n",
    "Both processes (the parent and child) both then run \"at the same time\". They are both independent processes now executing on the computer.\n",
    "\n",
    "```\n",
    "       /-----parent----->\n",
    "-------\n",
    "       \\-----child------>\n",
    "```\n",
    "\n",
    "`fork()` is a system call that we make in a program that creates a copy of the program. It returns in both the child and the parent.\n",
    "\n",
    "It has a return code which lets us know whether it was successful and if so whether we are in the parent or child.\n",
    "\n",
    "In the parent, `fork()` either a negative number (if it failed) or the PID of the child process.\n",
    "\n",
    "In the child, `fork()` returns 0."
   ]
  },
  {
   "cell_type": "markdown",
   "metadata": {},
   "source": [
    "## `wait()`\n",
    "\n",
    "It is often extremely useful/cruicial to have the child finish its work before the parent continues execution.\n",
    "\n",
    "The `wait()` system call allows us to tell the parent to wait for the child to finish before continuing.\n",
    "\n",
    "In order to access the exit status of the child process, `wait()` can take in a pointer to `int` where that exit status will be stored.\n",
    "\n",
    "`wait()` also returns its own exit status (whether it failed or not).\n",
    "\n",
    "`waitpid(int pid)` which will wait for the the process with PID `pid` to complete."
   ]
  },
  {
   "cell_type": "markdown",
   "metadata": {},
   "source": [
    "# Exec family of system calls\n",
    "\n",
    "`exec` repaces the current process image with a different process image.\n",
    "\n",
    "It replaces the current running program with a different one."
   ]
  },
  {
   "cell_type": "markdown",
   "metadata": {},
   "source": [
    "### Why separate fork and exec calls?\n",
    "\n",
    "Why do we have these two separate calls instead of a single `runprogram()` type of call?\n",
    "\n",
    "By having two separate calls, as programmers, we can issue instruction (updating the environment) after forking a new process but before running the new program.\n",
    "\n"
   ]
  }
 ],
 "metadata": {
  "language_info": {
   "name": "python"
  },
  "orig_nbformat": 4
 },
 "nbformat": 4,
 "nbformat_minor": 2
}
