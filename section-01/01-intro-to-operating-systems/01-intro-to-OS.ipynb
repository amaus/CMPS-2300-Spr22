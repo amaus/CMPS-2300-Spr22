{
 "cells": [
  {
   "cell_type": "markdown",
   "metadata": {},
   "source": [
    "# What is an Operating System?\n",
    "\n",
    "An operating system is a resource manager. It's responsible for sharing the resources of\n",
    "your computer, your hardware, amongst all of the programs that the user wants to run\n",
    "on the computer. It needs to do this stablely, safely, securely.\n",
    "\n",
    "The OS shares limited resources by **virtualizing** them.\n",
    "\n",
    "What resources need to be shared?\n",
    "- CPU\n",
    "  - Every process thinks it has unlimited access to a CPU, but in reality all processes\n",
    "    are shared on a limited set of CPUs\n",
    "- Memory\n",
    "  - Every process thinks it has unlimited access to the computers memory, but in reality\n",
    "    every process is given virtual memory which must be distributed throughout physical\n",
    "    memory.\n",
    "- Hard Disks (file system)\n",
    "\n",
    "Programs can have multiple threads. The OS is responsible for safely managing these multiple\n",
    "threads. Concurrency is baked right into OS's because they are inherently concurrent programs\n",
    "themselves.\n"
   ]
  }
 ],
 "metadata": {
  "language_info": {
   "name": "python"
  },
  "orig_nbformat": 4
 },
 "nbformat": 4,
 "nbformat_minor": 2
}
