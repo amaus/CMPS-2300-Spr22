{
 "cells": [
  {
   "cell_type": "markdown",
   "metadata": {},
   "source": [
    "# What is an Operating System?\n",
    "\n",
    "An operating system is a resource manager. It's responsible for sharing the resources of\n",
    "your computer, your hardware, amongst all of the programs that the user wants to run\n",
    "on the computer. It needs to do this stablely, safely, securely.\n",
    "\n",
    "The OS shares limited resources by **virtualizing** them.\n",
    "\n",
    "What resources need to be shared?\n",
    "- CPU\n",
    "  - Every process thinks it has unlimited access to a CPU, but in reality all processes\n",
    "    are shared on a limited set of CPUs\n",
    "- Memory\n",
    "  - Every process thinks it has unlimited access to the computers memory, but in reality\n",
    "    every process is given virtual memory which must be distributed throughout physical\n",
    "    memory.\n",
    "- Hard Disks (file system)\n",
    "\n",
    "Programs can have multiple threads. The OS is responsible for safely managing these multiple\n",
    "threads. Concurrency is baked right into OS's because they are inherently concurrent programs\n",
    "themselves.\n"
   ]
  },
  {
   "cell_type": "markdown",
   "metadata": {},
   "source": [
    "# A brief history of OS development\n",
    "\n",
    "1) The first \"OS's\" were collections of functions that could be called to interact with the computer's hardware.\n",
    "   - Batch processing, programs ordered and run by a human\n",
    "\n",
    "2) Mainframes. Many programs could be loaded onto the computer and then run by swapping them\n",
    "   on and off of the CPU.\n",
    "   - Security became paramount. To protect programs from each other and the computer from the programs running on it, the libraries of os calls became **system calls**. \n",
    "   - A system call is very special function that has access to\n",
    "   the computer hardware. When a syscall is made, the OS jumps to a \n",
    "   priviledged mode to perform the task, then \n",
    "   it returns back to user mode and gives control back to the user programs.\n",
    "\n",
    "3) Minicomputers, ex the PDP. Could fit in a single room.\n",
    "   - More developers could now have access to their own computers (within their team).\n",
    "   \n",
    "4) PCs (1980's) - many lessons from the mainframe error were forgotten. \n",
    "   - DOS allowed programs to write over ALL memory.\n",
    "   - Infinite loops on a mac would halt the entire computer\n",
    "\n",
    "5) Modern - Important features and protections have been added back and improved upon and OS's have\n",
    "  proliferated from computers, to phones, watches, etc..."
   ]
  }
 ],
 "metadata": {
  "language_info": {
   "name": "python"
  },
  "orig_nbformat": 4
 },
 "nbformat": 4,
 "nbformat_minor": 2
}
